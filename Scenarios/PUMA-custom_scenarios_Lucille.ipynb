{
 "cells": [
  {
   "cell_type": "markdown",
   "id": "ecc8a830-ac86-48ea-a932-f5221c61fdf9",
   "metadata": {},
   "source": [
    "## Custom scenarios using `premise`\n",
    "\n",
    "#### Github repository: [https://github.com/premise-community-scenarios](https://github.com/premise-community-scenarios)\n",
    "#### Documentation: [https://premise.readthedocs.io/en/latest/user_scenarios.html](https://premise.readthedocs.io/en/latest/user_scenarios.html)\n",
    "#### Tutorial author: Romain Sacchi\n",
    "#### Duration: 2 hours"
   ]
  },
  {
   "cell_type": "markdown",
   "id": "610f0047-e5b8-4a39-975e-d4388532354b",
   "metadata": {},
   "source": [
    "`premise` accepts [`datapackages`](https://specs.frictionlessdata.io/data-package/) which contain enough information to build and implement a scenario.\n",
    "\n",
    "Datapackages for `premise` essentially contain:\n",
    "1. a datapackage.json file, describing the resources contained by the datapackage\n",
    "2. an inventory file (optional), if `premise` needs to import some inventories not present in ecoinvent\n",
    "3. a scenario data table, contianing variables and their values for each time step\n",
    "4. a config-yaml file, telling `premise` how to interpret the variables contained in the scenario data table."
   ]
  },
  {
   "cell_type": "markdown",
   "id": "06e4a357-f23f-42c8-83ab-9d8f8a3b9b3c",
   "metadata": {},
   "source": [
    "In this exercise, we will want to model a market for bread which will present varying shares for three bread recipes:\n",
    "\n",
    "* Activated Dough Development\n",
    "* Straight Dough Method\n",
    "* Delayed Salt Method\n",
    "\n",
    "The resulting datapackage [already exists](https://github.com/premise-community-scenarios/scenario-example-bread), let's have a look at it."
   ]
  },
  {
   "cell_type": "markdown",
   "id": "b1b50547-38f5-4f39-8ca7-3de369f62d8b",
   "metadata": {},
   "source": [
    "## datapackage.json"
   ]
  },
  {
   "cell_type": "markdown",
   "id": "bbfdfbe1-00c4-4660-874c-464cd6760bf1",
   "metadata": {},
   "source": [
    "- It defines the datapackage\n",
    "- Allows you to fill in metadata (author of the scenario, license, etc.)\n",
    "- Defines resources (files) and where to find the,"
   ]
  },
  {
   "cell_type": "markdown",
   "id": "463879a4-a810-4216-b85b-00d89edcbf49",
   "metadata": {},
   "source": [
    "## Scenario data"
   ]
  },
  {
   "cell_type": "markdown",
   "id": "68f8cf40-e66f-4d58-be8f-e3b8e2afdd0e",
   "metadata": {},
   "source": [
    "- Tabular data\n",
    "- CSV format\n",
    "- Variables: production volumes, efficiencies, etc.\n",
    "- Timeseries"
   ]
  },
  {
   "cell_type": "markdown",
   "id": "9cf4c53e-090a-49de-acf6-eb2807db5ae8",
   "metadata": {},
   "source": [
    "## config.yaml"
   ]
  },
  {
   "cell_type": "markdown",
   "id": "69810df8-1ee2-4caa-b74c-0291f9809a9b",
   "metadata": {},
   "source": [
    "- YAML file\n",
    "- Gives instructions to premise on what to do.\n",
    "- One can declare technologies/suppliers, modify their efficiency over time, create markets and substitute suppliers with new ones."
   ]
  },
  {
   "cell_type": "markdown",
   "id": "0b3c6225-14ce-496f-a727-743ceadc42a6",
   "metadata": {},
   "source": [
    "## Additional inventories"
   ]
  },
  {
   "cell_type": "markdown",
   "id": "c7e9e3a3-a301-4a28-a4f6-5c434408099b",
   "metadata": {},
   "source": [
    "- Optional. If your cscenario reuires inventories not prensent in the premise database."
   ]
  },
  {
   "cell_type": "markdown",
   "id": "6d898c41-ab81-490c-b8b2-04430ed3c55c",
   "metadata": {},
   "source": [
    "## Running custom scenario in `premise`"
   ]
  },
  {
   "cell_type": "markdown",
   "id": "f13dbda8-fb85-4a34-8d30-537224867310",
   "metadata": {},
   "source": [
    "In theory, your datapackage is now defined, the necessary metadata is filled and the resources declared, and all the components are present for `premise` to interpret it."
   ]
  },
  {
   "cell_type": "markdown",
   "id": "4b82cab5-d391-40f1-bdc4-6984d651be21",
   "metadata": {},
   "source": [
    "Now, let's have a look at the content of these files, and when this is done, we can run it, like so:"
   ]
  },
  {
   "cell_type": "code",
   "execution_count": 32,
   "id": "80ac6f31-2713-42ee-8929-5525347b2a4b",
   "metadata": {},
   "outputs": [],
   "source": [
    "from premise import *\n",
    "from datapackage import Package\n",
    "import bw2data as bw"
   ]
  },
  {
   "cell_type": "code",
   "execution_count": 3,
   "id": "5424fda3-657a-470e-bc2f-b5237078be7e",
   "metadata": {
    "tags": []
   },
   "outputs": [],
   "source": [
    "urls = [\n",
    "    \"C:/Users/lucille.baucal-poyac/as23_buildings/autumn-school-bw2/ProspectiveScenarios/cas_shareMarketCement__us/datapackage.json\",\n",
    "]"
   ]
  },
  {
   "cell_type": "code",
   "execution_count": 4,
   "id": "c2de5645-2e6b-4d7e-bb17-bd18c78f678e",
   "metadata": {
    "tags": []
   },
   "outputs": [],
   "source": [
    "bw.projects.set_current(\"default\")"
   ]
  },
  {
   "cell_type": "code",
   "execution_count": 5,
   "id": "cfa1cff9-fea9-4090-972a-7120875bc34d",
   "metadata": {
    "tags": []
   },
   "outputs": [
    {
     "data": {
      "text/plain": [
       "Databases dictionary with 4 object(s):\n",
       "\tbiosphere3\n",
       "\tcutoff391\n",
       "\tecoinvent-391-cutoff\n",
       "\ttest"
      ]
     },
     "execution_count": 5,
     "metadata": {},
     "output_type": "execute_result"
    }
   ],
   "source": [
    "bw.databases"
   ]
  },
  {
   "cell_type": "code",
   "execution_count": 28,
   "id": "53e80dfe-d282-4bf1-8926-f0215a7cd6ae",
   "metadata": {
    "tags": []
   },
   "outputs": [],
   "source": [
    "bw.projects.set_current(\"PUMA-custom_scenario_v23\")"
   ]
  },
  {
   "cell_type": "code",
   "execution_count": 29,
   "id": "d523b1a1-4f3b-48da-af85-4ea365020c1b",
   "metadata": {
    "tags": []
   },
   "outputs": [
    {
     "data": {
      "text/plain": [
       "Databases dictionary with 0 objects"
      ]
     },
     "execution_count": 29,
     "metadata": {},
     "output_type": "execute_result"
    }
   ],
   "source": [
    "bw.databases"
   ]
  },
  {
   "cell_type": "code",
   "execution_count": 30,
   "id": "6b270fa8-c978-4b02-927c-9c16949dfeac",
   "metadata": {
    "tags": []
   },
   "outputs": [
    {
     "ename": "AttributeError",
     "evalue": "module 'bw2data' has no attribute 'SingleOutputEcospold2Importer'",
     "output_type": "error",
     "traceback": [
      "\u001b[1;31m---------------------------------------------------------------------------\u001b[0m",
      "\u001b[1;31mAttributeError\u001b[0m                            Traceback (most recent call last)",
      "Cell \u001b[1;32mIn[30], line 8\u001b[0m\n\u001b[0;32m      6\u001b[0m fpei35cut \u001b[38;5;241m=\u001b[39m \u001b[38;5;124mr\u001b[39m\u001b[38;5;124m\"\u001b[39m\u001b[38;5;124mC:\u001b[39m\u001b[38;5;124m\\\u001b[39m\u001b[38;5;124mUsers\u001b[39m\u001b[38;5;124m\\\u001b[39m\u001b[38;5;124mlucille.baucal-poyac\u001b[39m\u001b[38;5;124m\\\u001b[39m\u001b[38;5;124mDesktop\u001b[39m\u001b[38;5;124m\\\u001b[39m\u001b[38;5;124mDocuments CETU\u001b[39m\u001b[38;5;124m\\\u001b[39m\u001b[38;5;124mBDD environnementales\u001b[39m\u001b[38;5;124m\\\u001b[39m\u001b[38;5;124mecoinvent_cutoff_391\u001b[39m\u001b[38;5;124m\\\u001b[39m\u001b[38;5;124mdatasets\u001b[39m\u001b[38;5;124m\"\u001b[39m\n\u001b[0;32m      7\u001b[0m \u001b[38;5;66;03m# the \"r\" makes sure that the path is read as a string - especially useful when you have spaces in your string\u001b[39;00m\n\u001b[1;32m----> 8\u001b[0m ei35cut \u001b[38;5;241m=\u001b[39m \u001b[43mbw\u001b[49m\u001b[38;5;241;43m.\u001b[39;49m\u001b[43mSingleOutputEcospold2Importer\u001b[49m(fpei35cut, \u001b[38;5;124m'\u001b[39m\u001b[38;5;124mcutoff391\u001b[39m\u001b[38;5;124m'\u001b[39m)\n\u001b[0;32m      9\u001b[0m ei35cut\n\u001b[0;32m     10\u001b[0m ei35cut\u001b[38;5;241m.\u001b[39mapply_strategies()\n",
      "\u001b[1;31mAttributeError\u001b[0m: module 'bw2data' has no attribute 'SingleOutputEcospold2Importer'"
     ]
    }
   ],
   "source": [
    "#ecoinvent\n",
    "if 'cutoff391' in bw.databases:\n",
    "    print(\"Database has already been imported.\")\n",
    "else:\n",
    "    # mind that the ecoinvent file must be unzipped; then: path to the datasets subfolder\n",
    "    fpei35cut = r\"C:\\Users\\lucille.baucal-poyac\\Desktop\\Documents CETU\\BDD environnementales\\ecoinvent_cutoff_391\\datasets\"\n",
    "    # the \"r\" makes sure that the path is read as a string - especially useful when you have spaces in your string\n",
    "    ei35cut = bw.SingleOutputEcospold2Importer(fpei35cut, 'cutoff391')\n",
    "    ei35cut\n",
    "    ei35cut.apply_strategies()\n",
    "    ei35cut.statistics()"
   ]
  },
  {
   "cell_type": "code",
   "execution_count": 6,
   "id": "72fa5a7b-d082-4a0b-a816-42c1e9af7776",
   "metadata": {
    "tags": []
   },
   "outputs": [],
   "source": [
    "if \"PUMA-custom_scenario\" not in bw.projects:\n",
    "    bw.projects.copy_project(\"PUMA-custom_scenario_v2\")"
   ]
  },
  {
   "cell_type": "code",
   "execution_count": 7,
   "id": "9ee49a72-523f-4136-a24a-daaf42aa1b68",
   "metadata": {
    "tags": []
   },
   "outputs": [
    {
     "data": {
      "text/plain": [
       "Databases dictionary with 4 object(s):\n",
       "\tbiosphere3\n",
       "\tcutoff391\n",
       "\tecoinvent-391-cutoff\n",
       "\ttest"
      ]
     },
     "execution_count": 7,
     "metadata": {},
     "output_type": "execute_result"
    }
   ],
   "source": [
    "bw.databases"
   ]
  },
  {
   "cell_type": "markdown",
   "id": "35412ec2-bfc2-48c8-ba16-a5b4cb6e6db0",
   "metadata": {},
   "source": [
    "# Define scenarios"
   ]
  },
  {
   "cell_type": "code",
   "execution_count": 8,
   "id": "91a399c1-815b-44ff-8c1c-7d4b864b661b",
   "metadata": {
    "tags": []
   },
   "outputs": [],
   "source": [
    "if 'SSP2-Base 2020' in bw.databases:\n",
    "    del bw.databases['SSP2-Base 2020']"
   ]
  },
  {
   "cell_type": "code",
   "execution_count": 9,
   "id": "de8da217-7129-4603-8303-bb1c10bcb3d8",
   "metadata": {
    "tags": []
   },
   "outputs": [
    {
     "data": {
      "text/plain": [
       "Databases dictionary with 4 object(s):\n",
       "\tbiosphere3\n",
       "\tcutoff391\n",
       "\tecoinvent-391-cutoff\n",
       "\ttest"
      ]
     },
     "execution_count": 9,
     "metadata": {},
     "output_type": "execute_result"
    }
   ],
   "source": [
    "bw.databases"
   ]
  },
  {
   "cell_type": "code",
   "execution_count": 10,
   "id": "ac0b89b1-0967-40fa-9f36-0c441031347c",
   "metadata": {
    "tags": []
   },
   "outputs": [
    {
     "name": "stdout",
     "output_type": "stream",
     "text": [
      "14\n",
      "[{'model': 'image', 'pathway': 'SSP2-Base', 'year': 2020}, {'model': 'image', 'pathway': 'SSP2-Base', 'year': 2025}, {'model': 'image', 'pathway': 'SSP2-Base', 'year': 2030}, {'model': 'image', 'pathway': 'SSP2-Base', 'year': 2035}, {'model': 'image', 'pathway': 'SSP2-Base', 'year': 2040}, {'model': 'image', 'pathway': 'SSP2-Base', 'year': 2045}, {'model': 'image', 'pathway': 'SSP2-Base', 'year': 2050}, {'model': 'image', 'pathway': 'SSP2-RCP26', 'year': 2020}, {'model': 'image', 'pathway': 'SSP2-RCP26', 'year': 2025}, {'model': 'image', 'pathway': 'SSP2-RCP26', 'year': 2030}, {'model': 'image', 'pathway': 'SSP2-RCP26', 'year': 2035}, {'model': 'image', 'pathway': 'SSP2-RCP26', 'year': 2040}, {'model': 'image', 'pathway': 'SSP2-RCP26', 'year': 2045}, {'model': 'image', 'pathway': 'SSP2-RCP26', 'year': 2050}]\n"
     ]
    }
   ],
   "source": [
    "scenarios_SSP = []\n",
    "pathway_list = [\"SSP2-Base\",\"SSP2-RCP26\"]\n",
    "year_list = [2020,2025,2030,2035,2040,2045,2050]\n",
    "\n",
    "for pathways in pathway_list:\n",
    "    for years in year_list:\n",
    "        scenarios_SSP.append({'model': 'image', 'pathway': pathways, 'year': years})\n",
    "print(len(scenarios_SSP))\n",
    "print(scenarios_SSP)"
   ]
  },
  {
   "cell_type": "code",
   "execution_count": 20,
   "id": "ac49309f-d22c-46cd-ba27-06bfcfaa38e5",
   "metadata": {
    "tags": []
   },
   "outputs": [
    {
     "name": "stdout",
     "output_type": "stream",
     "text": [
      "Cache folder cleared!\n"
     ]
    }
   ],
   "source": [
    "clear_cache()"
   ]
  },
  {
   "cell_type": "code",
   "execution_count": 21,
   "id": "7a575b1d-43aa-437a-a623-dac69e640468",
   "metadata": {
    "tags": []
   },
   "outputs": [
    {
     "name": "stdout",
     "output_type": "stream",
     "text": [
      "premise v.(1, 7, 6)\n",
      "+------------------------------------------------------------------+\n",
      "| Warning                                                          |\n",
      "+------------------------------------------------------------------+\n",
      "| Because some of the scenarios can yield LCI databases            |\n",
      "| containing net negative emission technologies (NET),             |\n",
      "| it is advised to account for biogenic CO2 flows when calculating |\n",
      "| Global Warming potential indicators.                             |\n",
      "| `premise_gwp` provides characterization factors for such flows.  |\n",
      "| It also provides factors for hydrogen emissions to air.          |\n",
      "|                                                                  |\n",
      "| Within your bw2 project:                                         |\n",
      "| from premise_gwp import add_premise_gwp                          |\n",
      "| add_premise_gwp()                                                |\n",
      "+------------------------------------------------------------------+\n",
      "+--------------------------------+----------------------------------+\n",
      "| Utils functions                | Description                      |\n",
      "+--------------------------------+----------------------------------+\n",
      "| clear_cache()                  | Clears the cache folder. Useful  |\n",
      "|                                | when updating `premise`or        |\n",
      "|                                | encountering issues with         |\n",
      "|                                | inventories.                     |\n",
      "+--------------------------------+----------------------------------+\n",
      "| get_regions_definition(model)  | Retrieves the list of countries  |\n",
      "|                                | for each region of the model.    |\n",
      "+--------------------------------+----------------------------------+\n",
      "| ndb.NewDatabase(...)           | Generates a summary of the most  |\n",
      "| ndb.generate_scenario_report() | important scenarios' variables.  |\n",
      "+--------------------------------+----------------------------------+\n",
      "Keep uncertainty data?\n",
      "NewDatabase(..., keep_uncertainty_data=True)\n",
      "\n",
      "Disable multiprocessing?\n",
      "NewDatabase(..., use_multiprocessing=False)\n",
      "\n",
      "Hide these messages?\n",
      "NewDatabase(..., quiet=True)\n",
      "\n",
      "//////////////////// EXTRACTING SOURCE DATABASE ////////////////////\n",
      "Cannot find cached database. Will create one now for next time...\n",
      "Getting activity data\n"
     ]
    },
    {
     "name": "stderr",
     "output_type": "stream",
     "text": [
      "100%|█████████████████████████████████████████████████████████████████████████| 21238/21238 [00:00<00:00, 36593.21it/s]\n"
     ]
    },
    {
     "name": "stdout",
     "output_type": "stream",
     "text": [
      "Adding exchange data to activities\n"
     ]
    },
    {
     "name": "stderr",
     "output_type": "stream",
     "text": [
      "100%|████████████████████████████████████████████████████████████████████████| 674593/674593 [02:05<00:00, 5378.89it/s]\n"
     ]
    },
    {
     "name": "stdout",
     "output_type": "stream",
     "text": [
      "Filling out exchange data\n"
     ]
    },
    {
     "name": "stderr",
     "output_type": "stream",
     "text": [
      "100%|██████████████████████████████████████████████████████████████████████████| 21238/21238 [00:10<00:00, 2108.43it/s]\n"
     ]
    },
    {
     "name": "stdout",
     "output_type": "stream",
     "text": [
      "Set missing location of datasets to global scope.\n",
      "Set missing location of production exchanges to scope of dataset.\n",
      "Correct missing location of technosphere exchanges.\n",
      "Correct missing flow categories for biosphere exchanges\n",
      "Remove empty exchanges.\n",
      "Remove uncertainty data.\n",
      "Done!\n",
      "\n",
      "////////////////// IMPORTING DEFAULT INVENTORIES ///////////////////\n",
      "Cannot find cached inventories. Will create them now for next time...\n",
      "Importing default inventories...\n",
      "\n",
      "Extracted 1 worksheets in 0.74 seconds\n",
      "Migrating to 3.8 first\n",
      "Applying strategy: migrate_datasets\n",
      "Applying strategy: migrate_exchanges\n",
      "Applying strategy: migrate_datasets\n",
      "Applying strategy: migrate_exchanges\n",
      "Applying strategy: migrate_datasets\n",
      "Applying strategy: migrate_exchanges\n",
      "Remove uncertainty data.\n",
      "Extracted 1 worksheets in 0.21 seconds\n",
      "Migrating to 3.8 first\n",
      "Applying strategy: migrate_datasets\n",
      "Applying strategy: migrate_exchanges\n",
      "Applying strategy: migrate_datasets\n",
      "Applying strategy: migrate_exchanges\n",
      "Applying strategy: migrate_datasets\n",
      "Applying strategy: migrate_exchanges\n",
      "Remove uncertainty data.\n",
      "Extracted 1 worksheets in 0.16 seconds\n",
      "Migrating to 3.8 first\n",
      "Applying strategy: migrate_datasets\n",
      "Applying strategy: migrate_exchanges\n",
      "Applying strategy: migrate_datasets\n",
      "Applying strategy: migrate_exchanges\n",
      "Applying strategy: migrate_datasets\n",
      "Applying strategy: migrate_exchanges\n",
      "Remove uncertainty data.\n",
      "Extracted 1 worksheets in 0.22 seconds\n",
      "Remove uncertainty data.\n",
      "Extracted 1 worksheets in 0.21 seconds\n",
      "Migrating to 3.8 first\n",
      "Applying strategy: migrate_datasets\n",
      "Applying strategy: migrate_exchanges\n",
      "Applying strategy: migrate_datasets\n",
      "Applying strategy: migrate_exchanges\n",
      "Applying strategy: migrate_datasets\n",
      "Applying strategy: migrate_exchanges\n",
      "Remove uncertainty data.\n",
      "Extracted 1 worksheets in 0.13 seconds\n",
      "Remove uncertainty data.\n",
      "Extracted 7 worksheets in 0.31 seconds\n",
      "Migrating to 3.8 first\n",
      "Applying strategy: migrate_datasets\n",
      "Applying strategy: migrate_exchanges\n",
      "Applying strategy: migrate_datasets\n",
      "Applying strategy: migrate_exchanges\n",
      "Remove uncertainty data.\n",
      "Extracted 1 worksheets in 0.27 seconds\n",
      "Migrating to 3.8 first\n",
      "Applying strategy: migrate_datasets\n",
      "Applying strategy: migrate_exchanges\n",
      "Applying strategy: migrate_datasets\n",
      "Applying strategy: migrate_exchanges\n",
      "Remove uncertainty data.\n",
      "Extracted 1 worksheets in 0.19 seconds\n",
      "Migrating to 3.8 first\n",
      "Applying strategy: migrate_datasets\n",
      "Applying strategy: migrate_exchanges\n",
      "Applying strategy: migrate_datasets\n",
      "Applying strategy: migrate_exchanges\n",
      "Remove uncertainty data.\n",
      "Extracted 1 worksheets in 0.30 seconds\n",
      "Migrating to 3.8 first\n",
      "Applying strategy: migrate_datasets\n",
      "Applying strategy: migrate_exchanges\n",
      "Applying strategy: migrate_datasets\n",
      "Applying strategy: migrate_exchanges\n",
      "Remove uncertainty data.\n",
      "Extracted 1 worksheets in 0.19 seconds\n",
      "Remove uncertainty data.\n",
      "Extracted 1 worksheets in 2.82 seconds\n",
      "Migrating to 3.8 first\n",
      "Applying strategy: migrate_datasets\n",
      "Applying strategy: migrate_exchanges\n",
      "Applying strategy: migrate_datasets\n",
      "Applying strategy: migrate_exchanges\n",
      "Applying strategy: migrate_datasets\n",
      "Applying strategy: migrate_exchanges\n",
      "Remove uncertainty data.\n",
      "The following datasets to import already exist in the source database. They will not be imported\n",
      "+----------------------------------------------------+--------------------------------+----------+-------------+\n",
      "|                        Name                        |       Reference product        | Location |     File    |\n",
      "+----------------------------------------------------+--------------------------------+----------+-------------+\n",
      "|          fluorspar production, 97% purity          |     fluorspar, 97% purity      |   GLO    | lci-PV.xlsx |\n",
      "|     metallization paste production, back side      | metallization paste, back side |   RER    | lci-PV.xlsx |\n",
      "| metallization paste production, back side, alumini | metallization paste, back side |   RER    | lci-PV.xlsx |\n",
      "|     metallization paste production, front side     | metallization paste, front sid |   RER    | lci-PV.xlsx |\n",
      "| photovoltaic module production, building-integrate | photovoltaic module, building- |   RER    | lci-PV.xlsx |\n",
      "| photovoltaic module production, building-integrate | photovoltaic module, building- |   RER    | lci-PV.xlsx |\n",
      "| photovoltaic mounting system production, for facad | photovoltaic mounting system,  |   RER    | lci-PV.xlsx |\n",
      "| photovoltaic mounting system production, for flat- | photovoltaic mounting system,  |   RER    | lci-PV.xlsx |\n",
      "| photovoltaic mounting system production, for slant | photovoltaic mounting system,  |   RER    | lci-PV.xlsx |\n",
      "|      photovoltaic panel factory construction       |   photovoltaic panel factory   |   GLO    | lci-PV.xlsx |\n",
      "|            polyvinylfluoride production            |       polyvinylfluoride        |    US    | lci-PV.xlsx |\n",
      "|      polyvinylfluoride production, dispersion      | polyvinylfluoride, dispersion  |    US    | lci-PV.xlsx |\n",
      "|         polyvinylfluoride, film production         |    polyvinylfluoride, film     |    US    | lci-PV.xlsx |\n",
      "|      silicon production, metallurgical grade       |  silicon, metallurgical grade  |    NO    | lci-PV.xlsx |\n",
      "|             vinyl fluoride production              |         vinyl fluoride         |    US    | lci-PV.xlsx |\n",
      "|             wafer factory construction             |         wafer factory          |    DE    | lci-PV.xlsx |\n",
      "+----------------------------------------------------+--------------------------------+----------+-------------+\n",
      "Extracted 1 worksheets in 0.50 seconds\n",
      "Remove uncertainty data.\n",
      "Extracted 1 worksheets in 0.15 seconds\n",
      "Remove uncertainty data.\n",
      "Extracted 1 worksheets in 0.19 seconds\n",
      "Remove uncertainty data.\n",
      "Extracted 1 worksheets in 0.20 seconds\n",
      "Migrating to 3.8 first\n",
      "Applying strategy: migrate_datasets\n",
      "Applying strategy: migrate_exchanges\n",
      "Applying strategy: migrate_datasets\n",
      "Applying strategy: migrate_exchanges\n",
      "Applying strategy: migrate_datasets\n",
      "Applying strategy: migrate_exchanges\n",
      "Remove uncertainty data.\n",
      "Extracted 1 worksheets in 0.19 seconds\n",
      "Migrating to 3.8 first\n",
      "Applying strategy: migrate_datasets\n",
      "Applying strategy: migrate_exchanges\n",
      "Applying strategy: migrate_datasets\n",
      "Applying strategy: migrate_exchanges\n",
      "Applying strategy: migrate_datasets\n",
      "Applying strategy: migrate_exchanges\n",
      "Remove uncertainty data.\n",
      "The following datasets to import already exist in the source database. They will not be imported\n",
      "+----------------------------------------------------+--------------------------------+----------+---------------------------------------------------+\n",
      "|                        Name                        |       Reference product        | Location |                        File                       |\n",
      "+----------------------------------------------------+--------------------------------+----------+---------------------------------------------------+\n",
      "| carbon dioxide, captured at cement production plan | carbon dioxide, captured and r |   RER    | lci-synfuels-from-methanol-from-cement-plant.xlsx |\n",
      "+----------------------------------------------------+--------------------------------+----------+---------------------------------------------------+\n",
      "Extracted 1 worksheets in 0.04 seconds\n",
      "Migrating to 3.8 first\n",
      "Applying strategy: migrate_datasets\n",
      "Applying strategy: migrate_exchanges\n",
      "Applying strategy: migrate_datasets\n",
      "Applying strategy: migrate_exchanges\n",
      "Applying strategy: migrate_datasets\n",
      "Applying strategy: migrate_exchanges\n",
      "Remove uncertainty data.\n",
      "Extracted 1 worksheets in 0.22 seconds\n",
      "Migrating to 3.8 first\n",
      "Applying strategy: migrate_datasets\n",
      "Applying strategy: migrate_exchanges\n",
      "Applying strategy: migrate_datasets\n",
      "Applying strategy: migrate_exchanges\n",
      "Applying strategy: migrate_datasets\n",
      "Applying strategy: migrate_exchanges\n",
      "Remove uncertainty data.\n",
      "The following datasets to import already exist in the source database. They will not be imported\n",
      "+----------------------------------------------------+----------------------+----------+-------------------------------------------+\n",
      "|                        Name                        |  Reference product   | Location |                    File                   |\n",
      "+----------------------------------------------------+----------------------+----------+-------------------------------------------+\n",
      "| methanol distillation, hydrogen from coal gasifica |  methanol, purified  |   RER    | lci-synfuels-from-methanol-from-coal.xlsx |\n",
      "| methanol synthesis, hydrogen from coal gasificatio | methanol, unpurified |   RER    | lci-synfuels-from-methanol-from-coal.xlsx |\n",
      "+----------------------------------------------------+----------------------+----------+-------------------------------------------+\n",
      "Extracted 1 worksheets in 0.25 seconds\n",
      "Migrating to 3.8 first\n",
      "Applying strategy: migrate_datasets\n",
      "Applying strategy: migrate_exchanges\n",
      "Applying strategy: migrate_datasets\n",
      "Applying strategy: migrate_exchanges\n",
      "Applying strategy: migrate_datasets\n",
      "Applying strategy: migrate_exchanges\n",
      "Remove uncertainty data.\n",
      "Extracted 1 worksheets in 0.15 seconds\n",
      "Migrating to 3.8 first\n",
      "Applying strategy: migrate_datasets\n",
      "Applying strategy: migrate_exchanges\n",
      "Applying strategy: migrate_datasets\n",
      "Applying strategy: migrate_exchanges\n",
      "Applying strategy: migrate_datasets\n",
      "Applying strategy: migrate_exchanges\n",
      "Remove uncertainty data.\n",
      "Extracted 1 worksheets in 0.18 seconds\n",
      "Migrating to 3.8 first\n",
      "Applying strategy: migrate_datasets\n",
      "Applying strategy: migrate_exchanges\n",
      "Applying strategy: migrate_datasets\n",
      "Applying strategy: migrate_exchanges\n",
      "Applying strategy: migrate_datasets\n",
      "Applying strategy: migrate_exchanges\n",
      "Remove uncertainty data.\n",
      "Extracted 1 worksheets in 0.16 seconds\n",
      "Migrating to 3.8 first\n",
      "Applying strategy: migrate_datasets\n",
      "Applying strategy: migrate_exchanges\n",
      "Applying strategy: migrate_datasets\n",
      "Applying strategy: migrate_exchanges\n",
      "Applying strategy: migrate_datasets\n",
      "Applying strategy: migrate_exchanges\n",
      "Remove uncertainty data.\n",
      "Extracted 1 worksheets in 3.12 seconds\n",
      "Migrating to 3.8 first\n",
      "Applying strategy: migrate_datasets\n",
      "Applying strategy: migrate_exchanges\n",
      "Applying strategy: migrate_datasets\n",
      "Applying strategy: migrate_exchanges\n",
      "Applying strategy: migrate_datasets\n",
      "Applying strategy: migrate_exchanges\n",
      "Remove uncertainty data.\n",
      "Extracted 1 worksheets in 0.14 seconds\n",
      "Remove uncertainty data.\n",
      "Extracted 1 worksheets in 0.14 seconds\n",
      "Remove uncertainty data.\n",
      "Extracted 1 worksheets in 0.12 seconds\n",
      "Migrating to 3.8 first\n",
      "Applying strategy: migrate_datasets\n",
      "Applying strategy: migrate_exchanges\n",
      "Applying strategy: migrate_datasets\n",
      "Applying strategy: migrate_exchanges\n",
      "Applying strategy: migrate_datasets\n",
      "Applying strategy: migrate_exchanges\n",
      "Remove uncertainty data.\n",
      "Extracted 5 worksheets in 1.25 seconds\n",
      "Migrating to 3.8 first\n",
      "Applying strategy: migrate_datasets\n",
      "Applying strategy: migrate_exchanges\n",
      "Applying strategy: migrate_datasets\n",
      "Applying strategy: migrate_exchanges\n",
      "Applying strategy: migrate_datasets\n",
      "Applying strategy: migrate_exchanges\n",
      "Remove uncertainty data.\n",
      "Extracted 1 worksheets in 0.19 seconds\n",
      "Migrating to 3.8 first\n",
      "Applying strategy: migrate_datasets\n",
      "Applying strategy: migrate_exchanges\n",
      "Applying strategy: migrate_datasets\n",
      "Applying strategy: migrate_exchanges\n",
      "Applying strategy: migrate_datasets\n",
      "Applying strategy: migrate_exchanges\n",
      "Remove uncertainty data.\n",
      "Extracted 1 worksheets in 0.18 seconds\n",
      "Migrating to 3.8 first\n",
      "Applying strategy: migrate_datasets\n",
      "Applying strategy: migrate_exchanges\n",
      "Applying strategy: migrate_datasets\n",
      "Applying strategy: migrate_exchanges\n",
      "Applying strategy: migrate_datasets\n",
      "Applying strategy: migrate_exchanges\n",
      "Remove uncertainty data.\n",
      "Extracted 1 worksheets in 0.06 seconds\n",
      "Migrating to 3.8 first\n",
      "Applying strategy: migrate_datasets\n",
      "Applying strategy: migrate_exchanges\n",
      "Applying strategy: migrate_datasets\n",
      "Applying strategy: migrate_exchanges\n",
      "Applying strategy: migrate_datasets\n",
      "Applying strategy: migrate_exchanges\n",
      "Remove uncertainty data.\n",
      "Extracted 1 worksheets in 0.20 seconds\n",
      "Migrating to 3.8 first\n",
      "Applying strategy: migrate_datasets\n",
      "Applying strategy: migrate_exchanges\n",
      "Applying strategy: migrate_datasets\n",
      "Applying strategy: migrate_exchanges\n",
      "Applying strategy: migrate_datasets\n",
      "Applying strategy: migrate_exchanges\n",
      "Remove uncertainty data.\n",
      "Extracted 1 worksheets in 0.22 seconds\n",
      "Migrating to 3.8 first\n",
      "Applying strategy: migrate_datasets\n",
      "Applying strategy: migrate_exchanges\n",
      "Applying strategy: migrate_datasets\n",
      "Applying strategy: migrate_exchanges\n",
      "Applying strategy: migrate_datasets\n",
      "Applying strategy: migrate_exchanges\n",
      "Remove uncertainty data.\n",
      "Extracted 1 worksheets in 0.32 seconds\n",
      "Migrating to 3.8 first\n",
      "Applying strategy: migrate_datasets\n",
      "Applying strategy: migrate_exchanges\n",
      "Applying strategy: migrate_datasets\n",
      "Applying strategy: migrate_exchanges\n",
      "Applying strategy: migrate_datasets\n",
      "Applying strategy: migrate_exchanges\n",
      "Remove uncertainty data.\n",
      "Extracted 1 worksheets in 0.14 seconds\n",
      "Migrating to 3.8 first\n",
      "Applying strategy: migrate_datasets\n",
      "Applying strategy: migrate_exchanges\n",
      "Applying strategy: migrate_datasets\n",
      "Applying strategy: migrate_exchanges\n",
      "Remove uncertainty data.\n",
      "Extracted 1 worksheets in 0.60 seconds\n",
      "Migrating to 3.8 first\n",
      "Applying strategy: migrate_datasets\n",
      "Applying strategy: migrate_exchanges\n",
      "Applying strategy: migrate_datasets\n",
      "Applying strategy: migrate_exchanges\n",
      "Remove uncertainty data.\n",
      "Extracted 1 worksheets in 0.13 seconds\n",
      "Migrating to 3.8 first\n",
      "Applying strategy: migrate_datasets\n",
      "Applying strategy: migrate_exchanges\n",
      "Applying strategy: migrate_datasets\n",
      "Applying strategy: migrate_exchanges\n",
      "Remove uncertainty data.\n",
      "Extracted 1 worksheets in 0.18 seconds\n",
      "Migrating to 3.8 first\n",
      "Applying strategy: migrate_datasets\n",
      "Applying strategy: migrate_exchanges\n",
      "Applying strategy: migrate_datasets\n",
      "Applying strategy: migrate_exchanges\n",
      "Remove uncertainty data.\n",
      "Extracted 1 worksheets in 0.13 seconds\n",
      "Remove uncertainty data.\n",
      "Extracted 1 worksheets in 0.15 seconds\n",
      "Remove uncertainty data.\n",
      "Extracted 2 worksheets in 0.12 seconds\n",
      "Migrating to 3.8 first\n",
      "Applying strategy: migrate_datasets\n",
      "Applying strategy: migrate_exchanges\n",
      "Applying strategy: migrate_datasets\n",
      "Applying strategy: migrate_exchanges\n",
      "Remove uncertainty data.\n",
      "Extracted 1 worksheets in 0.25 seconds\n",
      "Remove uncertainty data.\n",
      "Data cached. It is advised to restart your workflow at this point.\n",
      "This allows premise to use the cached data instead, which results in\n",
      "a faster workflow.\n",
      "Done!\n",
      "\n",
      "/////////////////////// EXTRACTING IAM DATA ////////////////////////\n",
      "Done!\n"
     ]
    }
   ],
   "source": [
    "ndb = NewDatabase(\n",
    "        scenarios = [scenarios_SSP[0]],        \n",
    "        source_db=\"cutoff391\",\n",
    "        source_version=\"3.9\",\n",
    "        key='tUePmX_S5B8ieZkkM7WUU2CnO8SmShwmAeWK9x2rTFo=',\n",
    "        external_scenarios=[Package(url) for url in urls]\n",
    ")"
   ]
  },
  {
   "cell_type": "code",
   "execution_count": 25,
   "id": "5f921d8e-d5c9-4359-97bf-1851d986636e",
   "metadata": {
    "tags": []
   },
   "outputs": [
    {
     "name": "stdout",
     "output_type": "stream",
     "text": [
      "\n",
      "//////////////// IMPORTING USER-DEFINED INVENTORIES ////////////////\n",
      "Extracted 1 worksheets in 0.01 seconds\n",
      "List of unlinked exchanges:\n",
      "+------------------------------------------------------------------+-------------------------------------------------------+-----------------------------+------------+----------------+--------------+--------------------+\n",
      "|                               Name                               |                   Reference product                   |           Location          | Categories |      Unit      |     Type     |        File        |\n",
      "+------------------------------------------------------------------+-------------------------------------------------------+-----------------------------+------------+----------------+--------------+--------------------+\n",
      "|                   market for gypsum, mineral                     |                    gypsum, mineral                    |             RER             |    None    |   kilogram     | technosphere | lci-newCements.csv |\n",
      "|                   market for ethylene glycol                     |                    ethylene glycol                    |             GLO             |    None    |    kilogram    | technosphere | lci-newCements.csv |\n",
      "|          market group for electricity, medium voltage            |              electricity, medium voltage              | Europe without Switzerland  |    None    | kilowatt hour  | technosphere | lci-newCements.csv |\n",
      "|         market for ground granulated blast furnace slag          |          ground granulated blast furnace slag         | Europe without Switzerland  |    None    |   kilogram     | technosphere | lci-newCements.csv |\n",
      "|             market for fly ash and scrubber sludge               |              fly ash and scrubber sludge              | Europe without Switzerland  |    None    |   kilogram     | technosphere | lci-newCements.csv |\n",
      "|                  market for steel, low-alloyed                   |                  steel, low-alloyed                   |             GLO             |    None    |   kilogram     | technosphere | lci-newCements.csv |\n",
      "|                    market for cement factory                     |                    cement factory                     |             GLO             |    None    |      unit      | technosphere | lci-newCements.csv |\n",
      "|             market for limestone, crushed, for mill              |             limestone, crushed, for mill              | Europe without Switzerland  |    None    |   kilogram     | technosphere | lci-newCements.csv |\n",
      "| market for heat, district or industrial, other than natural gas  | heat, district or industrial, other than natural gas  | Europe without Switzerland  |    None    |   megajoule    | technosphere | lci-newCements.csv |\n",
      "|                       clinker production                         |                        clinker                        | Europe without Switzerland  |    None    |    kilogram    | technosphere | lci-newCements.csv |\n",
      "|                    market for calcined clay                      |                     calcined clay                     |              BR             |    None    |   kilogram     | technosphere | lci-newCements.csv |\n",
      "+------------------------------------------------------------------+-------------------------------------------------------+-----------------------------+------------+----------------+--------------+--------------------+\n",
      "Log file of exchanges saved under C:\\Users\\lucille.baucal-poyac\\AppData\\Local\\miniconda3\\envs\\premise_env\\Lib\\site-packages\\premise\\data\\logs.\n",
      "Done!\n",
      "\n"
     ]
    }
   ],
   "source": [
    "ndb.update_external_scenario()"
   ]
  },
  {
   "cell_type": "code",
   "execution_count": 23,
   "id": "a9cda125-b379-4340-afc3-88d02bf37195",
   "metadata": {
    "tags": []
   },
   "outputs": [
    {
     "data": {
      "text/plain": [
       "(3, 6, 6)"
      ]
     },
     "execution_count": 23,
     "metadata": {},
     "output_type": "execute_result"
    }
   ],
   "source": [
    "from bw2data import __version__\n",
    "__version__"
   ]
  },
  {
   "cell_type": "code",
   "execution_count": 26,
   "id": "4759fbf9-848e-4bcf-8eae-b2e771e27a79",
   "metadata": {
    "tags": []
   },
   "outputs": [
    {
     "name": "stdout",
     "output_type": "stream",
     "text": [
      "Write new database(s) to Brightway2.\n"
     ]
    },
    {
     "ename": "KeyError",
     "evalue": "'product'",
     "output_type": "error",
     "traceback": [
      "\u001b[1;31m---------------------------------------------------------------------------\u001b[0m",
      "\u001b[1;31mRemoteTraceback\u001b[0m                           Traceback (most recent call last)",
      "\u001b[1;31mRemoteTraceback\u001b[0m: \n\"\"\"\nTraceback (most recent call last):\n  File \"C:\\Users\\lucille.baucal-poyac\\AppData\\Local\\miniconda3\\envs\\premise_env\\lib\\multiprocessing\\pool.py\", line 125, in worker\n    result = (True, func(*args, **kwds))\n  File \"C:\\Users\\lucille.baucal-poyac\\AppData\\Local\\miniconda3\\envs\\premise_env\\lib\\multiprocessing\\pool.py\", line 51, in starmapstar\n    return list(itertools.starmap(args[0], args[1]))\n  File \"C:\\Users\\lucille.baucal-poyac\\AppData\\Local\\miniconda3\\envs\\premise_env\\lib\\site-packages\\premise\\export.py\", line 1038, in _prepare_database\n    scenario[\"database\"], scenario_cache = prepare_db_for_export(\n  File \"C:\\Users\\lucille.baucal-poyac\\AppData\\Local\\miniconda3\\envs\\premise_env\\lib\\site-packages\\premise\\export.py\", line 976, in prepare_db_for_export\n    base.relink_datasets(\n  File \"C:\\Users\\lucille.baucal-poyac\\AppData\\Local\\miniconda3\\envs\\premise_env\\lib\\site-packages\\premise\\transformation.py\", line 842, in relink_datasets\n    excs_to_relink = [\n  File \"C:\\Users\\lucille.baucal-poyac\\AppData\\Local\\miniconda3\\envs\\premise_env\\lib\\site-packages\\premise\\transformation.py\", line 848, in <listcomp>\n    exchange[\"product\"],\nKeyError: 'product'\n\"\"\"",
      "\nThe above exception was the direct cause of the following exception:\n",
      "\u001b[1;31mKeyError\u001b[0m                                  Traceback (most recent call last)",
      "Cell \u001b[1;32mIn[26], line 1\u001b[0m\n\u001b[1;32m----> 1\u001b[0m \u001b[43mndb\u001b[49m\u001b[38;5;241;43m.\u001b[39;49m\u001b[43mwrite_db_to_brightway\u001b[49m\u001b[43m(\u001b[49m\u001b[43m[\u001b[49m\u001b[38;5;124;43m\"\u001b[39;49m\u001b[38;5;124;43mSSP2-Base 2020\u001b[39;49m\u001b[38;5;124;43m\"\u001b[39;49m\u001b[43m]\u001b[49m\u001b[43m)\u001b[49m\n",
      "File \u001b[1;32m~\\AppData\\Local\\miniconda3\\envs\\premise_env\\lib\\site-packages\\premise\\ecoinvent_modification.py:1429\u001b[0m, in \u001b[0;36mNewDatabase.write_db_to_brightway\u001b[1;34m(self, name)\u001b[0m\n\u001b[0;32m   1418\u001b[0m \u001b[38;5;28;01mwith\u001b[39;00m ProcessPool(processes\u001b[38;5;241m=\u001b[39mmultiprocessing\u001b[38;5;241m.\u001b[39mcpu_count()) \u001b[38;5;28;01mas\u001b[39;00m pool:\n\u001b[0;32m   1419\u001b[0m     args \u001b[38;5;241m=\u001b[39m [\n\u001b[0;32m   1420\u001b[0m         (\n\u001b[0;32m   1421\u001b[0m             scenario,\n\u001b[1;32m   (...)\u001b[0m\n\u001b[0;32m   1427\u001b[0m         \u001b[38;5;28;01mfor\u001b[39;00m scenario \u001b[38;5;129;01min\u001b[39;00m \u001b[38;5;28mself\u001b[39m\u001b[38;5;241m.\u001b[39mscenarios\n\u001b[0;32m   1428\u001b[0m     ]\n\u001b[1;32m-> 1429\u001b[0m     results \u001b[38;5;241m=\u001b[39m \u001b[43mpool\u001b[49m\u001b[38;5;241;43m.\u001b[39;49m\u001b[43mstarmap\u001b[49m\u001b[43m(\u001b[49m\u001b[43m_prepare_database\u001b[49m\u001b[43m,\u001b[49m\u001b[43m \u001b[49m\u001b[43margs\u001b[49m\u001b[43m)\u001b[49m\n\u001b[0;32m   1431\u001b[0m \u001b[38;5;28;01mfor\u001b[39;00m s, scenario \u001b[38;5;129;01min\u001b[39;00m \u001b[38;5;28menumerate\u001b[39m(\u001b[38;5;28mself\u001b[39m\u001b[38;5;241m.\u001b[39mscenarios):\n\u001b[0;32m   1432\u001b[0m     \u001b[38;5;28mself\u001b[39m\u001b[38;5;241m.\u001b[39mscenarios[s] \u001b[38;5;241m=\u001b[39m results[s][\u001b[38;5;241m0\u001b[39m]\n",
      "File \u001b[1;32m~\\AppData\\Local\\miniconda3\\envs\\premise_env\\lib\\multiprocessing\\pool.py:375\u001b[0m, in \u001b[0;36mPool.starmap\u001b[1;34m(self, func, iterable, chunksize)\u001b[0m\n\u001b[0;32m    369\u001b[0m \u001b[38;5;28;01mdef\u001b[39;00m \u001b[38;5;21mstarmap\u001b[39m(\u001b[38;5;28mself\u001b[39m, func, iterable, chunksize\u001b[38;5;241m=\u001b[39m\u001b[38;5;28;01mNone\u001b[39;00m):\n\u001b[0;32m    370\u001b[0m \u001b[38;5;250m    \u001b[39m\u001b[38;5;124;03m'''\u001b[39;00m\n\u001b[0;32m    371\u001b[0m \u001b[38;5;124;03m    Like `map()` method but the elements of the `iterable` are expected to\u001b[39;00m\n\u001b[0;32m    372\u001b[0m \u001b[38;5;124;03m    be iterables as well and will be unpacked as arguments. Hence\u001b[39;00m\n\u001b[0;32m    373\u001b[0m \u001b[38;5;124;03m    `func` and (a, b) becomes func(a, b).\u001b[39;00m\n\u001b[0;32m    374\u001b[0m \u001b[38;5;124;03m    '''\u001b[39;00m\n\u001b[1;32m--> 375\u001b[0m     \u001b[38;5;28;01mreturn\u001b[39;00m \u001b[38;5;28;43mself\u001b[39;49m\u001b[38;5;241;43m.\u001b[39;49m\u001b[43m_map_async\u001b[49m\u001b[43m(\u001b[49m\u001b[43mfunc\u001b[49m\u001b[43m,\u001b[49m\u001b[43m \u001b[49m\u001b[43miterable\u001b[49m\u001b[43m,\u001b[49m\u001b[43m \u001b[49m\u001b[43mstarmapstar\u001b[49m\u001b[43m,\u001b[49m\u001b[43m \u001b[49m\u001b[43mchunksize\u001b[49m\u001b[43m)\u001b[49m\u001b[38;5;241;43m.\u001b[39;49m\u001b[43mget\u001b[49m\u001b[43m(\u001b[49m\u001b[43m)\u001b[49m\n",
      "File \u001b[1;32m~\\AppData\\Local\\miniconda3\\envs\\premise_env\\lib\\multiprocessing\\pool.py:774\u001b[0m, in \u001b[0;36mApplyResult.get\u001b[1;34m(self, timeout)\u001b[0m\n\u001b[0;32m    772\u001b[0m     \u001b[38;5;28;01mreturn\u001b[39;00m \u001b[38;5;28mself\u001b[39m\u001b[38;5;241m.\u001b[39m_value\n\u001b[0;32m    773\u001b[0m \u001b[38;5;28;01melse\u001b[39;00m:\n\u001b[1;32m--> 774\u001b[0m     \u001b[38;5;28;01mraise\u001b[39;00m \u001b[38;5;28mself\u001b[39m\u001b[38;5;241m.\u001b[39m_value\n",
      "\u001b[1;31mKeyError\u001b[0m: 'product'"
     ]
    }
   ],
   "source": [
    "ndb.write_db_to_brightway([\"SSP2-Base 2020\"])"
   ]
  },
  {
   "cell_type": "code",
   "execution_count": 27,
   "id": "7eb164f6-e520-4599-862e-6717f3a495c9",
   "metadata": {
    "tags": []
   },
   "outputs": [
    {
     "name": "stdout",
     "output_type": "stream",
     "text": [
      "cement production, CEM II/A-S {'name': 'market for cement factory ', 'amount': 5.36e-11, 'database': 'ecoinvent-3.9.1-cutoff ', 'location': 'GLO', 'unit': 'unit', 'type': 'technosphere', 'reference product': 'cement factory '}\n",
      "cement production, CEM II/A-S {'name': 'clinker production ', 'amount': 0.8265, 'database': 'ecoinvent-3.9.1-cutoff ', 'location': 'Europe without Switzerland ', 'unit': 'kilogram', 'type': 'technosphere', 'reference product': 'clinker '}\n",
      "cement production, CEM II/A-S {'name': 'market group for electricity, medium voltage ', 'amount': 0.0374, 'database': 'ecoinvent-3.9.1-cutoff ', 'location': 'Europe without Switzerland ', 'unit': 'kilowatt hour ', 'type': 'technosphere', 'reference product': 'electricity, medium voltage '}\n",
      "cement production, CEM II/A-S {'name': 'market for ethylene glycol ', 'amount': 0.00021, 'database': 'ecoinvent-3.9.1-cutoff ', 'location': 'GLO', 'unit': 'kilogram', 'type': 'technosphere', 'reference product': 'ethylene glycol '}\n",
      "cement production, CEM II/A-S {'name': 'market for heat, district or industrial, other than natural gas ', 'amount': 0.003136, 'database': 'ecoinvent-3.9.1-cutoff ', 'location': 'Europe without Switzerland ', 'unit': 'megajoule ', 'type': 'technosphere', 'reference product': 'heat, district or industrial, other than natural gas '}\n",
      "cement production, CEM II/A-S {'name': 'market for steel, low-alloyed ', 'amount': 0.00011, 'database': 'ecoinvent-3.9.1-cutoff ', 'location': 'GLO', 'unit': 'kilogram ', 'type': 'technosphere', 'reference product': 'steel, low-alloyed '}\n",
      "cement production, CEM II/A-S {'name': 'market for ground granulated blast furnace slag ', 'amount': 0.135, 'database': 'ecoinvent-3.9.1-cutoff ', 'location': 'Europe without Switzerland ', 'unit': 'kilogram ', 'type': 'technosphere', 'reference product': 'ground granulated blast furnace slag'}\n",
      "cement production, CEM II/A-V {'name': 'market for cement factory ', 'amount': 5.36e-11, 'database': 'ecoinvent-3.9.1-cutoff ', 'location': 'GLO', 'unit': 'unit', 'type': 'technosphere', 'reference product': 'cement factory '}\n",
      "cement production, CEM II/A-V {'name': 'clinker production ', 'amount': 0.8265, 'database': 'ecoinvent-3.9.1-cutoff ', 'location': 'Europe without Switzerland ', 'unit': 'kilogram', 'type': 'technosphere', 'reference product': 'clinker '}\n",
      "cement production, CEM II/A-V {'name': 'market group for electricity, medium voltage ', 'amount': 0.0374, 'database': 'ecoinvent-3.9.1-cutoff ', 'location': 'Europe without Switzerland ', 'unit': 'kilowatt hour ', 'type': 'technosphere', 'reference product': 'electricity, medium voltage '}\n",
      "cement production, CEM II/A-V {'name': 'market for ethylene glycol ', 'amount': 0.00021, 'database': 'ecoinvent-3.9.1-cutoff ', 'location': 'GLO', 'unit': 'kilogram', 'type': 'technosphere', 'reference product': 'ethylene glycol '}\n",
      "cement production, CEM II/A-V {'name': 'market for heat, district or industrial, other than natural gas ', 'amount': 0.003136, 'database': 'ecoinvent-3.9.1-cutoff ', 'location': 'Europe without Switzerland ', 'unit': 'megajoule ', 'type': 'technosphere', 'reference product': 'heat, district or industrial, other than natural gas '}\n",
      "cement production, CEM II/A-V {'name': 'market for steel, low-alloyed ', 'amount': 0.00011, 'database': 'ecoinvent-3.9.1-cutoff ', 'location': 'GLO', 'unit': 'kilogram ', 'type': 'technosphere', 'reference product': 'steel, low-alloyed '}\n",
      "cement production, CEM II/A-V {'name': 'market for fly ash and scrubber sludge ', 'amount': 0.16875, 'database': 'ecoinvent-3.9.1-cutoff ', 'location': 'Europe without Switzerland ', 'unit': 'kilogram ', 'type': 'technosphere', 'reference product': 'fly ash and scrubber sludge'}\n",
      "cement production, Clay  {'name': 'market for cement factory ', 'amount': 5.36e-11, 'database': 'ecoinvent-3.9.1-cutoff ', 'location': 'GLO', 'unit': 'unit', 'type': 'technosphere', 'reference product': 'cement factory '}\n",
      "cement production, Clay  {'name': 'clinker production ', 'amount': 0.5, 'database': 'ecoinvent-3.9.1-cutoff ', 'location': 'Europe without Switzerland ', 'unit': 'kilogram', 'type': 'technosphere', 'reference product': 'clinker '}\n",
      "cement production, Clay  {'name': 'market group for electricity, medium voltage ', 'amount': 0.0374, 'database': 'ecoinvent-3.9.1-cutoff ', 'location': 'Europe without Switzerland ', 'unit': 'kilowatt hour ', 'type': 'technosphere', 'reference product': 'electricity, medium voltage '}\n",
      "cement production, Clay  {'name': 'market for ethylene glycol ', 'amount': 0.00021, 'database': 'ecoinvent-3.9.1-cutoff ', 'location': 'GLO', 'unit': 'kilogram', 'type': 'technosphere', 'reference product': 'ethylene glycol '}\n",
      "cement production, Clay  {'name': 'market for heat, district or industrial, other than natural gas ', 'amount': 0.003136, 'database': 'ecoinvent-3.9.1-cutoff ', 'location': 'Europe without Switzerland ', 'unit': 'megajoule ', 'type': 'technosphere', 'reference product': 'heat, district or industrial, other than natural gas '}\n",
      "cement production, Clay  {'name': 'market for steel, low-alloyed ', 'amount': 0.00011, 'database': 'ecoinvent-3.9.1-cutoff ', 'location': 'GLO', 'unit': 'kilogram ', 'type': 'technosphere', 'reference product': 'steel, low-alloyed '}\n",
      "cement production, Clay  {'name': 'market for fly ash and scrubber sludge ', 'amount': 0.16875, 'database': 'ecoinvent-3.9.1-cutoff ', 'location': 'Europe without Switzerland ', 'unit': 'kilogram ', 'type': 'technosphere', 'reference product': 'fly ash and scrubber sludge'}\n",
      "cement production, Clay  {'name': 'market for limestone, crushed, for mill ', 'amount': 0.15, 'database': 'ecoinvent-3.9.1-cutoff ', 'location': 'Europe without Switzerland ', 'unit': 'kilogram ', 'type': 'technosphere', 'reference product': 'limestone, crushed, for mill '}\n",
      "cement production, Clay  {'name': 'market for gypsum, mineral ', 'amount': 0.05, 'database': 'ecoinvent-3.9.1-cutoff ', 'location': 'RER', 'unit': 'kilogram ', 'type': 'technosphere', 'reference product': 'gypsum, mineral '}\n",
      "cement production, Clay  {'name': 'market for calcined clay ', 'amount': 0.3, 'database': 'ecoinvent-3.9.1-cutoff ', 'location': 'BR', 'unit': 'kilogram ', 'type': 'technosphere', 'reference product': 'calcined clay '}\n"
     ]
    }
   ],
   "source": [
    "for ds in ndb.scenarios[0][\"database\"]:\n",
    "    for e in ds[\"exchanges\"]:\n",
    "        if e[\"type\"]!=\"biosphere\":\n",
    "            if \"product\" not in e:\n",
    "                print(ds[\"name\"], e)"
   ]
  },
  {
   "cell_type": "code",
   "execution_count": 20,
   "id": "7242739f-9fa9-451c-960e-d2e0dd8552bb",
   "metadata": {
    "tags": []
   },
   "outputs": [
    {
     "data": {
      "text/plain": [
       "[{'market for transport, passenger car' (kilometer, RER, None): 1},\n",
       " {'market for transport, passenger car' (kilometer, RER, None): 1}]"
      ]
     },
     "execution_count": 20,
     "metadata": {},
     "output_type": "execute_result"
    }
   ],
   "source": [
    "import bw2data, bw2calc\n",
    "FU = [\n",
    "    {act: 1} for db in [\n",
    "        \"cutoff391\", \"SSP2-Base 2020\", \"SSP2-RCP26 - 2020\" \n",
    "    ] for act in bw2data.Database(db) if act[\"name\"] == \"market for transport, passenger car\"\n",
    "    and act[\"location\"] == \"RER\"\n",
    "]\n",
    "FU"
   ]
  },
  {
   "cell_type": "code",
   "execution_count": 21,
   "id": "ba61b873-e089-4341-9f6e-2344303d354f",
   "metadata": {
    "tags": []
   },
   "outputs": [],
   "source": [
    "method = [('IPCC 2021', 'climate change: fossil', 'global warming potential (GWP100)')]\n",
    "bw2calc.multi_lca.calculation_setups[\"Concrete\"] = {\n",
    "    \"inv\": FU,\n",
    "    \"ia\": method\n",
    "}"
   ]
  },
  {
   "cell_type": "code",
   "execution_count": 22,
   "id": "0c7d4fc9-a53d-40b0-b2f0-948912c88a26",
   "metadata": {
    "tags": []
   },
   "outputs": [],
   "source": [
    "lca = bw2calc.MultiLCA(\"Concrete\")\n",
    "acts = [list(d.keys())[0] for d in lca.func_units]"
   ]
  },
  {
   "cell_type": "code",
   "execution_count": 23,
   "id": "3384386b-8d19-4ac0-af38-4e27ebfd343e",
   "metadata": {
    "tags": []
   },
   "outputs": [],
   "source": [
    "import pandas as pd\n",
    "results = pd.DataFrame(\n",
    "    zip(\n",
    "        [a[\"name\"] for a in acts],\n",
    "        [a[\"database\"] for a in acts],\n",
    "        lca.results.flatten()\n",
    "    ),\n",
    "    columns=[\"name\", \"year\", \"GWP\"]\n",
    ")"
   ]
  },
  {
   "cell_type": "code",
   "execution_count": 24,
   "id": "9bac61dd-8b6c-4c7b-8e24-e0006caad223",
   "metadata": {
    "tags": []
   },
   "outputs": [],
   "source": [
    "results = results.replace(\"cutoff391\", 2020)\n",
    "results[\"year\"] = results[\"year\"].astype(\"str\")"
   ]
  },
  {
   "cell_type": "code",
   "execution_count": 25,
   "id": "5e6b3694-0325-4fb7-87c7-3e8e7997295b",
   "metadata": {
    "tags": []
   },
   "outputs": [
    {
     "data": {
      "text/plain": [
       "Text(0, 0.5, 'kg CO$_2$-eq./km')"
      ]
     },
     "execution_count": 25,
     "metadata": {},
     "output_type": "execute_result"
    },
    {
     "data": {
      "image/png": "[encoded data removed]",
      "text/plain": [
       "<Figure size 640x480 with 1 Axes>"
      ]
     },
     "metadata": {},
     "output_type": "display_data"
    }
   ],
   "source": [
    "import seaborn as sns\n",
    "import matplotlib.pyplot as plt\n",
    "\n",
    "# plot with seaborn barplot\n",
    "sns.barplot(data=results, x='name', y='GWP', hue='year')\n",
    "\n",
    "plt.xticks([])\n",
    "plt.ylabel(\"kg CO$_2$-eq./km\")"
   ]
  },
  {
   "cell_type": "code",
   "execution_count": null,
   "id": "911fa44d-fe9c-4cfc-9cf1-f5da121d99a5",
   "metadata": {},
   "outputs": [],
   "source": []
  }
 ],
 "metadata": {
  "kernelspec": {
   "display_name": "Python 3 (ipykernel)",
   "language": "python",
   "name": "python3"
  },
  "language_info": {
   "codemirror_mode": {
    "name": "ipython",
    "version": 3
   },
   "file_extension": ".py",
   "mimetype": "text/x-python",
   "name": "python",
   "nbconvert_exporter": "python",
   "pygments_lexer": "ipython3",
   "version": "3.10.13"
  }
 },
 "nbformat": 4,
 "nbformat_minor": 5
}
