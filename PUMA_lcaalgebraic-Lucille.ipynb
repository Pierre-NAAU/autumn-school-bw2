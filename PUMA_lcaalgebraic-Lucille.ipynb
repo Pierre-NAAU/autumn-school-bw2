{
 "cells": [
  {
   "cell_type": "code",
   "execution_count": 1,
   "id": "49d322da",
   "metadata": {},
   "outputs": [],
   "source": [
    "import os\n",
    "import bw2data as bd\n",
    "import bw2io as bi\n",
    "from bw2data.parameters import ActivityParameter, DatabaseParameter, ProjectParameter, Group\n",
    "\n",
    "import lca_algebraic as agb\n",
    "\n",
    "from scipy import stats\n",
    "import numpy as np\n",
    "import pandas as pd\n",
    "import random\n",
    "import matplotlib.pyplot as plt\n",
    "from IPython.display import display \n",
    "from IPython.core.display import HTML\n",
    "#import seaborn as sns"
   ]
  },
  {
   "cell_type": "code",
   "execution_count": 2,
   "id": "d42e019f",
   "metadata": {},
   "outputs": [],
   "source": [
    "#bd.projects.delete_project(\"ei39\")"
   ]
  },
  {
   "cell_type": "code",
   "execution_count": 3,
   "id": "22319992",
   "metadata": {},
   "outputs": [],
   "source": [
    "#bd.projects.purge_deleted_directories()"
   ]
  },
  {
   "cell_type": "code",
   "execution_count": 4,
   "id": "4a649418",
   "metadata": {},
   "outputs": [
    {
     "data": {
      "text/plain": [
       "Brightway2 projects manager with 7 objects:\n",
       "\tACV_explosif_lca_algebraic\n",
       "\tACV_explosif_lca_algebraic_D10\n",
       "\tACV_tunnelier_lca_algebraic\n",
       "\tACV_tunnelier_lca_algebraic_acier_AS\n",
       "\tPUMA-custom_scenario_v3\n",
       "\tPUMA_uncertainties\n",
       "\tdefault\n",
       "Use `projects.report()` to get a report on all projects."
      ]
     },
     "execution_count": 4,
     "metadata": {},
     "output_type": "execute_result"
    }
   ],
   "source": [
    "bd.projects"
   ]
  },
  {
   "cell_type": "code",
   "execution_count": 5,
   "id": "d61052e8",
   "metadata": {},
   "outputs": [],
   "source": [
    "#bd.projects.report()"
   ]
  },
  {
   "cell_type": "code",
   "execution_count": 6,
   "id": "ca988733",
   "metadata": {},
   "outputs": [
    {
     "name": "stdout",
     "output_type": "stream",
     "text": [
      "The current project is default\n",
      "It contains Databases dictionary with 3 object(s):\n",
      "\tbiosphere3\n",
      "\tcutoff391\n",
      "\tecoinvent-391-cutoff\n"
     ]
    }
   ],
   "source": [
    "bd.projects.set_current('default')\n",
    "print(\"The current project is\",bd.projects.current)\n",
    "print(\"It contains\",bd.databases)"
   ]
  },
  {
   "cell_type": "code",
   "execution_count": 7,
   "id": "393ec608",
   "metadata": {},
   "outputs": [],
   "source": [
    "#del bd.databases['test']"
   ]
  },
  {
   "cell_type": "code",
   "execution_count": 8,
   "id": "750e1054",
   "metadata": {},
   "outputs": [],
   "source": [
    "nom_projet=\"PUMA_uncertainties\""
   ]
  },
  {
   "cell_type": "code",
   "execution_count": 9,
   "id": "b703cb27",
   "metadata": {},
   "outputs": [
    {
     "name": "stdout",
     "output_type": "stream",
     "text": [
      "The current project is PUMA_uncertainties\n",
      "It contains Databases dictionary with 4 object(s):\n",
      "\tbiosphere3\n",
      "\tcutoff391\n",
      "\tecoinvent-391-cutoff\n",
      "\ttest_bd\n"
     ]
    }
   ],
   "source": [
    "if nom_projet not in bd.projects:\n",
    "    bd.projects.copy_project(nom_projet)\n",
    "\n",
    "#Possibilité d'effectuer : agb.initProject(nom_projet) --> mais obligé d'importer Ecoinvent\n",
    "\n",
    "bd.projects.set_current(nom_projet)\n",
    "print(\"The current project is\",bd.projects.current)\n",
    "print(\"It contains\",bd.databases)"
   ]
  },
  {
   "cell_type": "code",
   "execution_count": 18,
   "id": "daf82034",
   "metadata": {},
   "outputs": [],
   "source": [
    "# We empty this Db each time to start fresh \n",
    "USER_DB=nom_projet+'_db'\n",
    "agb.resetDb(USER_DB)\n",
    "agb.resetParams()"
   ]
  },
  {
   "cell_type": "code",
   "execution_count": 21,
   "id": "383bdd4d",
   "metadata": {},
   "outputs": [
    {
     "data": {
      "text/plain": [
       "Databases dictionary with 4 object(s):\n",
       "\tPUMA_uncertainties_db\n",
       "\tbiosphere3\n",
       "\tcutoff391\n",
       "\tecoinvent-391-cutoff"
      ]
     },
     "execution_count": 21,
     "metadata": {},
     "output_type": "execute_result"
    }
   ],
   "source": [
    "bd.databases"
   ]
  },
  {
   "cell_type": "code",
   "execution_count": 22,
   "id": "4ffe4d27",
   "metadata": {},
   "outputs": [],
   "source": [
    "eidb = bd.Database('cutoff391')\n",
    "biodb = bd.Database('biosphere3')\n",
    "puma_db = bd.Database('PUMA_uncertainties_db')"
   ]
  },
  {
   "cell_type": "code",
   "execution_count": null,
   "id": "6b04861e",
   "metadata": {},
   "outputs": [],
   "source": [
    "SSP=[\"SSP2-Base 2020\", \"SSP2-Base 2025\", \"SSP2-Base 2030\", \"SSP2-Base 2035\", \"SSP2-Base 2040\", \"SSP2-Base 2045\",\n",
    "                           \"SSP2-Base 2050\", \"SSP2-RCP26 2020\", \"SSP2-RCP26 2025\", \"SSP2-RCP26 2030\", \"SSP2-RCP26 2035\", \"SSP2-Base 2040\", \n",
    "                           \"SSP2-Base 2045\", \"SSP2-Base 2050\"]\n",
    "i=0"
   ]
  },
  {
   "cell_type": "code",
   "execution_count": 23,
   "id": "6dcc4ada",
   "metadata": {},
   "outputs": [],
   "source": [
    "cement_adjusted=agb.findActivity(name='market for cement, all types, adjusted', loc='RER', db_name=SSP[i])"
   ]
  },
  {
   "cell_type": "code",
   "execution_count": 30,
   "id": "9b9117da",
   "metadata": {},
   "outputs": [
    {
     "name": "stderr",
     "output_type": "stream",
     "text": [
      "Warning : param 'share_flyash_param' linked to root project instead of a specific DB\n"
     ]
    }
   ],
   "source": [
    "share_flyash_param=agb.newFloatParam(\n",
    "    name=\"share_flyash_param\",\n",
    "    unit=\"%\",\n",
    "    default=0.0191274, \n",
    "    std=1.0247973619913604, \n",
    "    distrib=agb.DistributionType.LOGNORMAL)"
   ]
  },
  {
   "cell_type": "code",
   "execution_count": 33,
   "id": "cea163ff",
   "metadata": {},
   "outputs": [
    {
     "name": "stdout",
     "output_type": "stream",
     "text": [
      "[[0.6, 'market for cement, Portland'], [0.4, 'market for cement, CEM V/A']]\n"
     ]
    }
   ],
   "source": [
    "list_exs_cement_concrete_adjusted=[]\n",
    "exs=cement_concrete_adjusted.exchanges()\n",
    "for ex in exs:\n",
    "    list_exs_cement_concrete_adjusted.append([ex.get('amount'), ex.get('name')])\n",
    "\n",
    "print(list_exs_cement_concrete_adjusted)"
   ]
  },
  {
   "cell_type": "code",
   "execution_count": 31,
   "id": "3ca7d5cf",
   "metadata": {},
   "outputs": [
    {
     "data": {
      "text/html": [
       "<div>\n",
       "<style scoped>\n",
       "    .dataframe tbody tr th:only-of-type {\n",
       "        vertical-align: middle;\n",
       "    }\n",
       "\n",
       "    .dataframe tbody tr th {\n",
       "        vertical-align: top;\n",
       "    }\n",
       "\n",
       "    .dataframe thead tr th {\n",
       "        text-align: left;\n",
       "    }\n",
       "</style>\n",
       "<table border=\"1\" class=\"dataframe\">\n",
       "  <thead>\n",
       "    <tr>\n",
       "      <th></th>\n",
       "      <th colspan=\"3\" halign=\"left\">cement_concrete_adjusted (1.000000 kg)</th>\n",
       "    </tr>\n",
       "    <tr>\n",
       "      <th></th>\n",
       "      <th>input</th>\n",
       "      <th>amount</th>\n",
       "      <th>unit</th>\n",
       "    </tr>\n",
       "  </thead>\n",
       "  <tbody>\n",
       "    <tr>\n",
       "      <th>market for cement, CEM V/A</th>\n",
       "      <td>market for cement, CEM V/A[Europe without Swit...</td>\n",
       "      <td>0.3</td>\n",
       "      <td>kilogram</td>\n",
       "    </tr>\n",
       "    <tr>\n",
       "      <th>market for cement, Portland</th>\n",
       "      <td>market for cement, Portland[Europe without Swi...</td>\n",
       "      <td>share_flyash_param</td>\n",
       "      <td>kilogram</td>\n",
       "    </tr>\n",
       "  </tbody>\n",
       "</table>\n",
       "</div>"
      ],
      "text/plain": [
       "                                        cement_concrete_adjusted (1.000000 kg)  \\\n",
       "                                                                         input   \n",
       "market for cement, CEM V/A   market for cement, CEM V/A[Europe without Swit...   \n",
       "market for cement, Portland  market for cement, Portland[Europe without Swi...   \n",
       "\n",
       "                                                           \n",
       "                                         amount      unit  \n",
       "market for cement, CEM V/A                  0.3  kilogram  \n",
       "market for cement, Portland  share_flyash_param  kilogram  "
      ]
     },
     "metadata": {},
     "output_type": "display_data"
    }
   ],
   "source": [
    "cement_adjusted.updateExchanges({\n",
    "    'cement production, CEM II/A-V': share_flyash_param,\n",
    "    'cement production, Clay': liste_exs_cement_concrete[1]+liste_exs_cement_concrete[1]*(share_flyash_param-liste_exs_cement_concrete[0])/(liste_exs_cement_concrete[1]+liste_exs_cement_concrete[2]+liste_exs_cement_concrete[3])\n",
    "    'cement production, CEM II/A-S': liste_exs_cement_concrete[2]+liste_exs_cement_concrete[2]*(share_flyash_param-liste_exs_cement_concrete[0])/(liste_exs_cement_concrete[1]+liste_exs_cement_concrete[2]+liste_exs_cement_concrete[3])\n",
    "    'market for cement, Portland': liste_exs_cement_concrete[3]+liste_exs_cement_concrete[3]*(share_flyash_param-liste_exs_cement_concrete[0])/(liste_exs_cement_concrete[1]+liste_exs_cement_concrete[2]+liste_exs_cement_concrete[3])\n",
    "})\n",
    "agb.printAct(cement_concrete_adjusted)"
   ]
  },
  {
   "cell_type": "code",
   "execution_count": null,
   "id": "b24d729b",
   "metadata": {},
   "outputs": [],
   "source": []
  }
 ],
 "metadata": {
  "kernelspec": {
   "display_name": "Python 3 (ipykernel)",
   "language": "python",
   "name": "python3"
  },
  "language_info": {
   "codemirror_mode": {
    "name": "ipython",
    "version": 3
   },
   "file_extension": ".py",
   "mimetype": "text/x-python",
   "name": "python",
   "nbconvert_exporter": "python",
   "pygments_lexer": "ipython3",
   "version": "3.9.16"
  },
  "toc": {
   "base_numbering": 1,
   "nav_menu": {},
   "number_sections": true,
   "sideBar": true,
   "skip_h1_title": false,
   "title_cell": "Table of Contents",
   "title_sidebar": "Contents",
   "toc_cell": false,
   "toc_position": {},
   "toc_section_display": true,
   "toc_window_display": false
  }
 },
 "nbformat": 4,
 "nbformat_minor": 5
}
