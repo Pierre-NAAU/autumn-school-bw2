{
 "cells": [
  {
   "cell_type": "markdown",
   "id": "1908ee0f-e8cc-4600-a403-6021736ab1dd",
   "metadata": {},
   "source": [
    "# Setup"
   ]
  },
  {
   "cell_type": "code",
   "execution_count": 2,
   "id": "25382e79-f6f8-41f9-865f-a63c2fa02e9b",
   "metadata": {
    "tags": []
   },
   "outputs": [],
   "source": [
    "# Import packages we'll need later on in this tutorial\n",
    "import os\n",
    "import matplotlib.pyplot as plt\n",
    "import numpy as np\n",
    "import pandas as pd\n",
    "\n",
    "# Import BW25 packages. You'll notice the packages are imported individually, unlike a one-and-done import with BW2.\n",
    "import bw2data as bd\n",
    "import bw2io as bi\n",
    "import bw2calc as bc\n",
    "import bw2analyzer as bwa"
   ]
  },
  {
   "cell_type": "code",
   "execution_count": 3,
   "id": "e693bda1-70d8-4d93-a540-aa742412c483",
   "metadata": {
    "tags": []
   },
   "outputs": [
    {
     "data": {
      "text/plain": [
       "Brightway2 projects manager with 2 objects:\n",
       "\tautumn-school\n",
       "\tdefault\n",
       "Use `projects.report()` to get a report on all projects."
      ]
     },
     "execution_count": 3,
     "metadata": {},
     "output_type": "execute_result"
    }
   ],
   "source": [
    "bd.projects"
   ]
  },
  {
   "cell_type": "code",
   "execution_count": 4,
   "id": "a649c9b1-354b-44d9-a914-92f491f29b39",
   "metadata": {
    "tags": []
   },
   "outputs": [],
   "source": [
    "# You need to set a project. Give it a name!\n",
    "name = \"autumn-school\"\n",
    "bd.projects.set_current(name)"
   ]
  },
  {
   "cell_type": "code",
   "execution_count": 5,
   "id": "75f90d62-75bb-4fbd-931d-f620b406759f",
   "metadata": {
    "tags": []
   },
   "outputs": [
    {
     "data": {
      "text/plain": [
       "Databases dictionary with 2 object(s):\n",
       "\tbiosphere3\n",
       "\tecoinvent-391-cutoff"
      ]
     },
     "execution_count": 5,
     "metadata": {},
     "output_type": "execute_result"
    }
   ],
   "source": [
    "# If this is your first time using this BW25 project, this should be an empty dictionary! \n",
    "bd.databases"
   ]
  },
  {
   "cell_type": "code",
   "execution_count": 6,
   "id": "265f61e0-8cbe-4f42-bb4f-ba11e8b420e4",
   "metadata": {
    "tags": []
   },
   "outputs": [
    {
     "name": "stdout",
     "output_type": "stream",
     "text": [
      "Biosphere database already present!!! No setup is needed\n"
     ]
    }
   ],
   "source": [
    "# If this is the first time you've set up the project, you need to install the biosphere flows.\n",
    "# You do not need to run this subsequent times.\n",
    "\n",
    "bi.bw2setup() ## THIS YIELDS AN ERROR AT THE MOMENT"
   ]
  },
  {
   "cell_type": "code",
   "execution_count": 7,
   "id": "127c167f-f235-42c5-b494-e30864be9f26",
   "metadata": {
    "tags": []
   },
   "outputs": [
    {
     "name": "stdout",
     "output_type": "stream",
     "text": [
      "Database has already been imported.\n"
     ]
    }
   ],
   "source": [
    "# Import the path where your EI database is stored. \n",
    "# Note that the EI database must be unzipped and the path should end at the datasets folder.\n",
    "ei_path = r\"C:\\Users\\pierr\\cutoff39\\datasets\"\n",
    "\n",
    "# You will also need to give your database a name. This name will appear when you call bd.databases.\n",
    "# Here, I am using EI v3.9.1 cutoff.\n",
    "ei_name = \"ecoinvent-391-cutoff\"\n",
    "\n",
    "# When we execute this cell, we will check if it's already been imported, and if not (else) we import it.\n",
    "\n",
    "if ei_name in bd.databases:\n",
    "    print(\"Database has already been imported.\")\n",
    "else:\n",
    "# Go ahead and import:\n",
    "    ei_importer = bi.SingleOutputEcospold2Importer(ei_path, ei_name)\n",
    "    # Apply stragegies \n",
    "    ei_importer.apply_strategies()\n",
    "    # We can get some statistics\n",
    "    ei_importer.statistics()\n",
    "    # Now we will write the database into our project. \n",
    "    ei_importer.write_database()"
   ]
  },
  {
   "cell_type": "code",
   "execution_count": 7,
   "id": "848ad292-7d6a-4903-a6f7-b1df42ac5ad5",
   "metadata": {
    "tags": []
   },
   "outputs": [
    {
     "name": "stdout",
     "output_type": "stream",
     "text": [
      "Database has already been imported.\n"
     ]
    }
   ],
   "source": [
    "# Import the path where your EI database is stored. \n",
    "# Note that the EI database must be unzipped and the path should end at the datasets folder.\n",
    "ei_path = r\"C:\\Users\\pierr\\cutoff39\\datasets\"\n",
    "\n",
    "# You will also need to give your database a name. This name will appear when you call bd.databases.\n",
    "# Here, I am using EI v3.9.1 cutoff.\n",
    "ei_name = \"ecoinvent-391-cutoff\"\n",
    "\n",
    "# When we execute this cell, we will check if it's already been imported, and if not (else) we import it.\n",
    "\n",
    "if ei_name in bd.databases:\n",
    "    print(\"Database has already been imported.\")\n",
    "else:\n",
    "# Go ahead and import:\n",
    "    ei_importer = bi.SingleOutputEcospold2Importer(ei_path, ei_name)\n",
    "    # Apply stragegies \n",
    "    ei_importer.apply_strategies()\n",
    "    # We can get some statistics\n",
    "    ei_importer.statistics()\n",
    "    # Now we will write the database into our project. \n",
    "    ei_importer.write_database()"
   ]
  },
  {
   "cell_type": "code",
   "execution_count": 8,
   "id": "29e5e767-530e-4df0-8924-2023d656b236",
   "metadata": {},
   "outputs": [],
   "source": [
    "ei=bd.Database(\"ecoinvent-391-cutoff\")"
   ]
  },
  {
   "cell_type": "code",
   "execution_count": 31,
   "id": "1f0f0cef-add6-404a-8423-94e8ca5e9ce3",
   "metadata": {
    "tags": []
   },
   "outputs": [],
   "source": [
    "biodb=bd.Database('biosphere3')"
   ]
  },
  {
   "cell_type": "code",
   "execution_count": 32,
   "id": "3b2e0e5c-d36c-4697-ba59-8907a4792e34",
   "metadata": {
    "tags": []
   },
   "outputs": [
    {
     "name": "stdout",
     "output_type": "stream",
     "text": [
      "Brightway2 SQLiteBackend: biosphere3\n"
     ]
    }
   ],
   "source": [
    "print(biodb)"
   ]
  },
  {
   "cell_type": "code",
   "execution_count": 9,
   "id": "27960c0f-f66e-466d-abae-43653e8cffe4",
   "metadata": {
    "tags": []
   },
   "outputs": [
    {
     "name": "stdout",
     "output_type": "stream",
     "text": [
      "['steel production, electric, low-alloyed' (kilogram, Europe without Switzerland and Austria, None)]\n"
     ]
    }
   ],
   "source": [
    "print([act for act in ei if \"steel production, electric, low-alloyed\" == act['name'] and \"Europe without Switzerland and Austria\" == act['location']])"
   ]
  },
  {
   "cell_type": "code",
   "execution_count": 10,
   "id": "695d3176-4d3f-4470-a2d8-5ec53b16f0d3",
   "metadata": {
    "tags": []
   },
   "outputs": [
    {
     "data": {
      "text/plain": [
       "'transport, freight, lorry 16-32 metric ton, EURO6'"
      ]
     },
     "execution_count": 10,
     "metadata": {},
     "output_type": "execute_result"
    }
   ],
   "source": [
    "activity=[act for act in ei if \"transport, freight, lorry 16-32 metric ton, EURO6\" == act['name'] and \"RER\" == act['location']][0]\n",
    "activity.as_dict()['reference product']"
   ]
  },
  {
   "cell_type": "markdown",
   "id": "f8b8daf2-0565-4cb5-85e3-05921b5f8697",
   "metadata": {},
   "source": [
    "# Importer from Pierre's routine"
   ]
  },
  {
   "cell_type": "code",
   "execution_count": 23,
   "id": "48a9cb95-f480-4f24-b83b-de365014b0dd",
   "metadata": {
    "tags": []
   },
   "outputs": [
    {
     "data": {
      "text/plain": [
       "\u001b[1;31mSignature:\u001b[0m \u001b[0mei\u001b[0m\u001b[1;33m.\u001b[0m\u001b[0mnew_activity\u001b[0m\u001b[1;33m(\u001b[0m\u001b[0mcode\u001b[0m\u001b[1;33m,\u001b[0m \u001b[1;33m**\u001b[0m\u001b[0mkwargs\u001b[0m\u001b[1;33m)\u001b[0m\u001b[1;33m\u001b[0m\u001b[1;33m\u001b[0m\u001b[0m\n",
       "\u001b[1;31mDocstring:\u001b[0m <no docstring>\n",
       "\u001b[1;31mSource:\u001b[0m   \n",
       "    \u001b[1;32mdef\u001b[0m \u001b[0mnew_activity\u001b[0m\u001b[1;33m(\u001b[0m\u001b[0mself\u001b[0m\u001b[1;33m,\u001b[0m \u001b[0mcode\u001b[0m\u001b[1;33m,\u001b[0m \u001b[1;33m**\u001b[0m\u001b[0mkwargs\u001b[0m\u001b[1;33m)\u001b[0m\u001b[1;33m:\u001b[0m\u001b[1;33m\n",
       "\u001b[0m        \u001b[1;32mreturn\u001b[0m \u001b[0mself\u001b[0m\u001b[1;33m.\u001b[0m\u001b[0mnew_node\u001b[0m\u001b[1;33m(\u001b[0m\u001b[0mcode\u001b[0m\u001b[1;33m,\u001b[0m \u001b[1;33m**\u001b[0m\u001b[0mkwargs\u001b[0m\u001b[1;33m)\u001b[0m\u001b[1;33m\u001b[0m\u001b[1;33m\u001b[0m\u001b[0m\n",
       "\u001b[1;31mFile:\u001b[0m      c:\\users\\pierr\\anaconda3\\envs\\bw\\lib\\site-packages\\bw2data\\backends\\base.py\n",
       "\u001b[1;31mType:\u001b[0m      method"
      ]
     },
     "metadata": {},
     "output_type": "display_data"
    }
   ],
   "source": [
    "ei.new_activity"
   ]
  },
  {
   "cell_type": "code",
   "execution_count": 89,
   "id": "95fe03a5-623f-48a3-94d9-b70ae2bd906c",
   "metadata": {
    "tags": []
   },
   "outputs": [],
   "source": [
    "\"\"\"\n",
    "Waste must be used in exchanges using -1 factor\n",
    "\"\"\"\n",
    "\n",
    "def process_creation(code,name,unit,location,Dexchanges):\n",
    "    print('->process_creation()')\n",
    "    #The following for-loop is only to guarantee that we can create a process\n",
    "    for activity in [act for act in ei if name == act['name'] and location == act['location']]:\n",
    "        activity.delete()\n",
    "    \n",
    "    activity = ei.new_activity(**{\n",
    "        'activity': name,\n",
    "        'activity type': 'process',\n",
    "        'code': code,\n",
    "        'location': location,\n",
    "        'name':name,\n",
    "        'production amount': 1.0,\n",
    "        'unit': unit,\n",
    "        'reference product': name,\n",
    "    })\n",
    "    activity.save()\n",
    "    print('   len(Dexchanges[input name]) : '+str(len(Dexchanges['input name'])))\n",
    "    print('   len(Dexchanges[input location]) : '+str(len(Dexchanges['input location'])))\n",
    "    print('   len(Dexchanges[amount]) : '+str(len(Dexchanges['amount'])))\n",
    "    print('   len(Dexchanges[unit]) : '+str(len(Dexchanges['unit'])))\n",
    "    print('   len(Dexchanges[type]) : '+str(len(Dexchanges['type'])))\n",
    "    print('   len(Dexchanges[uncertainty]) : '+str(len(Dexchanges['uncertainty'])))\n",
    "    for i in range (0,len(Dexchanges['input name'])):\n",
    "        act_input=[act for act in ei if Dexchanges['input name'][i] == act['name'] and Dexchanges['input location'][i] == act['location'] and Dexchanges['unit'][i] in act['unit']]\n",
    "        #print(act_input)\n",
    "        if act_input==[]:\n",
    "            print('ERROR : input for exchange not found : '+str(Dexchanges['input name'][i])+\"  \"+str(Dexchanges['input location'][i]))\n",
    "        act_exchange=activity.new_exchange(input=act_input[0],amount=Dexchanges['amount'][i],unit=Dexchanges['unit'][i],type=Dexchanges['type'][i])\n",
    "        uncertainty=Dexchanges['uncertainty'][i]\n",
    "        for key in uncertainty.keys():\n",
    "            act_exchange[key]=Dexchanges['uncertainty'][i][key]\n",
    "        act_exchange.save()\n",
    "        activity.save()\n",
    "    return activity\n"
   ]
  },
  {
   "cell_type": "code",
   "execution_count": 48,
   "id": "eb04ee4d-e278-4930-9e6e-ba399ef37389",
   "metadata": {
    "tags": []
   },
   "outputs": [
    {
     "name": "stdout",
     "output_type": "stream",
     "text": [
      "->process_creation()\n",
      "   len(Dexchanges[input name]) : 8\n",
      "   len(Dexchanges[input location]) : 8\n",
      "   len(Dexchanges[amount]) : 8\n",
      "   len(Dexchanges[unit]) : 8\n",
      "   len(Dexchanges[type]) : 8\n",
      "   len(Dexchanges[uncertainty]) : 8\n",
      "{'input name': ['market for diesel, burned in building machine', 'market for electricity, medium voltage', 'market for gravel/sand quarry infrastructure', 'market for heat, central or small-scale, other than natural gas', 'market for lubricating oil', 'market for steel, low-alloyed, hot rolled', 'market for synthetic rubber', 'market for tap water'], 'input location': ['GLO', 'FR', 'GLO', 'Europe without Switzerland', 'RER', 'GLO', 'GLO', 'Europe without Switzerland'], 'amount': [0.0047666666666666664, 0.00302, 4.3981481481481477e-17, 0.0016366666666666667, 8.333333333333334e-07, 1.7e-05, 1.3333333333333332e-06, 0.3333333333333333], 'unit': ['megajoule', 'kilowatt hour', 'unit', 'megajoule', 'kilogram', 'kilogram', 'kilogram', 'kilogram'], 'type': ['technosphere', 'technosphere', 'technosphere', 'technosphere', 'technosphere', 'technosphere', 'technosphere', 'technosphere'], 'uncertainty': [{'uncertainty type': 1, 'loc': 0.0047666666666666664}, {'uncertainty type': 1, 'loc': 0.00302}, {'uncertainty type': 1, 'loc': 4.3981481481481477e-17}, {'uncertainty type': 1, 'loc': 0.0016366666666666667}, {'uncertainty type': 1, 'loc': 8.333333333333334e-07}, {'uncertainty type': 1, 'loc': 1.7e-05}, {'uncertainty type': 1, 'loc': 1.3333333333333332e-06}, {'uncertainty type': 1, 'loc': 0.3333333333333333}]}\n",
      "'Water, unspecified natural origin' (cubic meter, None, ('natural resource', 'in water'))\n",
      "'Water, unspecified natural origin' (cubic meter, None, ('natural resource', 'in water'))\n",
      "'market for municipal solid waste' (kilogram, FR, None)\n",
      "'market for municipal solid waste' (kilogram, FR, None)\n",
      "'market for waste mineral oil' (kilogram, Europe without Switzerland, None)\n",
      "'market for waste mineral oil' (kilogram, Europe without Switzerland, None)\n",
      "'Water' (cubic meter, None, ('air',))\n",
      "'Water' (cubic meter, None, ('air',))\n",
      "'Water' (cubic meter, None, ('water',))\n",
      "'Water' (cubic meter, None, ('water',))\n"
     ]
    }
   ],
   "source": [
    "LHV_diesel = 42.8 #low heat value of diesel in MJ/kg\n",
    "p_diesel = 0.84 #density of diesel in kg/L\n",
    "\n",
    "\"\"\"\n",
    "--------------RCC, crushed, operation------------\n",
    "\n",
    "Process for recycling reinforced concrete.\n",
    "Following the work of Marjan et al 2020\n",
    "\n",
    "Description : \n",
    "Adapted from the Swiss process.\n",
    "Errors corrected: there was both a call for an infrastructure flow (gravel/sand quarry infrstructure) and some intermediate flows also concerning infrastructure.\n",
    "Concerned flows are : building hall, conveyor belt, industrial machine, elementary flows concerning transformation and occupation, recultivation\n",
    "All these flows were added to the \"gravel/sand quarry construction\" process by multiplying them by 4.75E-11 (the value of the infrastructure flow.\n",
    "\n",
    "Furthermore, there is also a process callaed gravel and sans quarry operation, but for the product \"gravel round\" that is not a construction material (no crushers in the process).\n",
    "I have remodeled the process by calling one infrastructure flow and one operation flow.\n",
    "Then I have remodeled \"Quarry construction\" and \"quarry operation processes\".\n",
    "\n",
    "\"\"\"\n",
    "\n",
    "Line = 3 #number of lines of the quarry process\n",
    "ratioA1 = 0.377 #proportion of A1 in the total production of quarry process\n",
    "ratioA2 = 0.187 #proportion of A2 in the total production of quarry process\n",
    "ratioA3 = 0.454 #proportion of A3 in the total production of quarry process\n",
    "AnnualProd = 20000 #☻kg/year annual production\n",
    "NbWeek = 3 #week/year number of weeks with mobile crusher\n",
    "R = 1.35 \n",
    "TimeRatio = NbWeek/54 #time of crushing in the total working annual time\n",
    "IR = TimeRatio /AnnualProd #ratio of infrastructure for 1kg of crushed material\n",
    "\n",
    "D_exchanges_RCC={\n",
    "    \"input name\": ['market for diesel, burned in building machine',\n",
    "                   'market for electricity, medium voltage',\n",
    "                   'market for gravel/sand quarry infrastructure',\n",
    "                   'market for heat, central or small-scale, other than natural gas',\n",
    "                   'market for lubricating oil',\n",
    "                   'market for steel, low-alloyed, hot rolled',\n",
    "                   'market for synthetic rubber',\n",
    "                   'market for tap water'\n",
    "                   ]\n",
    "    ,\"input location\" : ['GLO',\n",
    "                         'FR',\n",
    "                         'GLO',\n",
    "                         'Europe without Switzerland',\n",
    "                         'RER',\n",
    "                         'GLO',\n",
    "                         'GLO',\n",
    "                         'Europe without Switzerland'\n",
    "                         \n",
    "                         ]\n",
    "    ,\"amount\" : [0.0143/Line ,\n",
    "                 0.00906/Line ,\n",
    "                 4.75E-11/Line *IR,\n",
    "                 0.00491/Line ,\n",
    "                 2.5E-6/Line ,\n",
    "                 5.1E-5/Line ,\n",
    "                 4.0E-6/Line ,\n",
    "                 1.0/Line ,\n",
    "                 \n",
    "                 ]\n",
    "    ,\"unit\" :[\"megajoule\",\n",
    "              \"kilowatt hour\",\n",
    "              \"unit\",\n",
    "              \"megajoule\",\n",
    "              \"kilogram\",\n",
    "              \"kilogram\",\n",
    "              \"kilogram\",\n",
    "              \"kilogram\",\n",
    "              ]\n",
    "    ,\"type\":[\"technosphere\",\n",
    "             \"technosphere\",\n",
    "             \"technosphere\",\n",
    "             \"technosphere\",\n",
    "             \"technosphere\",\n",
    "             'technosphere',\n",
    "             'technosphere',\n",
    "             'technosphere']\n",
    "    }\n",
    "\n",
    "\n",
    "\n",
    "D_exchanges_RCC['uncertainty']=[]\n",
    "for amount in D_exchanges_RCC['amount'] :\n",
    "    D_exchanges_RCC['uncertainty'].append({'uncertainty type' : 1, 'loc' : amount})\n",
    "    \n",
    "RCC_crushed=process_creation('RCC, crushed, operation','RCC, crushed, operation','kilogram','FR',D_exchanges_RCC)\n",
    "print(D_exchanges_RCC)\n",
    "\n",
    "activity=RCC_crushed\n",
    "\n",
    "act_input=[act for act in biodb if 'Water, unspecified natural origin' in act['name'] and 'in water' in act['categories']]\n",
    "for act in act_input:\n",
    "    print(act)\n",
    "print(act_input[0])\n",
    "act_exchange=activity.new_exchange(input=act_input[0],amount=0.001111945/Line ,type='biosphere')\n",
    "act_exchange['uncertainty type']=2\n",
    "act_exchange['loc']=0.001111945\n",
    "act_exchange['scale']=1.1051709180756477\n",
    "act_exchange.save()\n",
    "activity.save()\n",
    "\n",
    "act_input=[act for act in ei if 'market for municipal solid waste' in act['name'] and 'FR' in act['location']]\n",
    "for act in act_input:\n",
    "    print(act)\n",
    "print(act_input[0])\n",
    "act_exchange=activity.new_exchange(input=act_input[0],amount=-2.12E-6/Line  ,type='biosphere')\n",
    "act_exchange['uncertainty type']=1\n",
    "act_exchange['loc']=act_exchange['amount']\n",
    "act_exchange.save()\n",
    "activity.save()\n",
    "\"\"\"\n",
    "act_input=[act for act in biodb if 'Particulates, < 2.5 um' in act['name'] and 'low population density, long-term' in act['categories']]\n",
    "for act in act_input:\n",
    "    print(act)\n",
    "print(act_input[0])\n",
    "act_exchange=activity.new_exchange(input=act_input[0],amount=4.0E-10/Line   ,type='biosphere')\n",
    "act_exchange['uncertainty type']=2\n",
    "act_exchange['loc']=4.0E-10\n",
    "act_exchange['scale']=1.7915751222543432\n",
    "act_exchange.save()\n",
    "activity.save()\n",
    "\n",
    "act_input=[act for act in biodb if 'Particulates, > 10 um' in act['name'] and 'low population density, long-term' in act['categories']]\n",
    "for act in act_input:\n",
    "    print(act)\n",
    "print(act_input[0])\n",
    "act_exchange=activity.new_exchange(input=act_input[0],amount=5.6E-9/Line    ,type='biosphere')\n",
    "act_exchange['uncertainty type']=2\n",
    "act_exchange['loc']=5.6E-9\n",
    "act_exchange['scale']=1.3268964411453439\n",
    "act_exchange.save()\n",
    "activity.save()\n",
    "\n",
    "act_input=[act for act in biodb if 'Particulates, > 2.5 um, and < 10um' in act['name'] and 'low population density, long-term' in act['categories']]\n",
    "for act in act_input:\n",
    "    print(act)\n",
    "print(act_input[0])\n",
    "act_exchange=activity.new_exchange(input=act_input[0],amount=2.0E-9/Line   ,type='biosphere')\n",
    "act_exchange['uncertainty type']=2\n",
    "act_exchange['loc']=2.0E-9\n",
    "act_exchange['scale']=1.4918246976412703\n",
    "act_exchange.save()\n",
    "activity.save()\n",
    "\"\"\"\n",
    "act_input=[act for act in ei if 'market for waste mineral oil' in act['name'] and 'Europe without Switzerland' in act['location']]\n",
    "for act in act_input:\n",
    "    print(act)\n",
    "print(act_input[0])\n",
    "act_exchange=activity.new_exchange(input=act_input[0],amount=-2.5E-6/Line   ,type='biosphere')\n",
    "act_exchange['uncertainty type']=1\n",
    "act_exchange['loc']=act_exchange['amount']\n",
    "act_exchange.save()\n",
    "activity.save()\n",
    "\n",
    "act_input=[act for act in biodb if 'Water' in act['name'] and 'air' in act['categories'] and len(act['categories'])==1]\n",
    "for act in act_input:\n",
    "    print(act)\n",
    "print(act_input[0])\n",
    "act_exchange=activity.new_exchange(input=act_input[0],amount=0.306585/1000/Line    ,type='biosphere')\n",
    "act_exchange['uncertainty type']=2\n",
    "act_exchange['loc']=3.06585E-4\n",
    "act_exchange['scale']=1.2214027581601699\n",
    "act_exchange.save()\n",
    "activity.save()\n",
    "\n",
    "act_input=[act for act in biodb if 'Water' in act['name'] and 'water' in act['categories'] and len(act['categories'])==1]\n",
    "for act in act_input:\n",
    "    print(act)\n",
    "print(act_input[0])\n",
    "act_exchange=activity.new_exchange(input=act_input[0],amount=8.1756E-4/Line ,type='biosphere')\n",
    "act_exchange['uncertainty type']=2\n",
    "act_exchange['loc']=8.1756E-4\n",
    "act_exchange['scale']=1.2214027581601699\n",
    "act_exchange.save()\n",
    "activity.save()"
   ]
  },
  {
   "cell_type": "code",
   "execution_count": 78,
   "id": "ae3d648c-8c00-43d5-9f2b-e79e2ee23c04",
   "metadata": {
    "tags": []
   },
   "outputs": [
    {
     "name": "stdout",
     "output_type": "stream",
     "text": [
      "'unreinforced concrete production, 15MPa, with cement, CEM II/A' (cubic meter, CH, None)\n",
      "'concrete production, 25MPa, for building construction, for interior use, with cement ZN/D' (cubic meter, CH, None)\n",
      "'concrete production, 30MPa, for building construction, for interior use, with cement ZN/D, with 50% RC-C aggregates' (kilogram, CH, None)\n",
      "'concrete production, 25MPa, for building construction, with cement, CEM II/B' (cubic meter, CH, None)\n",
      "'concrete production, 30MPa, for drilled piles, with cement, CEM II/B' (cubic meter, CH, None)\n",
      "'concrete production, 30MPa, for building construction, for interior use, with cement ZN/D, with 30% RC-M aggregates' (kilogram, CH, None)\n",
      "'unreinforced concrete production, 15MPa, with cement, CEM II/B' (cubic meter, CH, None)\n",
      "'treatment of sewage sludge, 97% water, WWT, WW from concrete production, landfarming' (kilogram, CH, None)\n",
      "'lean concrete production, with cement CEM II/A' (cubic meter, CH, None)\n",
      "'concrete production, 30MPa, for drilled piles, with cement ZN/D' (cubic meter, CH, None)\n",
      "'market for sewage sludge, 97% water, WWT, WW from concrete production' (kilogram, CH, None)\n",
      "'unreinforced concrete production, 15MPa, with cement ZN/D' (cubic meter, CH, None)\n",
      "'concrete production, 30MPa, for drilled piles, with cement, Portland' (cubic meter, CH, None)\n",
      "'concrete production, 30MPa, for building construction, for interior use, with cement ZN/D, with 30% RC-M aggregates' (cubic meter, CH, None)\n",
      "'market for residues, MSWI[F]-WWT, WW from concrete production' (kilogram, CH, None)\n",
      "'concrete production, 30MPa, for building construction, for interior use, with cement ZN/D' (cubic meter, CH, None)\n",
      "'market for wastewater from concrete production' (cubic meter, CH, None)\n",
      "'concrete production, 37MPa, for civil engineering, for deicing salt contact, with cement ZN/D' (cubic meter, CH, None)\n",
      "'concrete production, 25MPa, for building construction, for interior use, with cement ZN/D, with <30% RC-M aggregates' (kilogram, CH, None)\n",
      "'lean concrete production, with cement CEM II/B' (cubic meter, CH, None)\n",
      "'lean concrete production, for building construction, with cement ZN/D, with 100% RC-M aggregates' (kilogram, CH, None)\n",
      "'market for sewage sludge, 70% water, WWT, WW from concrete production' (kilogram, CH, None)\n",
      "'concrete production, 25MPa, for building construction, for interior use, with cement ZN/D, with 50% RC-C aggregates' (cubic meter, CH, None)\n",
      "'market for bottom ash, MSWI[F]-WWT, WW from concrete production' (kilogram, CH, None)\n",
      "'lean concrete production, for building construction, with cement ZN/D' (cubic meter, CH, None)\n",
      "'concrete production, 25MPa, for building construction, for interior use, with cement ZN/D, with 50% RC-C aggregates' (kilogram, CH, None)\n",
      "'lean concrete production, for building construction, with cement ZN/D, with 100% RC-M aggregates' (cubic meter, CH, None)\n",
      "'treatment of sewage sludge, 70% water, WWT, WW from concrete production, municipal incineration FAE' (kilogram, CH, None)\n",
      "'treatment of sewage sludge, 97% water, WWT, WW from concrete production, landfarming' (kilogram, CH, None)\n",
      "'concrete production, 25MPa, for building construction, for interior use, with cement ZN/D, with <30% RC-M aggregates' (cubic meter, CH, None)\n",
      "'treatment of sewage sludge, 97% water, WWT, WW from concrete production, landfarming' (kilogram, CH, None)\n",
      "'concrete production, 37MPa, for civil engineering, with cement, CEM II/B' (cubic meter, CH, None)\n",
      "'concrete production, 30MPa, for building construction, for interior use, with cement ZN/D, with 50% RC-C aggregates' (cubic meter, CH, None)\n",
      "'concrete production, 37MPa, for building construction, for interior use, with cement ZN/D, with 35% RC-C aggregates' (kilogram, CH, None)\n",
      "'treatment of bottom ash, MSWI[F]-WWT, WW from concrete production, slag compartment' (kilogram, CH, None)\n",
      "'concrete production, 25MPa, for building construction, with cement, CEM II/A' (cubic meter, CH, None)\n",
      "'concrete production, 30MPa, for drilled piles, with cement, CEM II/A' (cubic meter, CH, None)\n",
      "'treatment of residues, MSWI[F]-WWT, WW from concrete production, residual material landfill' (kilogram, CH, None)\n",
      "'concrete production, 37MPa, for civil engineering, with cement, Portland' (cubic meter, CH, None)\n",
      "'treatment of sewage sludge, 97% water, WWT, WW from concrete production, landfarming' (kilogram, CH, None)\n",
      "'concrete production, 37MPa, for building construction, for exterior use, with cement ZN/D' (cubic meter, CH, None)\n",
      "'concrete production, 37MPa, for building construction, for interior use, with cement ZN/D, with 35% RC-C aggregates' (cubic meter, CH, None)\n",
      "'concrete production, 37MPa, for civil engineering, with cement, CEM II/A' (cubic meter, CH, None)\n",
      "'treatment of wastewater from concrete production, wastewater treatment' (cubic meter, CH, None)\n"
     ]
    }
   ],
   "source": [
    "act=[act for act in ei if 'concrete production' in act['name'] and 'CH'in act['location']]\n",
    "for a in act:\n",
    "    print(a)"
   ]
  },
  {
   "cell_type": "code",
   "execution_count": 81,
   "id": "992da516-09fd-41c3-90d5-64961e726546",
   "metadata": {
    "tags": []
   },
   "outputs": [
    {
     "name": "stdout",
     "output_type": "stream",
     "text": [
      "Exchange: 1.0 kilogram 'cement production, CEM II/B' (kilogram, CH, None) to 'cement production, CEM II/B' (kilogram, CH, None)>\n",
      "cement, CEM II/B\n",
      "1.0\n",
      "Exchange: 0.136 kilogram 'burnt shale production' (kilogram, DE, None) to 'cement production, CEM II/B' (kilogram, CH, None)>\n",
      "burnt shale\n",
      "0.136\n",
      "Exchange: 2.73e-11 unit 'cement factory construction' (unit, CH, None) to 'cement production, CEM II/B' (kilogram, CH, None)>\n",
      "cement factory\n",
      "2.73e-11\n",
      "Exchange: 0.688 kilogram 'clinker production' (kilogram, CH, None) to 'cement production, CEM II/B' (kilogram, CH, None)>\n",
      "clinker\n",
      "0.688\n",
      "Exchange: 0.0342 kilowatt hour 'market for electricity, medium voltage' (kilowatt hour, CH, None) to 'cement production, CEM II/B' (kilogram, CH, None)>\n",
      "electricity, medium voltage\n",
      "0.0342\n",
      "Exchange: 0.00021 kilogram 'market for ethylene glycol' (kilogram, GLO, None) to 'cement production, CEM II/B' (kilogram, CH, None)>\n",
      "ethylene glycol\n",
      "0.00021\n",
      "Exchange: 0.0211 kilogram 'market for gypsum, mineral' (kilogram, RER, None) to 'cement production, CEM II/B' (kilogram, CH, None)>\n",
      "gypsum, mineral\n",
      "0.0211\n",
      "Exchange: 0.151 kilogram 'market for limestone, crushed, for mill' (kilogram, CH, None) to 'cement production, CEM II/B' (kilogram, CH, None)>\n",
      "limestone, crushed, for mill\n",
      "0.151\n",
      "Exchange: 4e-05 kilogram 'market for steel, low-alloyed' (kilogram, GLO, None) to 'cement production, CEM II/B' (kilogram, CH, None)>\n",
      "steel, low-alloyed\n",
      "4e-05\n"
     ]
    }
   ],
   "source": [
    "act=[act for act in ei if 'cement production, CEM II/B' in act['name'] and 'CH' in act['location']][0]\n",
    "for exch in act.exchanges():\n",
    "    print(exch)\n",
    "    print(exch['name'])\n",
    "    print(exch['amount'])"
   ]
  },
  {
   "cell_type": "code",
   "execution_count": 87,
   "id": "a874196f-f601-4852-a7cf-1b348648074c",
   "metadata": {
    "tags": []
   },
   "outputs": [
    {
     "name": "stdout",
     "output_type": "stream",
     "text": [
      "'steel production, electric, low-alloyed' (kilogram, Europe without Switzerland and Austria, None)\n",
      "'steel production, electric, low-alloyed' (kilogram, Europe without Switzerland and Austria, None)\n",
      "'hot rolling, steel' (kilogram, Europe without Austria, None)\n",
      "'hot rolling, steel' (kilogram, Europe without Austria, None)\n",
      "'treatment of scrap steel, inert material landfill' (kilogram, CH, None)\n",
      "'treatment of scrap steel, inert material landfill' (kilogram, CH, None)\n"
     ]
    },
    {
     "ename": "NameError",
     "evalue": "name 'done' is not defined",
     "output_type": "error",
     "traceback": [
      "\u001b[1;31m---------------------------------------------------------------------------\u001b[0m",
      "\u001b[1;31mNameError\u001b[0m                                 Traceback (most recent call last)",
      "Cell \u001b[1;32mIn[87], line 140\u001b[0m\n\u001b[0;32m    138\u001b[0m act_exchange\u001b[38;5;241m.\u001b[39msave()\n\u001b[0;32m    139\u001b[0m activity\u001b[38;5;241m.\u001b[39msave()\n\u001b[1;32m--> 140\u001b[0m \u001b[38;5;28mprint\u001b[39m(done)\n",
      "\u001b[1;31mNameError\u001b[0m: name 'done' is not defined"
     ]
    }
   ],
   "source": [
    "\"\"\"SHEET STEEL\"\"\"\n",
    "\"\"\"\n",
    "Hypothesis : INIES : https://www.base-inies.fr/iniesV4/dist/consultation.html?id=32988\n",
    "\n",
    "A1-A3\n",
    "Primary steel : 80%\n",
    "Secondary steel : 20%\n",
    "Chutes : 0,0887 kg/kg\n",
    "\n",
    "A4-A5 \n",
    "Distance chantier route : 593 km\n",
    "Distance chantier barge : 13.5 km\n",
    "Intrant acier supplémentaires : 0.92%\n",
    "\n",
    "Consommation d’énergie pour les engins de levage :\n",
    "- Electricité : 2,89E-04 kWh/kg de produit\n",
    "- Gazole non routier : 1,12E-01 MJ/kg de produit\n",
    "- Propane ou GPL : 1,53E-03 MJ/kg de produit\n",
    "Consommation d’énergie pour le boulonnage :\n",
    "- Electricité : 1,16E-04 kWh/kg de produit\n",
    "\n",
    "C1-C4\n",
    "88% recyclé -> 375 km\n",
    "11% réutilisation -> 375 km\n",
    "1% landfill -> 150 km\n",
    "\n",
    "\"\"\"\n",
    "\n",
    "chutes=0.0887\n",
    "acier_supp=0.0092\n",
    "tot_acier=1+0.0843+0.0206\n",
    "\n",
    "#--------------Activity Creation\n",
    "\n",
    "for activity in [act for act in ei if 'sheet steel' == act['name'] and 'RER' == act['location']]:\n",
    "    activity.delete()\n",
    "activity =ei.new_activity(**{\n",
    "        'activity': 'sheet steel',\n",
    "        'activity type': 'process',\n",
    "        'code': 'sheet_steel',\n",
    "        'location': 'RER',\n",
    "        'name':'sheet steel',\n",
    "        'production amount': 1.0,\n",
    "        'unit': 'kg',\n",
    "        'reference product': 'sheet_steel',\n",
    "    }) \n",
    "activity.save()\n",
    "\n",
    "#-------------Exchanges\n",
    "\n",
    "#A1-A3\n",
    "act_input=[act for act in ei if 'steel production, electric, low-alloyed' in act['name'] and 'Europe without Switzerland and Austria' in act['location']]\n",
    "for act in act_input:\n",
    "    print(act)\n",
    "print(act_input[0])\n",
    "act_exchange=activity.new_exchange(input=act_input[0],amount=0.20*tot_acier  ,type='technosphere')\n",
    "act_exchange['uncertainty type']=1\n",
    "act_exchange['loc']=act_exchange['amount']\n",
    "act_exchange.save()\n",
    "activity.save()\n",
    "\n",
    "act_input=[act for act in ei if 'steel production, converter, low-alloyed' in act['name'] and 'RER' in act['location']]\n",
    "act_exchange=activity.new_exchange(input=act_input[0],amount=0.80*tot_acier  ,type='technosphere')\n",
    "act_exchange['uncertainty type']=1\n",
    "act_exchange['loc']=act_exchange['amount']\n",
    "act_exchange.save()\n",
    "activity.save()\n",
    "\n",
    "act_input=[act for act in ei if 'hot rolling, steel' in act['name'] and 'Europe without Austria' in act['location']]\n",
    "for act in act_input:\n",
    "    print(act)\n",
    "print(act_input[0])\n",
    "act_exchange=activity.new_exchange(input=act_input[0],amount=1  ,type='technosphere')\n",
    "act_exchange['uncertainty type']=1\n",
    "act_exchange['loc']=act_exchange['amount']\n",
    "act_exchange.save()\n",
    "activity.save()\n",
    "\n",
    "#A4-A5\n",
    "act_input=[act for act in ei if 'transport, freight, lorry 16-32 metric ton, EURO6' in act['name'] and 'RER' in act['location']]\n",
    "act_exchange=activity.new_exchange(input=act_input[0],amount=593/1000  ,type='technosphere')\n",
    "act_exchange['uncertainty type']=1\n",
    "act_exchange['loc']=act_exchange['amount']\n",
    "act_exchange.save()\n",
    "activity.save()\n",
    "\n",
    "act_input=[act for act in ei if 'market for diesel, burned in building machine' in act['name'] and 'GLO' in act['location']]\n",
    "act_exchange=activity.new_exchange(input=act_input[0],amount=1.12E-01  ,type='technosphere')\n",
    "act_exchange['uncertainty type']=1\n",
    "act_exchange['loc']=act_exchange['amount']\n",
    "act_exchange.save()\n",
    "activity.save()\n",
    "\n",
    "act_input=[act for act in ei if 'market for electricity, medium voltage' in act['name'] and 'FR' in act['location']]\n",
    "act_exchange=activity.new_exchange(input=act_input[0],amount=2.89E-04  ,type='technosphere')\n",
    "act_exchange['uncertainty type']=1\n",
    "act_exchange['loc']=act_exchange['amount']\n",
    "act_exchange.save()\n",
    "activity.save()\n",
    "\n",
    "act_input=[act for act in ei if 'market for electricity, medium voltage' in act['name'] and 'FR' in act['location']]\n",
    "act_exchange=activity.new_exchange(input=act_input[0],amount=1.16E-04  ,type='technosphere')\n",
    "act_exchange['uncertainty type']=1\n",
    "act_exchange['loc']=act_exchange['amount']\n",
    "act_exchange.save()\n",
    "activity.save()\n",
    "\n",
    "\n",
    "#C1-C4\n",
    "act_input=[act for act in ei if 'transport, freight, lorry 16-32 metric ton, EURO6' in act['name'] and 'RER' in act['location']]\n",
    "act_exchange=activity.new_exchange(input=act_input[0],amount=0.88*375/1000  ,type='technosphere')\n",
    "act_exchange['uncertainty type']=1\n",
    "act_exchange['loc']=act_exchange['amount']\n",
    "act_exchange.save()\n",
    "activity.save()\n",
    "\n",
    "act_input=[act for act in ei if 'transport, freight, lorry 16-32 metric ton, EURO6' in act['name'] and 'RER' in act['location']]\n",
    "act_exchange=activity.new_exchange(input=act_input[0],amount=0.11*375/1000  ,type='technosphere')\n",
    "act_exchange['uncertainty type']=1\n",
    "act_exchange['loc']=act_exchange['amount']\n",
    "act_exchange.save()\n",
    "activity.save()\n",
    "\n",
    "act_input=[act for act in ei if 'transport, freight, lorry 16-32 metric ton, EURO6' in act['name'] and 'RER' in act['location']]\n",
    "act_exchange=activity.new_exchange(input=act_input[0],amount=0.01*150/1000  ,type='technosphere')\n",
    "act_exchange['uncertainty type']=1\n",
    "act_exchange['loc']=act_exchange['amount']\n",
    "act_exchange.save()\n",
    "activity.save()\n",
    "\n",
    "act_input=[act for act in ei if 'treatment of scrap steel, inert material landfill' in act['name'] and 'CH' in act['location']]\n",
    "for act in act_input:\n",
    "    print(act)\n",
    "print(act_input[0])\n",
    "act_exchange=activity.new_exchange(input=act_input[0],amount=-0.88  ,type='technosphere')\n",
    "act_exchange['uncertainty type']=1\n",
    "act_exchange['loc']=act_exchange['amount']\n",
    "act_exchange.save()\n",
    "activity.save()\n",
    "print('done')"
   ]
  },
  {
   "cell_type": "code",
   "execution_count": 90,
   "id": "2f3db1dd-853a-49e2-98fa-3c0f14748035",
   "metadata": {
    "tags": []
   },
   "outputs": [
    {
     "name": "stdout",
     "output_type": "stream",
     "text": [
      "->process_creation()\n",
      "   len(Dexchanges[input name]) : 7\n",
      "   len(Dexchanges[input location]) : 7\n",
      "   len(Dexchanges[amount]) : 7\n",
      "   len(Dexchanges[unit]) : 7\n",
      "   len(Dexchanges[type]) : 7\n",
      "   len(Dexchanges[uncertainty]) : 7\n",
      "'concrete production CEMII' (cubic meter, RER, None)\n"
     ]
    }
   ],
   "source": [
    "\"\"\"\n",
    "--------------DC-concrete------------\n",
    "\n",
    "Concrete CEMII based on INIES 11081 \n",
    "https://www.base-inies.fr/iniesV4/dist/consultation.html?id=11081\n",
    "\n",
    "\n",
    "\"\"\"\n",
    "d_A4 = 18.5 #distance transport au site\n",
    "d_C2_land = 30 #Distance pour élimination déchets\n",
    "d_C2_recycle = 30 #Distance pour recyclage\n",
    "p_concrete = 2400 #masse volumique béton\n",
    "per_landfill = 0.25 #Pourcentage enfouissement\n",
    "per_recycled = 0.75 #Pourcentage recyclé\n",
    "\n",
    "D_exchanges_DC_concrete={\n",
    "    \"input name\": ['concrete production, 25MPa, for building construction, with cement, CEM II/B',\n",
    "                   'electricity, high voltage, production mix',\n",
    "                   'transport, freight, lorry 16-32 metric ton, EURO6',\n",
    "                   'transport, freight, lorry 16-32 metric ton, EURO6',\n",
    "                   'transport, freight, lorry 16-32 metric ton, EURO6',\n",
    "                   'treatment of waste concrete, inert material landfill',\n",
    "                   'RCC, crushed, operation']\n",
    "    ,\"input location\" : ['CH',\n",
    "                         'FR',\n",
    "                         'RER',\n",
    "                         'RER',\n",
    "                         'RER',\n",
    "                         'Europe without Switzerland',\n",
    "                         'FR']\n",
    "    ,\"amount\" : [1.03, #03 pour 3% de perte\n",
    "                 385.2/3.6, #A5 installation\n",
    "                 p_concrete*d_A4/1000, #A4\n",
    "                 p_concrete*d_C2_land *per_landfill/1000, #C2\n",
    "                 p_concrete*d_C2_recycle *per_recycled/1000, #C2\n",
    "                 -1*per_landfill *p_concrete,\n",
    "                 per_recycled*p_concrete]\n",
    "    ,\"unit\" :[\"cubic meter\",\n",
    "              \"kilowatt hour\",\n",
    "              \"ton kilometer\",\n",
    "              \"ton kilometer\",\n",
    "              'ton kilometer',\n",
    "              'kilogram',\n",
    "              'kilogram']\n",
    "    ,\"type\":[\"technosphere\",\n",
    "             \"technosphere\",\n",
    "             \"technosphere\",\n",
    "             \"technosphere\",\n",
    "             \"technosphere\",\n",
    "             'technosphere',\n",
    "             'technosphere']\n",
    "    }\n",
    "\n",
    "D_exchanges_DC_concrete['uncertainty']=[]\n",
    "for amount in D_exchanges_DC_concrete['amount'] :\n",
    "    D_exchanges_DC_concrete['uncertainty'].append({'uncertainty type' : 1, 'loc' : amount})\n",
    "    \n",
    "DC_concrete=process_creation('concrete_production_cemII','concrete production CEMII','cubic meter','RER',D_exchanges_DC_concrete)\n",
    "print(DC_concrete)\n"
   ]
  },
  {
   "cell_type": "code",
   "execution_count": 91,
   "id": "3bd5bc86-70be-4114-a401-b9403427bb24",
   "metadata": {
    "tags": []
   },
   "outputs": [
    {
     "name": "stdout",
     "output_type": "stream",
     "text": [
      "'RCC, crushed, operation' (kilogram, FR, None)\n",
      "'sheet steel' (kg, RER, None)\n",
      "'concrete production CEMII' (cubic meter, RER, None)\n"
     ]
    }
   ],
   "source": [
    "#double check\n",
    "act=[act for act in ei if 'RCC, crushed, operation' in act['name']]\n",
    "for a in act:\n",
    "    print(a)\n",
    "act=[act for act in ei if 'sheet steel' in act['name']]\n",
    "for a in act:\n",
    "    print(a)\n",
    "act=[act for act in ei if 'concrete production CEMII' in act['name']]\n",
    "for a in act:\n",
    "    print(a)"
   ]
  },
  {
   "cell_type": "markdown",
   "id": "a70303de-8401-4f96-bb1a-692ab5c00bdd",
   "metadata": {},
   "source": [
    "# Create cement processes"
   ]
  },
  {
   "cell_type": "markdown",
   "id": "5d7b8ae1-ba25-4b16-85ef-3bb2a9e25553",
   "metadata": {},
   "source": [
    "1. cement production, CEM II/A-S"
   ]
  },
  {
   "cell_type": "code",
   "execution_count": 191,
   "id": "d0dbec0d-7f2c-4c4f-9ef5-3f9d80b886cc",
   "metadata": {
    "collapsed": true,
    "jupyter": {
     "outputs_hidden": true
    },
    "tags": []
   },
   "outputs": [
    {
     "name": "stdout",
     "output_type": "stream",
     "text": [
      "'cement production, CEM II/A' (kilogram, Europe without Switzerland, None)\n",
      "0\n",
      "Exchange: 1.0 kilogram 'cement production, CEM II/A' (kilogram, Europe without Switzerland, None) to 'cement production, CEM II/A' (kilogram, Europe without Switzerland, None)>\n",
      "1\n",
      "Exchange: 0.002 kilogram 'market for burnt shale' (kilogram, GLO, None) to 'cement production, CEM II/A' (kilogram, Europe without Switzerland, None)>\n",
      "2\n",
      "Exchange: 5.36e-11 unit 'market for cement factory' (unit, GLO, None) to 'cement production, CEM II/A' (kilogram, Europe without Switzerland, None)>\n",
      "3\n",
      "Exchange: 0.8265 kilogram 'clinker production' (kilogram, Europe without Switzerland, None) to 'cement production, CEM II/A' (kilogram, Europe without Switzerland, None)>\n",
      "4\n",
      "Exchange: 0.0374 kilowatt hour 'market group for electricity, medium voltage' (kilowatt hour, Europe without Switzerland, None) to 'cement production, CEM II/A' (kilogram, Europe without Switzerland, None)>\n",
      "5\n",
      "Exchange: 0.00021 kilogram 'market for ethylene glycol' (kilogram, GLO, None) to 'cement production, CEM II/A' (kilogram, Europe without Switzerland, None)>\n",
      "6\n",
      "Exchange: 0.0098 kilogram 'market for ground granulated blast furnace slag' (kilogram, RoW, None) to 'cement production, CEM II/A' (kilogram, Europe without Switzerland, None)>\n",
      "7\n",
      "Exchange: 0.0435 kilogram 'market for gypsum, mineral' (kilogram, RER, None) to 'cement production, CEM II/A' (kilogram, Europe without Switzerland, None)>\n",
      "8\n",
      "Exchange: 0.003136 megajoule 'market for heat, district or industrial, other than natural gas' (megajoule, Europe without Switzerland, None) to 'cement production, CEM II/A' (kilogram, Europe without Switzerland, None)>\n",
      "9\n",
      "Exchange: 0.104 kilogram 'market for limestone, crushed, for mill' (kilogram, RoW, None) to 'cement production, CEM II/A' (kilogram, Europe without Switzerland, None)>\n",
      "10\n",
      "Exchange: 0.00011 kilogram 'market for steel, low-alloyed' (kilogram, GLO, None) to 'cement production, CEM II/A' (kilogram, Europe without Switzerland, None)>\n",
      "11\n",
      "Exchange: 0.135 megajoule 'Heat, waste' (megajoule, None, ('air',)) to 'cement production, CEM II/A' (kilogram, Europe without Switzerland, None)>\n"
     ]
    }
   ],
   "source": [
    "act=[act for act in ei if 'cement production, CEM II/A' in act['name'] and 'Europe without Switzerland'in act['location']][0]\n",
    "print(act)"
   ]
  },
  {
   "cell_type": "code",
   "execution_count": 167,
   "id": "6acff708-0674-47fb-9665-ea5fb85b515e",
   "metadata": {
    "tags": []
   },
   "outputs": [],
   "source": [
    "new_act=act.copy(name='cement production, CEM II/A-S',code='cement production, CEM II/A-S')\n",
    "new_act.save()"
   ]
  },
  {
   "cell_type": "code",
   "execution_count": 181,
   "id": "616f3263-f641-43f8-9602-76df347d2d71",
   "metadata": {
    "collapsed": true,
    "jupyter": {
     "outputs_hidden": true
    },
    "tags": []
   },
   "outputs": [
    {
     "name": "stdout",
     "output_type": "stream",
     "text": [
      "0\n",
      "Exchange: 5.36e-11 unit 'market for cement factory' (unit, GLO, None) to 'cement production, CEM II/A-S' (kilogram, Europe without Switzerland, None)>\n",
      "1\n",
      "Exchange: 0.8265 kilogram 'clinker production' (kilogram, Europe without Switzerland, None) to 'cement production, CEM II/A-S' (kilogram, Europe without Switzerland, None)>\n",
      "2\n",
      "Exchange: 0.0374 kilowatt hour 'market group for electricity, medium voltage' (kilowatt hour, Europe without Switzerland, None) to 'cement production, CEM II/A-S' (kilogram, Europe without Switzerland, None)>\n",
      "3\n",
      "Exchange: 0.00021 kilogram 'market for ethylene glycol' (kilogram, GLO, None) to 'cement production, CEM II/A-S' (kilogram, Europe without Switzerland, None)>\n",
      "4\n",
      "Exchange: 0.003136 megajoule 'market for heat, district or industrial, other than natural gas' (megajoule, Europe without Switzerland, None) to 'cement production, CEM II/A-S' (kilogram, Europe without Switzerland, None)>\n",
      "5\n",
      "Exchange: 0.00011 kilogram 'market for steel, low-alloyed' (kilogram, GLO, None) to 'cement production, CEM II/A-S' (kilogram, Europe without Switzerland, None)>\n"
     ]
    }
   ],
   "source": [
    "exs = [ex for ex in new_act.technosphere()]\n",
    "for i,ex in enumerate(exs):\n",
    "    print(i)\n",
    "    print(ex)"
   ]
  },
  {
   "cell_type": "code",
   "execution_count": 169,
   "id": "ce4ddd08-df8d-4173-ac44-251a6a6f74fd",
   "metadata": {
    "tags": []
   },
   "outputs": [],
   "source": [
    "exs[8].delete()\n",
    "exs[6].delete()\n",
    "exs[5].delete()\n",
    "exs[0].delete()"
   ]
  },
  {
   "cell_type": "code",
   "execution_count": 170,
   "id": "d44974aa-bf3d-41a6-a13c-4ac7debb947d",
   "metadata": {
    "tags": []
   },
   "outputs": [
    {
     "name": "stdout",
     "output_type": "stream",
     "text": [
      "0\n",
      "Exchange: 5.36e-11 unit 'market for cement factory' (unit, GLO, None) to 'cement production, CEM II/A-S' (kilogram, Europe without Switzerland, None)>\n",
      "1\n",
      "Exchange: 0.8265 kilogram 'clinker production' (kilogram, Europe without Switzerland, None) to 'cement production, CEM II/A-S' (kilogram, Europe without Switzerland, None)>\n",
      "2\n",
      "Exchange: 0.0374 kilowatt hour 'market group for electricity, medium voltage' (kilowatt hour, Europe without Switzerland, None) to 'cement production, CEM II/A-S' (kilogram, Europe without Switzerland, None)>\n",
      "3\n",
      "Exchange: 0.00021 kilogram 'market for ethylene glycol' (kilogram, GLO, None) to 'cement production, CEM II/A-S' (kilogram, Europe without Switzerland, None)>\n",
      "4\n",
      "Exchange: 0.003136 megajoule 'market for heat, district or industrial, other than natural gas' (megajoule, Europe without Switzerland, None) to 'cement production, CEM II/A-S' (kilogram, Europe without Switzerland, None)>\n",
      "5\n",
      "Exchange: 0.00011 kilogram 'market for steel, low-alloyed' (kilogram, GLO, None) to 'cement production, CEM II/A-S' (kilogram, Europe without Switzerland, None)>\n"
     ]
    }
   ],
   "source": [
    "exs = [ex for ex in new_act.technosphere()]\n",
    "for i,ex in enumerate(exs):\n",
    "    print(i)\n",
    "    print(ex)"
   ]
  },
  {
   "cell_type": "code",
   "execution_count": 179,
   "id": "1a0bb5bd-7e6c-46cc-a7c0-9fe72b66f353",
   "metadata": {
    "tags": []
   },
   "outputs": [
    {
     "name": "stdout",
     "output_type": "stream",
     "text": [
      "'market for ground granulated blast furnace slag' (kilogram, RoW, None)\n"
     ]
    }
   ],
   "source": [
    "search=[sear for sear in ei if 'market for ground granulated blast furnace slag' in sear['name'] and 'RoW' in sear['location']][0]\n",
    "print(search)"
   ]
  },
  {
   "cell_type": "code",
   "execution_count": 184,
   "id": "ece12bf2-f717-4132-ae50-cca7c034be4d",
   "metadata": {
    "tags": []
   },
   "outputs": [],
   "source": [
    "new_act.new_edge(input=search,amount=0.135,type='technosphere').save()"
   ]
  },
  {
   "cell_type": "markdown",
   "id": "cb39f2c9-d47e-4235-9402-91650d7dd535",
   "metadata": {},
   "source": [
    "2. cement production, CEM II/A-V"
   ]
  },
  {
   "cell_type": "code",
   "execution_count": 200,
   "id": "202714c6-88b6-4224-80b2-b3043b85208b",
   "metadata": {
    "tags": []
   },
   "outputs": [
    {
     "name": "stdout",
     "output_type": "stream",
     "text": [
      "'cement production, CEM II/A' (kilogram, Europe without Switzerland, None)\n"
     ]
    }
   ],
   "source": [
    "act=[act for act in ei if 'cement production, CEM II/A' ==act['name'] and 'Europe without Switzerland'in act['location']][0]\n",
    "print(act)"
   ]
  },
  {
   "cell_type": "code",
   "execution_count": 206,
   "id": "86da0b26-f6df-4473-8e6d-be0032fecf7b",
   "metadata": {
    "tags": []
   },
   "outputs": [],
   "source": [
    "new_act=act.copy(name='cement production, CEM II/A-V',code='cement production, CEM II/A-V')\n",
    "new_act.save()"
   ]
  },
  {
   "cell_type": "code",
   "execution_count": 207,
   "id": "7844dcd1-5b53-40c0-8d4d-645a9b97010f",
   "metadata": {
    "collapsed": true,
    "jupyter": {
     "outputs_hidden": true
    },
    "tags": []
   },
   "outputs": [
    {
     "name": "stdout",
     "output_type": "stream",
     "text": [
      "0\n",
      "Exchange: 0.002 kilogram 'market for burnt shale' (kilogram, GLO, None) to 'cement production, CEM II/A-V' (kilogram, Europe without Switzerland, None)>\n",
      "1\n",
      "Exchange: 5.36e-11 unit 'market for cement factory' (unit, GLO, None) to 'cement production, CEM II/A-V' (kilogram, Europe without Switzerland, None)>\n",
      "2\n",
      "Exchange: 0.8265 kilogram 'clinker production' (kilogram, Europe without Switzerland, None) to 'cement production, CEM II/A-V' (kilogram, Europe without Switzerland, None)>\n",
      "3\n",
      "Exchange: 0.0374 kilowatt hour 'market group for electricity, medium voltage' (kilowatt hour, Europe without Switzerland, None) to 'cement production, CEM II/A-V' (kilogram, Europe without Switzerland, None)>\n",
      "4\n",
      "Exchange: 0.00021 kilogram 'market for ethylene glycol' (kilogram, GLO, None) to 'cement production, CEM II/A-V' (kilogram, Europe without Switzerland, None)>\n",
      "5\n",
      "Exchange: 0.0098 kilogram 'market for ground granulated blast furnace slag' (kilogram, RoW, None) to 'cement production, CEM II/A-V' (kilogram, Europe without Switzerland, None)>\n",
      "6\n",
      "Exchange: 0.0435 kilogram 'market for gypsum, mineral' (kilogram, RER, None) to 'cement production, CEM II/A-V' (kilogram, Europe without Switzerland, None)>\n",
      "7\n",
      "Exchange: 0.003136 megajoule 'market for heat, district or industrial, other than natural gas' (megajoule, Europe without Switzerland, None) to 'cement production, CEM II/A-V' (kilogram, Europe without Switzerland, None)>\n",
      "8\n",
      "Exchange: 0.104 kilogram 'market for limestone, crushed, for mill' (kilogram, RoW, None) to 'cement production, CEM II/A-V' (kilogram, Europe without Switzerland, None)>\n",
      "9\n",
      "Exchange: 0.00011 kilogram 'market for steel, low-alloyed' (kilogram, GLO, None) to 'cement production, CEM II/A-V' (kilogram, Europe without Switzerland, None)>\n"
     ]
    }
   ],
   "source": [
    "exs = [ex for ex in new_act.technosphere()]\n",
    "for i,ex in enumerate(exs):\n",
    "    print(i)\n",
    "    print(ex)"
   ]
  },
  {
   "cell_type": "code",
   "execution_count": 208,
   "id": "f8703e5c-3933-46e7-a6f0-f2250aeef264",
   "metadata": {
    "tags": []
   },
   "outputs": [],
   "source": [
    "exs[8].delete()\n",
    "exs[6].delete()\n",
    "exs[5].delete()\n",
    "exs[0].delete()"
   ]
  },
  {
   "cell_type": "code",
   "execution_count": 209,
   "id": "5b14ed87-1a5c-4d9b-8d3a-a31a88f05c09",
   "metadata": {
    "collapsed": true,
    "jupyter": {
     "outputs_hidden": true
    },
    "tags": []
   },
   "outputs": [
    {
     "name": "stdout",
     "output_type": "stream",
     "text": [
      "0\n",
      "Exchange: 5.36e-11 unit 'market for cement factory' (unit, GLO, None) to 'cement production, CEM II/A-V' (kilogram, Europe without Switzerland, None)>\n",
      "1\n",
      "Exchange: 0.8265 kilogram 'clinker production' (kilogram, Europe without Switzerland, None) to 'cement production, CEM II/A-V' (kilogram, Europe without Switzerland, None)>\n",
      "2\n",
      "Exchange: 0.0374 kilowatt hour 'market group for electricity, medium voltage' (kilowatt hour, Europe without Switzerland, None) to 'cement production, CEM II/A-V' (kilogram, Europe without Switzerland, None)>\n",
      "3\n",
      "Exchange: 0.00021 kilogram 'market for ethylene glycol' (kilogram, GLO, None) to 'cement production, CEM II/A-V' (kilogram, Europe without Switzerland, None)>\n",
      "4\n",
      "Exchange: 0.003136 megajoule 'market for heat, district or industrial, other than natural gas' (megajoule, Europe without Switzerland, None) to 'cement production, CEM II/A-V' (kilogram, Europe without Switzerland, None)>\n",
      "5\n",
      "Exchange: 0.00011 kilogram 'market for steel, low-alloyed' (kilogram, GLO, None) to 'cement production, CEM II/A-V' (kilogram, Europe without Switzerland, None)>\n"
     ]
    }
   ],
   "source": [
    "exs = [ex for ex in new_act.technosphere()]\n",
    "for i,ex in enumerate(exs):\n",
    "    print(i)\n",
    "    print(ex)"
   ]
  },
  {
   "cell_type": "code",
   "execution_count": 210,
   "id": "8aaf93b4-1198-4596-851e-f5ee7e68fc45",
   "metadata": {
    "tags": []
   },
   "outputs": [
    {
     "name": "stdout",
     "output_type": "stream",
     "text": [
      "'market for fly ash and scrubber sludge' (kilogram, Europe without Switzerland, None)\n"
     ]
    }
   ],
   "source": [
    "search=[sear for sear in ei if 'market for fly ash and scrubber sludge' in sear['name'] and 'Europe without Switzerland' in sear['location']][0]\n",
    "print(search)"
   ]
  },
  {
   "cell_type": "code",
   "execution_count": 211,
   "id": "22f9db8d-a88a-4245-a89b-bf5f7f58fef0",
   "metadata": {
    "tags": []
   },
   "outputs": [],
   "source": [
    "new_act.new_edge(input=search,amount=0.16875,type='technosphere').save() #0.135*1.25"
   ]
  },
  {
   "cell_type": "markdown",
   "id": "5cfab29e-271d-4805-92fb-e09f9d03df1a",
   "metadata": {},
   "source": [
    "\n",
    "3. cement production, CEM II/B-S\n"
   ]
  },
  {
   "cell_type": "code",
   "execution_count": 212,
   "id": "78136c5e-fe43-44ae-8195-6842fdcc4032",
   "metadata": {
    "tags": []
   },
   "outputs": [
    {
     "name": "stdout",
     "output_type": "stream",
     "text": [
      "'cement production, CEM II/B' (kilogram, Europe without Switzerland, None)\n"
     ]
    }
   ],
   "source": [
    "act=[act for act in ei if 'cement production, CEM II/B' in act['name'] and 'Europe without Switzerland'in act['location']][0]\n",
    "print(act)"
   ]
  },
  {
   "cell_type": "code",
   "execution_count": 213,
   "id": "ef5e74c4-50fa-4692-a300-6012b0fb90ad",
   "metadata": {
    "tags": []
   },
   "outputs": [],
   "source": [
    "new_act=act.copy(name='cement production, CEM II/B-S',code='cement production, CEM II/B-S')\n",
    "new_act.save()"
   ]
  },
  {
   "cell_type": "code",
   "execution_count": 214,
   "id": "06e8a28c-5baa-4ef9-99fd-131204a59a83",
   "metadata": {
    "collapsed": true,
    "jupyter": {
     "outputs_hidden": true
    },
    "tags": []
   },
   "outputs": [
    {
     "name": "stdout",
     "output_type": "stream",
     "text": [
      "0\n",
      "Exchange: 0.0042 kilogram 'market for burnt shale' (kilogram, GLO, None) to 'cement production, CEM II/B-S' (kilogram, Europe without Switzerland, None)>\n",
      "1\n",
      "Exchange: 5.36e-11 unit 'market for cement factory' (unit, GLO, None) to 'cement production, CEM II/B-S' (kilogram, Europe without Switzerland, None)>\n",
      "2\n",
      "Exchange: 0.684 kilogram 'clinker production' (kilogram, Europe without Switzerland, None) to 'cement production, CEM II/B-S' (kilogram, Europe without Switzerland, None)>\n",
      "3\n",
      "Exchange: 0.0365 kilowatt hour 'market group for electricity, medium voltage' (kilowatt hour, Europe without Switzerland, None) to 'cement production, CEM II/B-S' (kilogram, Europe without Switzerland, None)>\n",
      "4\n",
      "Exchange: 0.00031 kilogram 'market for ethylene glycol' (kilogram, GLO, None) to 'cement production, CEM II/B-S' (kilogram, Europe without Switzerland, None)>\n",
      "5\n",
      "Exchange: 0.021 kilogram 'market for ground granulated blast furnace slag' (kilogram, RoW, None) to 'cement production, CEM II/B-S' (kilogram, Europe without Switzerland, None)>\n",
      "6\n",
      "Exchange: 0.036 kilogram 'market for gypsum, mineral' (kilogram, RER, None) to 'cement production, CEM II/B-S' (kilogram, Europe without Switzerland, None)>\n",
      "7\n",
      "Exchange: 0.00672 megajoule 'market for heat, district or industrial, other than natural gas' (megajoule, Europe without Switzerland, None) to 'cement production, CEM II/B-S' (kilogram, Europe without Switzerland, None)>\n",
      "8\n",
      "Exchange: 0.224 kilogram 'market for limestone, crushed, for mill' (kilogram, RoW, None) to 'cement production, CEM II/B-S' (kilogram, Europe without Switzerland, None)>\n",
      "9\n",
      "Exchange: 0.00011 kilogram 'market for steel, low-alloyed' (kilogram, GLO, None) to 'cement production, CEM II/B-S' (kilogram, Europe without Switzerland, None)>\n"
     ]
    }
   ],
   "source": [
    "exs = [ex for ex in new_act.technosphere()]\n",
    "for i,ex in enumerate(exs):\n",
    "    print(i)\n",
    "    print(ex)"
   ]
  },
  {
   "cell_type": "code",
   "execution_count": 215,
   "id": "27f7380b-d11d-4111-9e6c-ea05181f301d",
   "metadata": {
    "tags": []
   },
   "outputs": [],
   "source": [
    "exs[8].delete()\n",
    "exs[6].delete()\n",
    "exs[5].delete()\n",
    "exs[0].delete()"
   ]
  },
  {
   "cell_type": "code",
   "execution_count": 216,
   "id": "7fa92bda-f492-48c8-83ed-152b6a14160c",
   "metadata": {
    "collapsed": true,
    "jupyter": {
     "outputs_hidden": true
    },
    "tags": []
   },
   "outputs": [
    {
     "name": "stdout",
     "output_type": "stream",
     "text": [
      "0\n",
      "Exchange: 5.36e-11 unit 'market for cement factory' (unit, GLO, None) to 'cement production, CEM II/B-S' (kilogram, Europe without Switzerland, None)>\n",
      "1\n",
      "Exchange: 0.684 kilogram 'clinker production' (kilogram, Europe without Switzerland, None) to 'cement production, CEM II/B-S' (kilogram, Europe without Switzerland, None)>\n",
      "2\n",
      "Exchange: 0.0365 kilowatt hour 'market group for electricity, medium voltage' (kilowatt hour, Europe without Switzerland, None) to 'cement production, CEM II/B-S' (kilogram, Europe without Switzerland, None)>\n",
      "3\n",
      "Exchange: 0.00031 kilogram 'market for ethylene glycol' (kilogram, GLO, None) to 'cement production, CEM II/B-S' (kilogram, Europe without Switzerland, None)>\n",
      "4\n",
      "Exchange: 0.00672 megajoule 'market for heat, district or industrial, other than natural gas' (megajoule, Europe without Switzerland, None) to 'cement production, CEM II/B-S' (kilogram, Europe without Switzerland, None)>\n",
      "5\n",
      "Exchange: 0.00011 kilogram 'market for steel, low-alloyed' (kilogram, GLO, None) to 'cement production, CEM II/B-S' (kilogram, Europe without Switzerland, None)>\n"
     ]
    }
   ],
   "source": [
    "exs = [ex for ex in new_act.technosphere()]\n",
    "for i,ex in enumerate(exs):\n",
    "    print(i)\n",
    "    print(ex)"
   ]
  },
  {
   "cell_type": "code",
   "execution_count": 217,
   "id": "d64fe552-c942-4af1-ac2f-827dae6de0f9",
   "metadata": {
    "tags": []
   },
   "outputs": [
    {
     "name": "stdout",
     "output_type": "stream",
     "text": [
      "'market for ground granulated blast furnace slag' (kilogram, RoW, None)\n"
     ]
    }
   ],
   "source": [
    "search=[sear for sear in ei if 'market for ground granulated blast furnace slag' in sear['name'] and 'RoW' in sear['location']][0]\n",
    "print(search)"
   ]
  },
  {
   "cell_type": "code",
   "execution_count": 218,
   "id": "8780d579-d4b6-4845-916d-5cc4f5ea5940",
   "metadata": {
    "tags": []
   },
   "outputs": [],
   "source": [
    "new_act.new_edge(input=search,amount=0.316,type='technosphere').save()"
   ]
  },
  {
   "cell_type": "markdown",
   "id": "0caaec16-e2b1-4fe6-bc3f-a74323bbd6e4",
   "metadata": {},
   "source": [
    "4. cement production, CEM II/B-V"
   ]
  },
  {
   "cell_type": "code",
   "execution_count": 219,
   "id": "a5179375-ddbf-4d08-b5eb-9a4dc419dfb6",
   "metadata": {
    "tags": []
   },
   "outputs": [
    {
     "name": "stdout",
     "output_type": "stream",
     "text": [
      "'cement production, CEM II/B' (kilogram, Europe without Switzerland, None)\n"
     ]
    }
   ],
   "source": [
    "act=[act for act in ei if 'cement production, CEM II/B' ==act['name'] and 'Europe without Switzerland'in act['location']][0]\n",
    "print(act)"
   ]
  },
  {
   "cell_type": "code",
   "execution_count": 220,
   "id": "d85a9588-098b-4401-939f-48a342f75a4b",
   "metadata": {
    "tags": []
   },
   "outputs": [],
   "source": [
    "new_act=act.copy(name='cement production, CEM II/B-V',code='cement production, CEM II/B-V')\n",
    "new_act.save()"
   ]
  },
  {
   "cell_type": "code",
   "execution_count": 221,
   "id": "fcb7bc02-7515-4e4e-bb2c-d3725b8aeb59",
   "metadata": {
    "collapsed": true,
    "jupyter": {
     "outputs_hidden": true
    },
    "tags": []
   },
   "outputs": [
    {
     "name": "stdout",
     "output_type": "stream",
     "text": [
      "0\n",
      "Exchange: 0.0042 kilogram 'market for burnt shale' (kilogram, GLO, None) to 'cement production, CEM II/B-V' (kilogram, Europe without Switzerland, None)>\n",
      "1\n",
      "Exchange: 5.36e-11 unit 'market for cement factory' (unit, GLO, None) to 'cement production, CEM II/B-V' (kilogram, Europe without Switzerland, None)>\n",
      "2\n",
      "Exchange: 0.684 kilogram 'clinker production' (kilogram, Europe without Switzerland, None) to 'cement production, CEM II/B-V' (kilogram, Europe without Switzerland, None)>\n",
      "3\n",
      "Exchange: 0.0365 kilowatt hour 'market group for electricity, medium voltage' (kilowatt hour, Europe without Switzerland, None) to 'cement production, CEM II/B-V' (kilogram, Europe without Switzerland, None)>\n",
      "4\n",
      "Exchange: 0.00031 kilogram 'market for ethylene glycol' (kilogram, GLO, None) to 'cement production, CEM II/B-V' (kilogram, Europe without Switzerland, None)>\n",
      "5\n",
      "Exchange: 0.021 kilogram 'market for ground granulated blast furnace slag' (kilogram, RoW, None) to 'cement production, CEM II/B-V' (kilogram, Europe without Switzerland, None)>\n",
      "6\n",
      "Exchange: 0.036 kilogram 'market for gypsum, mineral' (kilogram, RER, None) to 'cement production, CEM II/B-V' (kilogram, Europe without Switzerland, None)>\n",
      "7\n",
      "Exchange: 0.00672 megajoule 'market for heat, district or industrial, other than natural gas' (megajoule, Europe without Switzerland, None) to 'cement production, CEM II/B-V' (kilogram, Europe without Switzerland, None)>\n",
      "8\n",
      "Exchange: 0.224 kilogram 'market for limestone, crushed, for mill' (kilogram, RoW, None) to 'cement production, CEM II/B-V' (kilogram, Europe without Switzerland, None)>\n",
      "9\n",
      "Exchange: 0.00011 kilogram 'market for steel, low-alloyed' (kilogram, GLO, None) to 'cement production, CEM II/B-V' (kilogram, Europe without Switzerland, None)>\n"
     ]
    }
   ],
   "source": [
    "exs = [ex for ex in new_act.technosphere()]\n",
    "for i,ex in enumerate(exs):\n",
    "    print(i)\n",
    "    print(ex)"
   ]
  },
  {
   "cell_type": "code",
   "execution_count": 222,
   "id": "0fc53910-80f0-4f96-a4b6-a2db5a7020cc",
   "metadata": {
    "tags": []
   },
   "outputs": [],
   "source": [
    "exs[8].delete()\n",
    "exs[6].delete()\n",
    "exs[5].delete()\n",
    "exs[0].delete()"
   ]
  },
  {
   "cell_type": "code",
   "execution_count": 223,
   "id": "ebe05328-e62c-4371-8957-e485c042426e",
   "metadata": {
    "collapsed": true,
    "jupyter": {
     "outputs_hidden": true
    },
    "tags": []
   },
   "outputs": [
    {
     "name": "stdout",
     "output_type": "stream",
     "text": [
      "0\n",
      "Exchange: 5.36e-11 unit 'market for cement factory' (unit, GLO, None) to 'cement production, CEM II/B-V' (kilogram, Europe without Switzerland, None)>\n",
      "1\n",
      "Exchange: 0.684 kilogram 'clinker production' (kilogram, Europe without Switzerland, None) to 'cement production, CEM II/B-V' (kilogram, Europe without Switzerland, None)>\n",
      "2\n",
      "Exchange: 0.0365 kilowatt hour 'market group for electricity, medium voltage' (kilowatt hour, Europe without Switzerland, None) to 'cement production, CEM II/B-V' (kilogram, Europe without Switzerland, None)>\n",
      "3\n",
      "Exchange: 0.00031 kilogram 'market for ethylene glycol' (kilogram, GLO, None) to 'cement production, CEM II/B-V' (kilogram, Europe without Switzerland, None)>\n",
      "4\n",
      "Exchange: 0.00672 megajoule 'market for heat, district or industrial, other than natural gas' (megajoule, Europe without Switzerland, None) to 'cement production, CEM II/B-V' (kilogram, Europe without Switzerland, None)>\n",
      "5\n",
      "Exchange: 0.00011 kilogram 'market for steel, low-alloyed' (kilogram, GLO, None) to 'cement production, CEM II/B-V' (kilogram, Europe without Switzerland, None)>\n"
     ]
    }
   ],
   "source": [
    "exs = [ex for ex in new_act.technosphere()]\n",
    "for i,ex in enumerate(exs):\n",
    "    print(i)\n",
    "    print(ex)"
   ]
  },
  {
   "cell_type": "code",
   "execution_count": 224,
   "id": "36ffa60d-4428-45f2-8923-8603b4c30edf",
   "metadata": {
    "tags": []
   },
   "outputs": [
    {
     "name": "stdout",
     "output_type": "stream",
     "text": [
      "'market for fly ash and scrubber sludge' (kilogram, Europe without Switzerland, None)\n"
     ]
    }
   ],
   "source": [
    "search=[sear for sear in ei if 'market for fly ash and scrubber sludge' in sear['name'] and 'Europe without Switzerland' in sear['location']][0]\n",
    "print(search)"
   ]
  },
  {
   "cell_type": "code",
   "execution_count": 225,
   "id": "8b348e08-0d98-43f6-8581-4725536504bd",
   "metadata": {
    "tags": []
   },
   "outputs": [],
   "source": [
    "new_act.new_edge(input=search,amount=0.395,type='technosphere').save() #0.316*1.25"
   ]
  },
  {
   "cell_type": "markdown",
   "id": "fbbb23e1-a3b1-408e-afb3-8acb2e836605",
   "metadata": {},
   "source": [
    "5. market for cement, adjusted"
   ]
  },
  {
   "cell_type": "code",
   "execution_count": 226,
   "id": "139438fb-f021-46cc-bcbe-5072bca8ed66",
   "metadata": {
    "tags": []
   },
   "outputs": [
    {
     "name": "stdout",
     "output_type": "stream",
     "text": [
      "'cement, all types to generic market for cement, unspecified' (kilogram, Europe without Switzerland, None)\n"
     ]
    }
   ],
   "source": [
    "act=[act for act in ei if 'cement, all types to generic market for cement, unspecified' ==act['name'] and 'Europe without Switzerland'in act['location']][0]\n",
    "print(act)"
   ]
  },
  {
   "cell_type": "code",
   "execution_count": 227,
   "id": "809fbbbf-1816-453c-bd99-c1dedd8b232d",
   "metadata": {
    "tags": []
   },
   "outputs": [],
   "source": [
    "new_act=act.copy(name='market for cement, all types, adjusted',code='market for cement, all types, adjusted')\n",
    "new_act.save()"
   ]
  },
  {
   "cell_type": "code",
   "execution_count": 228,
   "id": "8a1837af-48c4-46fe-a56e-7ca507723c2f",
   "metadata": {
    "collapsed": true,
    "jupyter": {
     "outputs_hidden": true
    },
    "tags": []
   },
   "outputs": [
    {
     "name": "stdout",
     "output_type": "stream",
     "text": [
      "0\n",
      "Exchange: 0.4337506 kilogram 'market for cement, CEM II/A' (kilogram, Europe without Switzerland, None) to 'market for cement, all types, adjusted' (kilogram, Europe without Switzerland, None)>\n",
      "1\n",
      "Exchange: 0.0459449 kilogram 'market for cement, CEM II/B' (kilogram, Europe without Switzerland, None) to 'market for cement, all types, adjusted' (kilogram, Europe without Switzerland, None)>\n",
      "2\n",
      "Exchange: 0.1370168 kilogram 'market for cement, CEM III/A' (kilogram, Europe without Switzerland, None) to 'market for cement, all types, adjusted' (kilogram, Europe without Switzerland, None)>\n",
      "3\n",
      "Exchange: 0.0141742 kilogram 'market for cement, CEM III/B' (kilogram, Europe without Switzerland, None) to 'market for cement, all types, adjusted' (kilogram, Europe without Switzerland, None)>\n",
      "4\n",
      "Exchange: 0.0023624 kilogram 'market for cement, CEM III/C' (kilogram, Europe without Switzerland, None) to 'market for cement, all types, adjusted' (kilogram, Europe without Switzerland, None)>\n",
      "5\n",
      "Exchange: 0.017132 kilogram 'market for cement, CEM IV/A' (kilogram, Europe without Switzerland, None) to 'market for cement, all types, adjusted' (kilogram, Europe without Switzerland, None)>\n",
      "6\n",
      "Exchange: 0.0019036 kilogram 'market for cement, CEM IV/B' (kilogram, Europe without Switzerland, None) to 'market for cement, all types, adjusted' (kilogram, Europe without Switzerland, None)>\n",
      "7\n",
      "Exchange: 0.0277602 kilogram 'market for cement, CEM V/A' (kilogram, Europe without Switzerland, None) to 'market for cement, all types, adjusted' (kilogram, Europe without Switzerland, None)>\n",
      "8\n",
      "Exchange: 0.0039657 kilogram 'market for cement, CEM V/B' (kilogram, Europe without Switzerland, None) to 'market for cement, all types, adjusted' (kilogram, Europe without Switzerland, None)>\n",
      "9\n",
      "Exchange: 0.3159898 kilogram 'market for cement, Portland' (kilogram, Europe without Switzerland, None) to 'market for cement, all types, adjusted' (kilogram, Europe without Switzerland, None)>\n"
     ]
    }
   ],
   "source": [
    "exs = [ex for ex in new_act.technosphere()]\n",
    "for i,ex in enumerate(exs):\n",
    "    print(i)\n",
    "    print(ex)"
   ]
  },
  {
   "cell_type": "code",
   "execution_count": 234,
   "id": "362f1585-1d44-472e-ac3e-997e4b96a3d1",
   "metadata": {
    "tags": []
   },
   "outputs": [],
   "source": [
    "exs[1].delete()\n",
    "exs[0].delete()"
   ]
  },
  {
   "cell_type": "code",
   "execution_count": 235,
   "id": "a6273f0e-a322-4ba4-84a6-c435db5502e3",
   "metadata": {
    "collapsed": true,
    "jupyter": {
     "outputs_hidden": true
    },
    "tags": []
   },
   "outputs": [
    {
     "name": "stdout",
     "output_type": "stream",
     "text": [
      "0\n",
      "Exchange: 0.1370168 kilogram 'market for cement, CEM III/A' (kilogram, Europe without Switzerland, None) to 'market for cement, all types, adjusted' (kilogram, Europe without Switzerland, None)>\n",
      "1\n",
      "Exchange: 0.0141742 kilogram 'market for cement, CEM III/B' (kilogram, Europe without Switzerland, None) to 'market for cement, all types, adjusted' (kilogram, Europe without Switzerland, None)>\n",
      "2\n",
      "Exchange: 0.0023624 kilogram 'market for cement, CEM III/C' (kilogram, Europe without Switzerland, None) to 'market for cement, all types, adjusted' (kilogram, Europe without Switzerland, None)>\n",
      "3\n",
      "Exchange: 0.017132 kilogram 'market for cement, CEM IV/A' (kilogram, Europe without Switzerland, None) to 'market for cement, all types, adjusted' (kilogram, Europe without Switzerland, None)>\n",
      "4\n",
      "Exchange: 0.0019036 kilogram 'market for cement, CEM IV/B' (kilogram, Europe without Switzerland, None) to 'market for cement, all types, adjusted' (kilogram, Europe without Switzerland, None)>\n",
      "5\n",
      "Exchange: 0.0277602 kilogram 'market for cement, CEM V/A' (kilogram, Europe without Switzerland, None) to 'market for cement, all types, adjusted' (kilogram, Europe without Switzerland, None)>\n",
      "6\n",
      "Exchange: 0.0039657 kilogram 'market for cement, CEM V/B' (kilogram, Europe without Switzerland, None) to 'market for cement, all types, adjusted' (kilogram, Europe without Switzerland, None)>\n",
      "7\n",
      "Exchange: 0.3159898 kilogram 'market for cement, Portland' (kilogram, Europe without Switzerland, None) to 'market for cement, all types, adjusted' (kilogram, Europe without Switzerland, None)>\n"
     ]
    }
   ],
   "source": [
    "exs = [ex for ex in new_act.technosphere()]\n",
    "for i,ex in enumerate(exs):\n",
    "    print(i)\n",
    "    print(ex)"
   ]
  },
  {
   "cell_type": "code",
   "execution_count": 236,
   "id": "69d6e5a4-8ecf-43e5-8d5f-97a0c0cc3aa3",
   "metadata": {
    "tags": []
   },
   "outputs": [
    {
     "name": "stdout",
     "output_type": "stream",
     "text": [
      "'cement production, CEM II/A-S' (kilogram, Europe without Switzerland, None)\n",
      "'cement production, CEM II/A-V' (kilogram, Europe without Switzerland, None)\n",
      "'cement production, CEM II/B-S' (kilogram, Europe without Switzerland, None)\n",
      "'cement production, CEM II/B-V' (kilogram, Europe without Switzerland, None)\n"
     ]
    }
   ],
   "source": [
    "search=[sear for sear in ei if 'cement production, CEM II/A-S' in sear['name'] and 'Europe without Switzerland'in sear['location']][0]\n",
    "print(search)\n",
    "new_act.new_edge(input=search,amount=0.43375/2,type='technosphere').save()\n",
    "\n",
    "search=[sear for sear in ei if 'cement production, CEM II/A-V' in sear['name'] and 'Europe without Switzerland'in sear['location']][0]\n",
    "print(search)\n",
    "new_act.new_edge(input=search,amount=0.43375/2,type='technosphere').save()\n",
    "\n",
    "search=[sear for sear in ei if 'cement production, CEM II/B-S' in sear['name'] and 'Europe without Switzerland'in sear['location']][0]\n",
    "print(search)\n",
    "new_act.new_edge(input=search,amount=0.0459449/2,type='technosphere').save()\n",
    "\n",
    "search=[sear for sear in ei if 'cement production, CEM II/B-V' in sear['name'] and 'Europe without Switzerland'in sear['location']][0]\n",
    "print(search)\n",
    "new_act.new_edge(input=search,amount=0.0459449/2,type='technosphere').save()"
   ]
  },
  {
   "cell_type": "code",
   "execution_count": 237,
   "id": "3c82d862-1078-48d0-8167-817c8bfc66de",
   "metadata": {
    "tags": []
   },
   "outputs": [
    {
     "name": "stdout",
     "output_type": "stream",
     "text": [
      "0\n",
      "Exchange: 0.1370168 kilogram 'market for cement, CEM III/A' (kilogram, Europe without Switzerland, None) to 'market for cement, all types, adjusted' (kilogram, Europe without Switzerland, None)>\n",
      "1\n",
      "Exchange: 0.0141742 kilogram 'market for cement, CEM III/B' (kilogram, Europe without Switzerland, None) to 'market for cement, all types, adjusted' (kilogram, Europe without Switzerland, None)>\n",
      "2\n",
      "Exchange: 0.0023624 kilogram 'market for cement, CEM III/C' (kilogram, Europe without Switzerland, None) to 'market for cement, all types, adjusted' (kilogram, Europe without Switzerland, None)>\n",
      "3\n",
      "Exchange: 0.017132 kilogram 'market for cement, CEM IV/A' (kilogram, Europe without Switzerland, None) to 'market for cement, all types, adjusted' (kilogram, Europe without Switzerland, None)>\n",
      "4\n",
      "Exchange: 0.0019036 kilogram 'market for cement, CEM IV/B' (kilogram, Europe without Switzerland, None) to 'market for cement, all types, adjusted' (kilogram, Europe without Switzerland, None)>\n",
      "5\n",
      "Exchange: 0.0277602 kilogram 'market for cement, CEM V/A' (kilogram, Europe without Switzerland, None) to 'market for cement, all types, adjusted' (kilogram, Europe without Switzerland, None)>\n",
      "6\n",
      "Exchange: 0.0039657 kilogram 'market for cement, CEM V/B' (kilogram, Europe without Switzerland, None) to 'market for cement, all types, adjusted' (kilogram, Europe without Switzerland, None)>\n",
      "7\n",
      "Exchange: 0.3159898 kilogram 'market for cement, Portland' (kilogram, Europe without Switzerland, None) to 'market for cement, all types, adjusted' (kilogram, Europe without Switzerland, None)>\n",
      "8\n",
      "Exchange: 0.216875 kilogram 'cement production, CEM II/A-S' (kilogram, Europe without Switzerland, None) to 'market for cement, all types, adjusted' (kilogram, Europe without Switzerland, None)>\n",
      "9\n",
      "Exchange: 0.216875 kilogram 'cement production, CEM II/A-V' (kilogram, Europe without Switzerland, None) to 'market for cement, all types, adjusted' (kilogram, Europe without Switzerland, None)>\n",
      "10\n",
      "Exchange: 0.02297245 kilogram 'cement production, CEM II/B-S' (kilogram, Europe without Switzerland, None) to 'market for cement, all types, adjusted' (kilogram, Europe without Switzerland, None)>\n",
      "11\n",
      "Exchange: 0.02297245 kilogram 'cement production, CEM II/B-V' (kilogram, Europe without Switzerland, None) to 'market for cement, all types, adjusted' (kilogram, Europe without Switzerland, None)>\n"
     ]
    }
   ],
   "source": [
    "exs = [ex for ex in new_act.technosphere()]\n",
    "for i,ex in enumerate(exs):\n",
    "    print(i)\n",
    "    print(ex)"
   ]
  },
  {
   "cell_type": "markdown",
   "id": "4fe91113-5273-4337-9e21-65c5eaa1f70b",
   "metadata": {},
   "source": [
    "# Importer from CSV DOESN T WORK"
   ]
  },
  {
   "cell_type": "code",
   "execution_count": 20,
   "id": "0de34ee2-329f-4872-adff-ffc5e92b0014",
   "metadata": {
    "tags": []
   },
   "outputs": [
    {
     "data": {
      "text/plain": [
       "'transport, freight, lorry 16-32 metric ton, EURO6'"
      ]
     },
     "execution_count": 20,
     "metadata": {},
     "output_type": "execute_result"
    }
   ],
   "source": [
    "activity.as_dict()['reference product']"
   ]
  },
  {
   "cell_type": "code",
   "execution_count": 12,
   "id": "aea4a064-5322-499e-aaf0-52f3713fdc13",
   "metadata": {
    "tags": []
   },
   "outputs": [
    {
     "data": {
      "text/plain": [
       "\u001b[1;31mInit signature:\u001b[0m \u001b[0mbi\u001b[0m\u001b[1;33m.\u001b[0m\u001b[0mCSVImporter\u001b[0m\u001b[1;33m(\u001b[0m\u001b[0mfilepath\u001b[0m\u001b[1;33m)\u001b[0m\u001b[1;33m\u001b[0m\u001b[1;33m\u001b[0m\u001b[0m\n",
       "\u001b[1;31mDocstring:\u001b[0m      Generic CSV importer\n",
       "\u001b[1;31mInit docstring:\u001b[0m\n",
       "Initialize the ImportBase object.\n",
       "\n",
       "Parameters\n",
       "----------\n",
       "*args :\n",
       "    Variable length argument list.\n",
       "**kwargs :\n",
       "    Arbitrary keyword arguments.\n",
       "\n",
       "Raises\n",
       "------\n",
       "NotImplemented :\n",
       "    This class should be subclassed.\n",
       "\u001b[1;31mFile:\u001b[0m           c:\\users\\pierr\\anaconda3\\envs\\bw\\lib\\site-packages\\bw2io\\importers\\excel.py\n",
       "\u001b[1;31mType:\u001b[0m           type\n",
       "\u001b[1;31mSubclasses:\u001b[0m     "
      ]
     },
     "metadata": {},
     "output_type": "display_data"
    }
   ],
   "source": [
    "bi.CSVImporter?"
   ]
  },
  {
   "cell_type": "code",
   "execution_count": 21,
   "id": "efae9e96-7015-46b5-b8ed-97666b3585ac",
   "metadata": {
    "tags": []
   },
   "outputs": [
    {
     "name": "stdout",
     "output_type": "stream",
     "text": [
      "Extracted 1 worksheets in 0.00 seconds\n",
      "Applying strategy: csv_restore_tuples\n",
      "Applying strategy: csv_restore_booleans\n",
      "Applying strategy: csv_numerize\n",
      "Applying strategy: csv_drop_unknown\n",
      "Applying strategy: csv_add_missing_exchanges_section\n",
      "Applying strategy: normalize_units\n",
      "Applying strategy: normalize_biosphere_categories\n",
      "Applying strategy: normalize_biosphere_names\n",
      "Applying strategy: strip_biosphere_exc_locations\n",
      "Applying strategy: set_code_by_activity_hash\n",
      "Applying strategy: link_iterable_by_fields\n",
      "Applying strategy: assign_only_product_as_production\n",
      "Applying strategy: link_technosphere_by_activity_hash\n",
      "Applying strategy: drop_falsey_uncertainty_fields_but_keep_zeros\n",
      "Applying strategy: convert_uncertainty_types_to_integers\n",
      "Applying strategy: convert_activity_parameters_to_list\n",
      "Applied 16 strategies in 35.73 seconds\n",
      "Applying strategy: link_iterable_by_fields\n",
      "Applying strategy: link_iterable_by_fields\n",
      "Applying strategy: link_iterable_by_fields\n"
     ]
    },
    {
     "ename": "TypeError",
     "evalue": "'<' not supported between instances of 'NoneType' and 'str'",
     "output_type": "error",
     "traceback": [
      "\u001b[1;31m---------------------------------------------------------------------------\u001b[0m",
      "\u001b[1;31mTypeError\u001b[0m                                 Traceback (most recent call last)",
      "Cell \u001b[1;32mIn[21], line 6\u001b[0m\n\u001b[0;32m      4\u001b[0m i\u001b[38;5;241m.\u001b[39mmatch_database(\u001b[38;5;124m\"\u001b[39m\u001b[38;5;124mecoinvent-391-cutoff\u001b[39m\u001b[38;5;124m\"\u001b[39m, fields\u001b[38;5;241m=\u001b[39m[\u001b[38;5;124m\"\u001b[39m\u001b[38;5;124mname\u001b[39m\u001b[38;5;124m\"\u001b[39m, \u001b[38;5;124m\"\u001b[39m\u001b[38;5;124mreference product\u001b[39m\u001b[38;5;124m\"\u001b[39m, \u001b[38;5;124m\"\u001b[39m\u001b[38;5;124munit\u001b[39m\u001b[38;5;124m\"\u001b[39m, \u001b[38;5;124m\"\u001b[39m\u001b[38;5;124mlocation\u001b[39m\u001b[38;5;124m\"\u001b[39m])\n\u001b[0;32m      5\u001b[0m i\u001b[38;5;241m.\u001b[39mmatch_database(\u001b[38;5;124m\"\u001b[39m\u001b[38;5;124mbiosphere3\u001b[39m\u001b[38;5;124m\"\u001b[39m, fields\u001b[38;5;241m=\u001b[39m[\u001b[38;5;124m\"\u001b[39m\u001b[38;5;124mname\u001b[39m\u001b[38;5;124m\"\u001b[39m, \u001b[38;5;124m\"\u001b[39m\u001b[38;5;124mcategories\u001b[39m\u001b[38;5;124m\"\u001b[39m])\n\u001b[1;32m----> 6\u001b[0m i\u001b[38;5;241m.\u001b[39mstatistics()\n\u001b[0;32m      7\u001b[0m \u001b[38;5;66;03m#i.drop_unlinked(i_am_reckless=True)\u001b[39;00m\n\u001b[0;32m      8\u001b[0m i\u001b[38;5;241m.\u001b[39mwrite_database()\n",
      "File \u001b[1;32m~\\anaconda3\\envs\\bw\\Lib\\site-packages\\bw2io\\importers\\base_lci.py:74\u001b[0m, in \u001b[0;36mLCIImporter.statistics\u001b[1;34m(self, print_stats)\u001b[0m\n\u001b[0;32m     72\u001b[0m         \u001b[38;5;28;01mfor\u001b[39;00m exc \u001b[38;5;129;01min\u001b[39;00m (e \u001b[38;5;28;01mfor\u001b[39;00m e \u001b[38;5;129;01min\u001b[39;00m ds\u001b[38;5;241m.\u001b[39mget(\u001b[38;5;124m\"\u001b[39m\u001b[38;5;124mexchanges\u001b[39m\u001b[38;5;124m\"\u001b[39m, []) \u001b[38;5;28;01mif\u001b[39;00m \u001b[38;5;129;01mnot\u001b[39;00m e\u001b[38;5;241m.\u001b[39mget(\u001b[38;5;124m\"\u001b[39m\u001b[38;5;124minput\u001b[39m\u001b[38;5;124m\"\u001b[39m)):\n\u001b[0;32m     73\u001b[0m             unique_unlinked[exc\u001b[38;5;241m.\u001b[39mget(\u001b[38;5;124m\"\u001b[39m\u001b[38;5;124mtype\u001b[39m\u001b[38;5;124m\"\u001b[39m)]\u001b[38;5;241m.\u001b[39madd(activity_hash(exc))\n\u001b[1;32m---> 74\u001b[0m     unique_unlinked \u001b[38;5;241m=\u001b[39m \u001b[38;5;28msorted\u001b[39m(\n\u001b[0;32m     75\u001b[0m         [(k, \u001b[38;5;28mlen\u001b[39m(v)) \u001b[38;5;28;01mfor\u001b[39;00m k, v \u001b[38;5;129;01min\u001b[39;00m \u001b[38;5;28mlist\u001b[39m(unique_unlinked\u001b[38;5;241m.\u001b[39mitems())]\n\u001b[0;32m     76\u001b[0m     )\n\u001b[0;32m     78\u001b[0m     \u001b[38;5;28mprint\u001b[39m(\n\u001b[0;32m     79\u001b[0m         (\n\u001b[0;32m     80\u001b[0m             \u001b[38;5;124mu\u001b[39m\u001b[38;5;124m\"\u001b[39m\u001b[38;5;132;01m{}\u001b[39;00m\u001b[38;5;124m datasets\u001b[39m\u001b[38;5;130;01m\\n\u001b[39;00m\u001b[38;5;132;01m{}\u001b[39;00m\u001b[38;5;124m exchanges\u001b[39m\u001b[38;5;130;01m\\n\u001b[39;00m\u001b[38;5;132;01m{}\u001b[39;00m\u001b[38;5;124m unlinked exchanges\u001b[39m\u001b[38;5;130;01m\\n\u001b[39;00m\u001b[38;5;124m  \u001b[39m\u001b[38;5;124m\"\u001b[39m\n\u001b[1;32m   (...)\u001b[0m\n\u001b[0;32m     87\u001b[0m         )\u001b[38;5;241m.\u001b[39mformat(num_datasets, num_exchanges, num_unlinked)\n\u001b[0;32m     88\u001b[0m     )\n\u001b[0;32m     89\u001b[0m \u001b[38;5;28;01mreturn\u001b[39;00m num_datasets, num_exchanges, num_unlinked\n",
      "\u001b[1;31mTypeError\u001b[0m: '<' not supported between instances of 'NoneType' and 'str'"
     ]
    }
   ],
   "source": [
    "i=bi.CSVImporter(r\"C:/Users/pierr/autumn-school-bw2/lci-reinforcing-steel.csv\")\n",
    "i.apply_strategies()\n",
    "i.match_database(fields=[\"name\", \"location\", \"unit\"])\n",
    "i.match_database(\"ecoinvent-391-cutoff\", fields=[\"name\", \"reference product\", \"unit\", \"location\"])\n",
    "i.match_database(\"biosphere3\", fields=[\"name\", \"categories\"])\n",
    "i.statistics()\n",
    "#i.drop_unlinked(i_am_reckless=True)\n",
    "i.write_database()"
   ]
  },
  {
   "cell_type": "code",
   "execution_count": 14,
   "id": "4fd3bf46-53a7-4322-b168-a9ead076ae2a",
   "metadata": {
    "tags": []
   },
   "outputs": [
    {
     "ename": "IndexError",
     "evalue": "list index out of range",
     "output_type": "error",
     "traceback": [
      "\u001b[1;31m---------------------------------------------------------------------------\u001b[0m",
      "\u001b[1;31mIndexError\u001b[0m                                Traceback (most recent call last)",
      "Cell \u001b[1;32mIn[14], line 1\u001b[0m\n\u001b[1;32m----> 1\u001b[0m activity\u001b[38;5;241m=\u001b[39m[act \u001b[38;5;28;01mfor\u001b[39;00m act \u001b[38;5;129;01min\u001b[39;00m ei \u001b[38;5;28;01mif\u001b[39;00m \u001b[38;5;124m\"\u001b[39m\u001b[38;5;124mreinforcing steel production\u001b[39m\u001b[38;5;124m\"\u001b[39m \u001b[38;5;241m==\u001b[39m act[\u001b[38;5;124m'\u001b[39m\u001b[38;5;124mname\u001b[39m\u001b[38;5;124m'\u001b[39m] \u001b[38;5;129;01mand\u001b[39;00m \u001b[38;5;124m\"\u001b[39m\u001b[38;5;124mRER\u001b[39m\u001b[38;5;124m\"\u001b[39m \u001b[38;5;241m==\u001b[39m act[\u001b[38;5;124m'\u001b[39m\u001b[38;5;124mlocation\u001b[39m\u001b[38;5;124m'\u001b[39m]][\u001b[38;5;241m0\u001b[39m]\n",
      "\u001b[1;31mIndexError\u001b[0m: list index out of range"
     ]
    }
   ],
   "source": [
    "activity=[act for act in ei if \"reinforcing steel production\" == act['name'] and \"RER\" == act['location']][0]"
   ]
  },
  {
   "cell_type": "code",
   "execution_count": null,
   "id": "b95cd67d-6d49-4dd6-9a71-1d0544f2b96c",
   "metadata": {},
   "outputs": [],
   "source": []
  }
 ],
 "metadata": {
  "kernelspec": {
   "display_name": "Python 3 (ipykernel)",
   "language": "python",
   "name": "python3"
  },
  "language_info": {
   "codemirror_mode": {
    "name": "ipython",
    "version": 3
   },
   "file_extension": ".py",
   "mimetype": "text/x-python",
   "name": "python",
   "nbconvert_exporter": "python",
   "pygments_lexer": "ipython3",
   "version": "3.11.5"
  }
 },
 "nbformat": 4,
 "nbformat_minor": 5
}
