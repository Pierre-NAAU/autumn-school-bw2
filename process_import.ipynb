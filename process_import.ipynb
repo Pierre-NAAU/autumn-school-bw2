{
 "cells": [
  {
   "cell_type": "markdown",
   "id": "1908ee0f-e8cc-4600-a403-6021736ab1dd",
   "metadata": {},
   "source": [
    "# Setup"
   ]
  },
  {
   "cell_type": "code",
   "execution_count": 2,
   "id": "25382e79-f6f8-41f9-865f-a63c2fa02e9b",
   "metadata": {
    "tags": []
   },
   "outputs": [],
   "source": [
    "# Import packages we'll need later on in this tutorial\n",
    "import os\n",
    "import matplotlib.pyplot as plt\n",
    "import numpy as np\n",
    "import pandas as pd\n",
    "\n",
    "# Import BW25 packages. You'll notice the packages are imported individually, unlike a one-and-done import with BW2.\n",
    "import bw2data as bd\n",
    "import bw2io as bi\n",
    "import bw2calc as bc\n",
    "import bw2analyzer as bwa"
   ]
  },
  {
   "cell_type": "code",
   "execution_count": 3,
   "id": "e693bda1-70d8-4d93-a540-aa742412c483",
   "metadata": {
    "tags": []
   },
   "outputs": [
    {
     "data": {
      "text/plain": [
       "Brightway2 projects manager with 2 objects:\n",
       "\tautumn-school\n",
       "\tdefault\n",
       "Use `projects.report()` to get a report on all projects."
      ]
     },
     "execution_count": 3,
     "metadata": {},
     "output_type": "execute_result"
    }
   ],
   "source": [
    "bd.projects"
   ]
  },
  {
   "cell_type": "code",
   "execution_count": 4,
   "id": "a649c9b1-354b-44d9-a914-92f491f29b39",
   "metadata": {
    "tags": []
   },
   "outputs": [],
   "source": [
    "# You need to set a project. Give it a name!\n",
    "name = \"autumn-school\"\n",
    "bd.projects.set_current(name)"
   ]
  },
  {
   "cell_type": "code",
   "execution_count": 5,
   "id": "75f90d62-75bb-4fbd-931d-f620b406759f",
   "metadata": {
    "tags": []
   },
   "outputs": [
    {
     "data": {
      "text/plain": [
       "Databases dictionary with 2 object(s):\n",
       "\tbiosphere3\n",
       "\tecoinvent-391-cutoff"
      ]
     },
     "execution_count": 5,
     "metadata": {},
     "output_type": "execute_result"
    }
   ],
   "source": [
    "# If this is your first time using this BW25 project, this should be an empty dictionary! \n",
    "bd.databases"
   ]
  },
  {
   "cell_type": "code",
   "execution_count": 6,
   "id": "265f61e0-8cbe-4f42-bb4f-ba11e8b420e4",
   "metadata": {
    "tags": []
   },
   "outputs": [
    {
     "name": "stdout",
     "output_type": "stream",
     "text": [
      "Biosphere database already present!!! No setup is needed\n"
     ]
    }
   ],
   "source": [
    "# If this is the first time you've set up the project, you need to install the biosphere flows.\n",
    "# You do not need to run this subsequent times.\n",
    "\n",
    "bi.bw2setup() ## THIS YIELDS AN ERROR AT THE MOMENT"
   ]
  },
  {
   "cell_type": "code",
   "execution_count": 7,
   "id": "127c167f-f235-42c5-b494-e30864be9f26",
   "metadata": {
    "tags": []
   },
   "outputs": [
    {
     "name": "stdout",
     "output_type": "stream",
     "text": [
      "Database has already been imported.\n"
     ]
    }
   ],
   "source": [
    "# Import the path where your EI database is stored. \n",
    "# Note that the EI database must be unzipped and the path should end at the datasets folder.\n",
    "ei_path = r\"C:\\Users\\pierr\\cutoff39\\datasets\"\n",
    "\n",
    "# You will also need to give your database a name. This name will appear when you call bd.databases.\n",
    "# Here, I am using EI v3.9.1 cutoff.\n",
    "ei_name = \"ecoinvent-391-cutoff\"\n",
    "\n",
    "# When we execute this cell, we will check if it's already been imported, and if not (else) we import it.\n",
    "\n",
    "if ei_name in bd.databases:\n",
    "    print(\"Database has already been imported.\")\n",
    "else:\n",
    "# Go ahead and import:\n",
    "    ei_importer = bi.SingleOutputEcospold2Importer(ei_path, ei_name)\n",
    "    # Apply stragegies \n",
    "    ei_importer.apply_strategies()\n",
    "    # We can get some statistics\n",
    "    ei_importer.statistics()\n",
    "    # Now we will write the database into our project. \n",
    "    ei_importer.write_database()"
   ]
  },
  {
   "cell_type": "code",
   "execution_count": 8,
   "id": "29e5e767-530e-4df0-8924-2023d656b236",
   "metadata": {},
   "outputs": [],
   "source": [
    "ei=bd.Database(\"ecoinvent-391-cutoff\")"
   ]
  },
  {
   "cell_type": "code",
   "execution_count": 9,
   "id": "27960c0f-f66e-466d-abae-43653e8cffe4",
   "metadata": {
    "tags": []
   },
   "outputs": [
    {
     "name": "stdout",
     "output_type": "stream",
     "text": [
      "['steel production, electric, low-alloyed' (kilogram, Europe without Switzerland and Austria, None)]\n"
     ]
    }
   ],
   "source": [
    "print([act for act in ei if \"steel production, electric, low-alloyed\" == act['name'] and \"Europe without Switzerland and Austria\" == act['location']])"
   ]
  },
  {
   "cell_type": "code",
   "execution_count": 10,
   "id": "695d3176-4d3f-4470-a2d8-5ec53b16f0d3",
   "metadata": {
    "tags": []
   },
   "outputs": [
    {
     "data": {
      "text/plain": [
       "'transport, freight, lorry 16-32 metric ton, EURO6'"
      ]
     },
     "execution_count": 10,
     "metadata": {},
     "output_type": "execute_result"
    }
   ],
   "source": [
    "activity=[act for act in ei if \"transport, freight, lorry 16-32 metric ton, EURO6\" == act['name'] and \"RER\" == act['location']][0]\n",
    "activity.as_dict()['reference product']"
   ]
  },
  {
   "cell_type": "code",
   "execution_count": 11,
   "id": "0de34ee2-329f-4872-adff-ffc5e92b0014",
   "metadata": {
    "tags": []
   },
   "outputs": [
    {
     "data": {
      "text/plain": [
       "'transport, freight, lorry 16-32 metric ton, EURO6'"
      ]
     },
     "execution_count": 11,
     "metadata": {},
     "output_type": "execute_result"
    }
   ],
   "source": [
    "activity.as_dict()['reference product']"
   ]
  },
  {
   "cell_type": "code",
   "execution_count": 12,
   "id": "aea4a064-5322-499e-aaf0-52f3713fdc13",
   "metadata": {
    "tags": []
   },
   "outputs": [
    {
     "data": {
      "text/plain": [
       "\u001b[1;31mInit signature:\u001b[0m \u001b[0mbi\u001b[0m\u001b[1;33m.\u001b[0m\u001b[0mCSVImporter\u001b[0m\u001b[1;33m(\u001b[0m\u001b[0mfilepath\u001b[0m\u001b[1;33m)\u001b[0m\u001b[1;33m\u001b[0m\u001b[1;33m\u001b[0m\u001b[0m\n",
       "\u001b[1;31mDocstring:\u001b[0m      Generic CSV importer\n",
       "\u001b[1;31mInit docstring:\u001b[0m\n",
       "Initialize the ImportBase object.\n",
       "\n",
       "Parameters\n",
       "----------\n",
       "*args :\n",
       "    Variable length argument list.\n",
       "**kwargs :\n",
       "    Arbitrary keyword arguments.\n",
       "\n",
       "Raises\n",
       "------\n",
       "NotImplemented :\n",
       "    This class should be subclassed.\n",
       "\u001b[1;31mFile:\u001b[0m           c:\\users\\pierr\\anaconda3\\envs\\bw\\lib\\site-packages\\bw2io\\importers\\excel.py\n",
       "\u001b[1;31mType:\u001b[0m           type\n",
       "\u001b[1;31mSubclasses:\u001b[0m     "
      ]
     },
     "metadata": {},
     "output_type": "display_data"
    }
   ],
   "source": [
    "bi.CSVImporter?"
   ]
  },
  {
   "cell_type": "code",
   "execution_count": 13,
   "id": "efae9e96-7015-46b5-b8ed-97666b3585ac",
   "metadata": {
    "tags": []
   },
   "outputs": [
    {
     "name": "stdout",
     "output_type": "stream",
     "text": [
      "Extracted 1 worksheets in 0.00 seconds\n",
      "Applying strategy: csv_restore_tuples\n",
      "Applying strategy: csv_restore_booleans\n",
      "Applying strategy: csv_numerize\n",
      "Applying strategy: csv_drop_unknown\n",
      "Applying strategy: csv_add_missing_exchanges_section\n",
      "Applying strategy: normalize_units\n",
      "Applying strategy: normalize_biosphere_categories\n",
      "Applying strategy: normalize_biosphere_names\n",
      "Applying strategy: strip_biosphere_exc_locations\n",
      "Applying strategy: set_code_by_activity_hash\n",
      "Applying strategy: link_iterable_by_fields\n",
      "Applying strategy: assign_only_product_as_production\n",
      "Applying strategy: link_technosphere_by_activity_hash\n",
      "Applying strategy: drop_falsey_uncertainty_fields_but_keep_zeros\n",
      "Applying strategy: convert_uncertainty_types_to_integers\n",
      "Applying strategy: convert_activity_parameters_to_list\n",
      "Applied 16 strategies in 29.74 seconds\n",
      "Applying strategy: link_iterable_by_fields\n",
      "Applying strategy: link_iterable_by_fields\n",
      "Applying strategy: link_iterable_by_fields\n",
      "Not able to determine geocollections for all datasets. This database is not ready for regionalization.\n"
     ]
    },
    {
     "name": "stderr",
     "output_type": "stream",
     "text": [
      "  0%|                                                                                            | 0/1 [00:00<?, ?it/s]\n"
     ]
    },
    {
     "ename": "InvalidExchange",
     "evalue": "",
     "output_type": "error",
     "traceback": [
      "\u001b[1;31m---------------------------------------------------------------------------\u001b[0m",
      "\u001b[1;31mInvalidExchange\u001b[0m                           Traceback (most recent call last)",
      "Cell \u001b[1;32mIn[13], line 8\u001b[0m\n\u001b[0;32m      5\u001b[0m i\u001b[38;5;241m.\u001b[39mmatch_database(\u001b[38;5;124m\"\u001b[39m\u001b[38;5;124mbiosphere3\u001b[39m\u001b[38;5;124m\"\u001b[39m, fields\u001b[38;5;241m=\u001b[39m[\u001b[38;5;124m\"\u001b[39m\u001b[38;5;124mname\u001b[39m\u001b[38;5;124m\"\u001b[39m, \u001b[38;5;124m\"\u001b[39m\u001b[38;5;124mcategories\u001b[39m\u001b[38;5;124m\"\u001b[39m])\n\u001b[0;32m      6\u001b[0m \u001b[38;5;66;03m#i.statistics()\u001b[39;00m\n\u001b[0;32m      7\u001b[0m \u001b[38;5;66;03m#i.drop_unlinked(i_am_reckless=True)\u001b[39;00m\n\u001b[1;32m----> 8\u001b[0m i\u001b[38;5;241m.\u001b[39mwrite_database()\n",
      "File \u001b[1;32m~\\anaconda3\\envs\\bw\\Lib\\site-packages\\bw2io\\importers\\excel.py:282\u001b[0m, in \u001b[0;36mExcelImporter.write_database\u001b[1;34m(self, **kwargs)\u001b[0m\n\u001b[0;32m    280\u001b[0m \u001b[38;5;250m\u001b[39m\u001b[38;5;124;03m\"\"\"Same as base ``write_database`` method, but ``activate_parameters`` is True by default.\"\"\"\u001b[39;00m\n\u001b[0;32m    281\u001b[0m kwargs[\u001b[38;5;124m\"\u001b[39m\u001b[38;5;124mactivate_parameters\u001b[39m\u001b[38;5;124m\"\u001b[39m] \u001b[38;5;241m=\u001b[39m kwargs\u001b[38;5;241m.\u001b[39mget(\u001b[38;5;124m\"\u001b[39m\u001b[38;5;124mactivate_parameters\u001b[39m\u001b[38;5;124m\"\u001b[39m, \u001b[38;5;28;01mTrue\u001b[39;00m)\n\u001b[1;32m--> 282\u001b[0m \u001b[38;5;28msuper\u001b[39m(ExcelImporter, \u001b[38;5;28mself\u001b[39m)\u001b[38;5;241m.\u001b[39mwrite_database(\u001b[38;5;241m*\u001b[39m\u001b[38;5;241m*\u001b[39mkwargs)\n",
      "File \u001b[1;32m~\\anaconda3\\envs\\bw\\Lib\\site-packages\\bw2io\\importers\\base_lci.py:278\u001b[0m, in \u001b[0;36mLCIImporter.write_database\u001b[1;34m(self, data, delete_existing, backend, activate_parameters, db_name, searchable, **kwargs)\u001b[0m\n\u001b[0;32m    275\u001b[0m \u001b[38;5;28mself\u001b[39m\u001b[38;5;241m.\u001b[39mwrite_database_parameters(activate_parameters, delete_existing)\n\u001b[0;32m    277\u001b[0m existing\u001b[38;5;241m.\u001b[39mupdate(data)\n\u001b[1;32m--> 278\u001b[0m db\u001b[38;5;241m.\u001b[39mwrite(existing, searchable\u001b[38;5;241m=\u001b[39msearchable)\n\u001b[0;32m    280\u001b[0m \u001b[38;5;28;01mif\u001b[39;00m activate_parameters:\n\u001b[0;32m    281\u001b[0m     \u001b[38;5;28mself\u001b[39m\u001b[38;5;241m.\u001b[39m_write_activity_parameters(activity_parameters)\n",
      "File \u001b[1;32m~\\anaconda3\\envs\\bw\\Lib\\site-packages\\bw2data\\project.py:432\u001b[0m, in \u001b[0;36mwritable_project\u001b[1;34m(wrapped, instance, args, kwargs)\u001b[0m\n\u001b[0;32m    429\u001b[0m \u001b[38;5;129m@wrapt\u001b[39m\u001b[38;5;241m.\u001b[39mdecorator\n\u001b[0;32m    430\u001b[0m \u001b[38;5;28;01mdef\u001b[39;00m \u001b[38;5;21mwritable_project\u001b[39m(wrapped, instance, args, kwargs):\n\u001b[0;32m    431\u001b[0m     warnings\u001b[38;5;241m.\u001b[39mwarn(\u001b[38;5;124m\"\u001b[39m\u001b[38;5;124m`writable_project` is obsolete and does nothing\u001b[39m\u001b[38;5;124m\"\u001b[39m, \u001b[38;5;167;01mDeprecationWarning\u001b[39;00m)\n\u001b[1;32m--> 432\u001b[0m     \u001b[38;5;28;01mreturn\u001b[39;00m wrapped(\u001b[38;5;241m*\u001b[39margs, \u001b[38;5;241m*\u001b[39m\u001b[38;5;241m*\u001b[39mkwargs)\n",
      "File \u001b[1;32m~\\anaconda3\\envs\\bw\\Lib\\site-packages\\bw2data\\backends\\base.py:537\u001b[0m, in \u001b[0;36mSQLiteBackend.write\u001b[1;34m(self, data, process, searchable)\u001b[0m\n\u001b[0;32m    535\u001b[0m \u001b[38;5;28;01mif\u001b[39;00m data:\n\u001b[0;32m    536\u001b[0m     \u001b[38;5;28;01mtry\u001b[39;00m:\n\u001b[1;32m--> 537\u001b[0m         \u001b[38;5;28mself\u001b[39m\u001b[38;5;241m.\u001b[39m_efficient_write_many_data(data)\n\u001b[0;32m    538\u001b[0m     \u001b[38;5;28;01mexcept\u001b[39;00m:\n\u001b[0;32m    539\u001b[0m         \u001b[38;5;66;03m# Purge all data from database, then reraise\u001b[39;00m\n\u001b[0;32m    540\u001b[0m         \u001b[38;5;28mself\u001b[39m\u001b[38;5;241m.\u001b[39mdelete(warn\u001b[38;5;241m=\u001b[39m\u001b[38;5;28;01mFalse\u001b[39;00m)\n",
      "File \u001b[1;32m~\\anaconda3\\envs\\bw\\Lib\\site-packages\\bw2data\\backends\\base.py:477\u001b[0m, in \u001b[0;36mSQLiteBackend._efficient_write_many_data\u001b[1;34m(self, data, indices)\u001b[0m\n\u001b[0;32m    474\u001b[0m exchanges, activities \u001b[38;5;241m=\u001b[39m [], []\n\u001b[0;32m    476\u001b[0m \u001b[38;5;28;01mfor\u001b[39;00m index, (key, ds) \u001b[38;5;129;01min\u001b[39;00m \u001b[38;5;28menumerate\u001b[39m(tqdm_wrapper(data\u001b[38;5;241m.\u001b[39mitems(), \u001b[38;5;28mgetattr\u001b[39m(config, \u001b[38;5;124m\"\u001b[39m\u001b[38;5;124mis_test\u001b[39m\u001b[38;5;124m\"\u001b[39m, \u001b[38;5;28;01mFalse\u001b[39;00m))):\n\u001b[1;32m--> 477\u001b[0m     exchanges, activities \u001b[38;5;241m=\u001b[39m \u001b[38;5;28mself\u001b[39m\u001b[38;5;241m.\u001b[39m_efficient_write_dataset(\n\u001b[0;32m    478\u001b[0m         index, key, ds, exchanges, activities\n\u001b[0;32m    479\u001b[0m     )\n\u001b[0;32m    481\u001b[0m \u001b[38;5;28;01mif\u001b[39;00m activities:\n\u001b[0;32m    482\u001b[0m     ActivityDataset\u001b[38;5;241m.\u001b[39minsert_many(activities)\u001b[38;5;241m.\u001b[39mexecute()\n",
      "File \u001b[1;32m~\\anaconda3\\envs\\bw\\Lib\\site-packages\\bw2data\\backends\\base.py:432\u001b[0m, in \u001b[0;36mSQLiteBackend._efficient_write_dataset\u001b[1;34m(self, index, key, ds, exchanges, activities)\u001b[0m\n\u001b[0;32m    430\u001b[0m \u001b[38;5;28;01mfor\u001b[39;00m exchange \u001b[38;5;129;01min\u001b[39;00m ds\u001b[38;5;241m.\u001b[39mget(\u001b[38;5;124m\"\u001b[39m\u001b[38;5;124mexchanges\u001b[39m\u001b[38;5;124m\"\u001b[39m, []):\n\u001b[0;32m    431\u001b[0m     \u001b[38;5;28;01mif\u001b[39;00m \u001b[38;5;124m\"\u001b[39m\u001b[38;5;124minput\u001b[39m\u001b[38;5;124m\"\u001b[39m \u001b[38;5;129;01mnot\u001b[39;00m \u001b[38;5;129;01min\u001b[39;00m exchange \u001b[38;5;129;01mor\u001b[39;00m \u001b[38;5;124m\"\u001b[39m\u001b[38;5;124mamount\u001b[39m\u001b[38;5;124m\"\u001b[39m \u001b[38;5;129;01mnot\u001b[39;00m \u001b[38;5;129;01min\u001b[39;00m exchange:\n\u001b[1;32m--> 432\u001b[0m         \u001b[38;5;28;01mraise\u001b[39;00m InvalidExchange\n\u001b[0;32m    433\u001b[0m     \u001b[38;5;28;01mif\u001b[39;00m \u001b[38;5;124m\"\u001b[39m\u001b[38;5;124mtype\u001b[39m\u001b[38;5;124m\"\u001b[39m \u001b[38;5;129;01mnot\u001b[39;00m \u001b[38;5;129;01min\u001b[39;00m exchange:\n\u001b[0;32m    434\u001b[0m         \u001b[38;5;28;01mraise\u001b[39;00m UntypedExchange\n",
      "\u001b[1;31mInvalidExchange\u001b[0m: "
     ]
    }
   ],
   "source": [
    "i=bi.CSVImporter(r\"C:/Users/pierr/autumn-school-bw2/lci-reinforcing-steel.csv\")\n",
    "i.apply_strategies()\n",
    "i.match_database(fields=[\"name\", \"location\", \"unit\"])\n",
    "i.match_database(\"ecoinvent-391-cutoff\", fields=[\"name\", \"reference product\", \"unit\", \"location\"])\n",
    "i.match_database(\"biosphere3\", fields=[\"name\", \"categories\"])\n",
    "#i.statistics()\n",
    "#i.drop_unlinked(i_am_reckless=True)\n",
    "i.write_database()"
   ]
  },
  {
   "cell_type": "code",
   "execution_count": null,
   "id": "4fd3bf46-53a7-4322-b168-a9ead076ae2a",
   "metadata": {},
   "outputs": [],
   "source": [
    "activity=[act for act in ei if \"reinforcing steel production\" == act['name'] and \"RER\" == act['location']][0]"
   ]
  }
 ],
 "metadata": {
  "kernelspec": {
   "display_name": "Python 3 (ipykernel)",
   "language": "python",
   "name": "python3"
  },
  "language_info": {
   "codemirror_mode": {
    "name": "ipython",
    "version": 3
   },
   "file_extension": ".py",
   "mimetype": "text/x-python",
   "name": "python",
   "nbconvert_exporter": "python",
   "pygments_lexer": "ipython3",
   "version": "3.11.5"
  }
 },
 "nbformat": 4,
 "nbformat_minor": 5
}
