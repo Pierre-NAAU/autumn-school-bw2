{
 "cells": [
  {
   "cell_type": "code",
   "execution_count": 1,
   "id": "6fab0652-d2e4-4baf-9a9d-b6d7331411e9",
   "metadata": {},
   "outputs": [],
   "source": [
    "from premise import *\n",
    "from datapackage import Package\n",
    "import bw2data as bw\n",
    "import bw2io as bi"
   ]
  },
  {
   "cell_type": "markdown",
   "id": "fea60123-9f9b-4850-b72b-934ad476ce5e",
   "metadata": {},
   "source": [
    "from premise import __version__\n",
    "__version__"
   ]
  },
  {
   "cell_type": "markdown",
   "id": "a4bfd634-6022-4014-b2c4-9edc8eebea9c",
   "metadata": {},
   "source": [
    "import pickle\n",
    "\n",
    "def load_db():\n",
    "    with open(\"ecoinvent-391-cutoff_cement_adjusted.pickle\", \"rb\") as input_file:\n",
    "        db = pickle.load(input_file)\n",
    "    for ds in db:\n",
    "        if \"categories\" in ds:\n",
    "            del ds[\"categories\"]\n",
    "        \n",
    "    return db"
   ]
  },
  {
   "cell_type": "code",
   "execution_count": 17,
   "id": "7e9ce779-a746-4dce-82ac-21f31250cdd2",
   "metadata": {},
   "outputs": [
    {
     "name": "stdout",
     "output_type": "stream",
     "text": [
      "Applying automatic update: 4.0 new processed format\n",
      "Updating all LCIA methods\n"
     ]
    },
    {
     "name": "stderr",
     "output_type": "stream",
     "text": [
      "762it [00:48, 15.72it/s]\n"
     ]
    },
    {
     "name": "stdout",
     "output_type": "stream",
     "text": [
      "Updating all LCI databases\n"
     ]
    },
    {
     "name": "stderr",
     "output_type": "stream",
     "text": [
      "4it [00:22,  5.73s/it]\n"
     ]
    },
    {
     "ename": "ValueError",
     "evalue": "could not convert string to float: 'RoW'",
     "output_type": "error",
     "traceback": [
      "\u001b[0;31m---------------------------------------------------------------------------\u001b[0m",
      "\u001b[0;31mValueError\u001b[0m                                Traceback (most recent call last)",
      "Cell \u001b[0;32mIn[17], line 1\u001b[0m\n\u001b[0;32m----> 1\u001b[0m \u001b[43mbw\u001b[49m\u001b[38;5;241;43m.\u001b[39;49m\u001b[43mprojects\u001b[49m\u001b[38;5;241;43m.\u001b[39;49m\u001b[43mset_current\u001b[49m\u001b[43m(\u001b[49m\u001b[38;5;124;43m\"\u001b[39;49m\u001b[38;5;124;43mei_39\u001b[39;49m\u001b[38;5;124;43m\"\u001b[39;49m\u001b[43m)\u001b[49m\n",
      "File \u001b[0;32m~/.local/lib/python3.10/site-packages/bw2data/project.py:180\u001b[0m, in \u001b[0;36mProjectManager.set_current\u001b[0;34m(self, name, writable, update)\u001b[0m\n\u001b[1;32m    177\u001b[0m     \u001b[38;5;28mself\u001b[39m\u001b[38;5;241m.\u001b[39mread_only \u001b[38;5;241m=\u001b[39m \u001b[38;5;28;01mTrue\u001b[39;00m\n\u001b[1;32m    179\u001b[0m \u001b[38;5;28;01mif\u001b[39;00m \u001b[38;5;129;01mnot\u001b[39;00m \u001b[38;5;28mself\u001b[39m\u001b[38;5;241m.\u001b[39mread_only \u001b[38;5;129;01mand\u001b[39;00m update:\n\u001b[0;32m--> 180\u001b[0m     \u001b[38;5;28;43mself\u001b[39;49m\u001b[38;5;241;43m.\u001b[39;49m\u001b[43m_do_automatic_updates\u001b[49m\u001b[43m(\u001b[49m\u001b[43m)\u001b[49m\n",
      "File \u001b[0;32m~/.local/lib/python3.10/site-packages/bw2data/project.py:188\u001b[0m, in \u001b[0;36mProjectManager._do_automatic_updates\u001b[0;34m(self)\u001b[0m\n\u001b[1;32m    186\u001b[0m \u001b[38;5;28;01mfor\u001b[39;00m update_name \u001b[38;5;129;01min\u001b[39;00m Updates\u001b[38;5;241m.\u001b[39mcheck_automatic_updates():\n\u001b[1;32m    187\u001b[0m     \u001b[38;5;28mprint\u001b[39m(\u001b[38;5;124m\"\u001b[39m\u001b[38;5;124mApplying automatic update: \u001b[39m\u001b[38;5;132;01m{}\u001b[39;00m\u001b[38;5;124m\"\u001b[39m\u001b[38;5;241m.\u001b[39mformat(update_name))\n\u001b[0;32m--> 188\u001b[0m     \u001b[43mUpdates\u001b[49m\u001b[38;5;241;43m.\u001b[39;49m\u001b[43mdo_update\u001b[49m\u001b[43m(\u001b[49m\u001b[43mupdate_name\u001b[49m\u001b[43m)\u001b[49m\n",
      "File \u001b[0;32m~/.local/lib/python3.10/site-packages/bw2data/updates.py:127\u001b[0m, in \u001b[0;36mUpdates.do_update\u001b[0;34m(cls, key)\u001b[0m\n\u001b[1;32m    124\u001b[0m \u001b[38;5;129m@classmethod\u001b[39m\n\u001b[1;32m    125\u001b[0m \u001b[38;5;28;01mdef\u001b[39;00m \u001b[38;5;21mdo_update\u001b[39m(\u001b[38;5;28mcls\u001b[39m, key):\n\u001b[1;32m    126\u001b[0m     method \u001b[38;5;241m=\u001b[39m \u001b[38;5;28mgetattr\u001b[39m(\u001b[38;5;28mcls\u001b[39m, \u001b[38;5;28mcls\u001b[39m\u001b[38;5;241m.\u001b[39mUPDATES[key][\u001b[38;5;124m\"\u001b[39m\u001b[38;5;124mmethod\u001b[39m\u001b[38;5;124m\"\u001b[39m])\n\u001b[0;32m--> 127\u001b[0m     \u001b[43mmethod\u001b[49m\u001b[43m(\u001b[49m\u001b[43m)\u001b[49m\n\u001b[1;32m    128\u001b[0m     preferences[\u001b[38;5;124m\"\u001b[39m\u001b[38;5;124mupdates\u001b[39m\u001b[38;5;124m\"\u001b[39m][key] \u001b[38;5;241m=\u001b[39m \u001b[38;5;28;01mTrue\u001b[39;00m\n\u001b[1;32m    129\u001b[0m     preferences\u001b[38;5;241m.\u001b[39mflush()\n",
      "File \u001b[0;32m~/.local/lib/python3.10/site-packages/bw2data/updates.py:212\u001b[0m, in \u001b[0;36mUpdates.expire_all_processed_data_40\u001b[0;34m(cls)\u001b[0m\n\u001b[1;32m    210\u001b[0m \u001b[38;5;129m@classmethod\u001b[39m\n\u001b[1;32m    211\u001b[0m \u001b[38;5;28;01mdef\u001b[39;00m \u001b[38;5;21mexpire_all_processed_data_40\u001b[39m(\u001b[38;5;28mcls\u001b[39m):\n\u001b[0;32m--> 212\u001b[0m     \u001b[38;5;28;43mcls\u001b[39;49m\u001b[38;5;241;43m.\u001b[39;49m\u001b[43m_reprocess_all\u001b[49m\u001b[43m(\u001b[49m\u001b[43m)\u001b[49m\n",
      "File \u001b[0;32m~/.local/lib/python3.10/site-packages/bw2data/updates.py:252\u001b[0m, in \u001b[0;36mUpdates._reprocess_all\u001b[0;34m(cls)\u001b[0m\n\u001b[1;32m    250\u001b[0m \u001b[38;5;28;01mfor\u001b[39;00m index, key \u001b[38;5;129;01min\u001b[39;00m tqdm(\u001b[38;5;28menumerate\u001b[39m(meta)):\n\u001b[1;32m    251\u001b[0m     obj \u001b[38;5;241m=\u001b[39m klass(key)\n\u001b[0;32m--> 252\u001b[0m     \u001b[43mobj\u001b[49m\u001b[38;5;241;43m.\u001b[39;49m\u001b[43mprocess\u001b[49m\u001b[43m(\u001b[49m\u001b[43m)\u001b[49m\n\u001b[1;32m    253\u001b[0m     \u001b[38;5;66;03m# Free memory\u001b[39;00m\n\u001b[1;32m    254\u001b[0m     obj \u001b[38;5;241m=\u001b[39m \u001b[38;5;28;01mNone\u001b[39;00m\n",
      "File \u001b[0;32m~/.local/lib/python3.10/site-packages/bw2data/backends/base.py:813\u001b[0m, in \u001b[0;36mSQLiteBackend.process\u001b[0;34m(self, csv)\u001b[0m\n\u001b[1;32m    798\u001b[0m TECHNOSPHERE_POSITIVE_SQL \u001b[38;5;241m=\u001b[39m \u001b[38;5;124m\"\"\"\u001b[39m\u001b[38;5;124mSELECT e.data, a.id, b.id, e.input_database, e.input_code, e.output_database, e.output_code\u001b[39m\n\u001b[1;32m    799\u001b[0m \u001b[38;5;124m        FROM exchangedataset as e\u001b[39m\n\u001b[1;32m    800\u001b[0m \u001b[38;5;124m        LEFT JOIN activitydataset as a ON a.code == e.input_code AND a.database == e.input_database\u001b[39m\n\u001b[0;32m   (...)\u001b[0m\n\u001b[1;32m    803\u001b[0m \u001b[38;5;124m        AND e.type IN (\u001b[39m\u001b[38;5;124m'\u001b[39m\u001b[38;5;124mproduction\u001b[39m\u001b[38;5;124m'\u001b[39m\u001b[38;5;124m, \u001b[39m\u001b[38;5;124m'\u001b[39m\u001b[38;5;124msubstitution\u001b[39m\u001b[38;5;124m'\u001b[39m\u001b[38;5;124m, \u001b[39m\u001b[38;5;124m'\u001b[39m\u001b[38;5;124mgeneric production\u001b[39m\u001b[38;5;124m'\u001b[39m\u001b[38;5;124m)\u001b[39m\n\u001b[1;32m    804\u001b[0m \u001b[38;5;124m\u001b[39m\u001b[38;5;124m\"\"\"\u001b[39m\n\u001b[1;32m    805\u001b[0m TECHNOSPHERE_NEGATIVE_SQL \u001b[38;5;241m=\u001b[39m \u001b[38;5;124m\"\"\"\u001b[39m\u001b[38;5;124mSELECT e.data, a.id, b.id, e.input_database, e.input_code, e.output_database, e.output_code\u001b[39m\n\u001b[1;32m    806\u001b[0m \u001b[38;5;124m        FROM exchangedataset as e\u001b[39m\n\u001b[1;32m    807\u001b[0m \u001b[38;5;124m        LEFT JOIN activitydataset as a ON a.code == e.input_code AND a.database == e.input_database\u001b[39m\n\u001b[0;32m   (...)\u001b[0m\n\u001b[1;32m    810\u001b[0m \u001b[38;5;124m        AND e.type IN (\u001b[39m\u001b[38;5;124m'\u001b[39m\u001b[38;5;124mtechnosphere\u001b[39m\u001b[38;5;124m'\u001b[39m\u001b[38;5;124m, \u001b[39m\u001b[38;5;124m'\u001b[39m\u001b[38;5;124mgeneric consumption\u001b[39m\u001b[38;5;124m'\u001b[39m\u001b[38;5;124m)\u001b[39m\n\u001b[1;32m    811\u001b[0m \u001b[38;5;124m\u001b[39m\u001b[38;5;124m\"\"\"\u001b[39m\n\u001b[0;32m--> 813\u001b[0m \u001b[43mdp\u001b[49m\u001b[38;5;241;43m.\u001b[39;49m\u001b[43madd_persistent_vector_from_iterator\u001b[49m\u001b[43m(\u001b[49m\n\u001b[1;32m    814\u001b[0m \u001b[43m    \u001b[49m\u001b[43mmatrix\u001b[49m\u001b[38;5;241;43m=\u001b[39;49m\u001b[38;5;124;43m\"\u001b[39;49m\u001b[38;5;124;43mtechnosphere_matrix\u001b[39;49m\u001b[38;5;124;43m\"\u001b[39;49m\u001b[43m,\u001b[49m\n\u001b[1;32m    815\u001b[0m \u001b[43m    \u001b[49m\u001b[43mname\u001b[49m\u001b[38;5;241;43m=\u001b[39;49m\u001b[43mclean_datapackage_name\u001b[49m\u001b[43m(\u001b[49m\u001b[38;5;28;43mself\u001b[39;49m\u001b[38;5;241;43m.\u001b[39;49m\u001b[43mname\u001b[49m\u001b[43m \u001b[49m\u001b[38;5;241;43m+\u001b[39;49m\u001b[43m \u001b[49m\u001b[38;5;124;43m\"\u001b[39;49m\u001b[38;5;124;43m technosphere matrix\u001b[39;49m\u001b[38;5;124;43m\"\u001b[39;49m\u001b[43m)\u001b[49m\u001b[43m,\u001b[49m\n\u001b[1;32m    816\u001b[0m \u001b[43m    \u001b[49m\u001b[43mdict_iterator\u001b[49m\u001b[38;5;241;43m=\u001b[39;49m\u001b[43mitertools\u001b[49m\u001b[38;5;241;43m.\u001b[39;49m\u001b[43mchain\u001b[49m\u001b[43m(\u001b[49m\n\u001b[1;32m    817\u001b[0m \u001b[43m        \u001b[49m\u001b[38;5;28;43mself\u001b[39;49m\u001b[38;5;241;43m.\u001b[39;49m\u001b[43mexchange_data_iterator\u001b[49m\u001b[43m(\u001b[49m\n\u001b[1;32m    818\u001b[0m \u001b[43m            \u001b[49m\u001b[43mTECHNOSPHERE_NEGATIVE_SQL\u001b[49m\u001b[43m,\u001b[49m\u001b[43m \u001b[49m\u001b[43mdependents\u001b[49m\u001b[43m,\u001b[49m\u001b[43m \u001b[49m\u001b[43mflip\u001b[49m\u001b[38;5;241;43m=\u001b[39;49m\u001b[38;5;28;43;01mTrue\u001b[39;49;00m\n\u001b[1;32m    819\u001b[0m \u001b[43m        \u001b[49m\u001b[43m)\u001b[49m\u001b[43m,\u001b[49m\n\u001b[1;32m    820\u001b[0m \u001b[43m        \u001b[49m\u001b[38;5;28;43mself\u001b[39;49m\u001b[38;5;241;43m.\u001b[39;49m\u001b[43mexchange_data_iterator\u001b[49m\u001b[43m(\u001b[49m\u001b[43mTECHNOSPHERE_POSITIVE_SQL\u001b[49m\u001b[43m,\u001b[49m\u001b[43m \u001b[49m\u001b[43mdependents\u001b[49m\u001b[43m)\u001b[49m\u001b[43m,\u001b[49m\n\u001b[1;32m    821\u001b[0m \u001b[43m        \u001b[49m\u001b[43mimplicit_production\u001b[49m\u001b[43m,\u001b[49m\n\u001b[1;32m    822\u001b[0m \u001b[43m    \u001b[49m\u001b[43m)\u001b[49m\u001b[43m,\u001b[49m\n\u001b[1;32m    823\u001b[0m \u001b[43m\u001b[49m\u001b[43m)\u001b[49m\n\u001b[1;32m    824\u001b[0m \u001b[38;5;28;01mif\u001b[39;00m csv:\n\u001b[1;32m    825\u001b[0m     df \u001b[38;5;241m=\u001b[39m pandas\u001b[38;5;241m.\u001b[39mDataFrame([get_csv_data_dict(ds) \u001b[38;5;28;01mfor\u001b[39;00m ds \u001b[38;5;129;01min\u001b[39;00m \u001b[38;5;28mself\u001b[39m])\n",
      "File \u001b[0;32m~/.local/lib/python3.10/site-packages/bw_processing/datapackage.py:441\u001b[0m, in \u001b[0;36mDatapackage.add_persistent_vector_from_iterator\u001b[0;34m(self, matrix, name, dict_iterator, nrows, matrix_serialize_format_type, **kwargs)\u001b[0m\n\u001b[1;32m    432\u001b[0m \u001b[38;5;250m\u001b[39m\u001b[38;5;124;03m\"\"\"Create a persistant vector from an iterator. Uses the utility function ``resolve_dict_iterator``.\u001b[39;00m\n\u001b[1;32m    433\u001b[0m \n\u001b[1;32m    434\u001b[0m \u001b[38;5;124;03mThis is the **only array creation method which produces sorted arrays**.\"\"\"\u001b[39;00m\n\u001b[1;32m    435\u001b[0m name \u001b[38;5;241m=\u001b[39m \u001b[38;5;28mself\u001b[39m\u001b[38;5;241m.\u001b[39m_prepare_name(name)\n\u001b[1;32m    436\u001b[0m (\n\u001b[1;32m    437\u001b[0m     data_array,\n\u001b[1;32m    438\u001b[0m     indices_array,\n\u001b[1;32m    439\u001b[0m     distributions_array,\n\u001b[1;32m    440\u001b[0m     flip_array,\n\u001b[0;32m--> 441\u001b[0m ) \u001b[38;5;241m=\u001b[39m \u001b[43mresolve_dict_iterator\u001b[49m\u001b[43m(\u001b[49m\u001b[43mdict_iterator\u001b[49m\u001b[43m,\u001b[49m\u001b[43m \u001b[49m\u001b[43mnrows\u001b[49m\u001b[43m)\u001b[49m\n\u001b[1;32m    442\u001b[0m \u001b[38;5;28mself\u001b[39m\u001b[38;5;241m.\u001b[39madd_persistent_vector(\n\u001b[1;32m    443\u001b[0m     matrix\u001b[38;5;241m=\u001b[39mmatrix,\n\u001b[1;32m    444\u001b[0m     name\u001b[38;5;241m=\u001b[39mname,\n\u001b[0;32m   (...)\u001b[0m\n\u001b[1;32m    451\u001b[0m     \u001b[38;5;241m*\u001b[39m\u001b[38;5;241m*\u001b[39mkwargs,\n\u001b[1;32m    452\u001b[0m )\n",
      "File \u001b[0;32m~/.local/lib/python3.10/site-packages/bw_processing/utils.py:73\u001b[0m, in \u001b[0;36mresolve_dict_iterator\u001b[0;34m(iterator, nrows)\u001b[0m\n\u001b[1;32m     71\u001b[0m sort_fields \u001b[38;5;241m=\u001b[39m [\u001b[38;5;124m\"\u001b[39m\u001b[38;5;124mrow\u001b[39m\u001b[38;5;124m\"\u001b[39m, \u001b[38;5;124m\"\u001b[39m\u001b[38;5;124mcol\u001b[39m\u001b[38;5;124m\"\u001b[39m, \u001b[38;5;124m\"\u001b[39m\u001b[38;5;124mamount\u001b[39m\u001b[38;5;124m\"\u001b[39m, \u001b[38;5;124m\"\u001b[39m\u001b[38;5;124muncertainty_type\u001b[39m\u001b[38;5;124m\"\u001b[39m]\n\u001b[1;32m     72\u001b[0m data \u001b[38;5;241m=\u001b[39m (dictionary_formatter(row) \u001b[38;5;28;01mfor\u001b[39;00m row \u001b[38;5;129;01min\u001b[39;00m iterator)\n\u001b[0;32m---> 73\u001b[0m array \u001b[38;5;241m=\u001b[39m \u001b[43mcreate_structured_array\u001b[49m\u001b[43m(\u001b[49m\n\u001b[1;32m     74\u001b[0m \u001b[43m    \u001b[49m\u001b[43mdata\u001b[49m\u001b[43m,\u001b[49m\n\u001b[1;32m     75\u001b[0m \u001b[43m    \u001b[49m\u001b[43mINDICES_DTYPE\u001b[49m\u001b[43m \u001b[49m\u001b[38;5;241;43m+\u001b[39;49m\u001b[43m \u001b[49m\u001b[43m[\u001b[49m\u001b[43m(\u001b[49m\u001b[38;5;124;43m\"\u001b[39;49m\u001b[38;5;124;43mamount\u001b[39;49m\u001b[38;5;124;43m\"\u001b[39;49m\u001b[43m,\u001b[49m\u001b[43m \u001b[49m\u001b[43mnp\u001b[49m\u001b[38;5;241;43m.\u001b[39;49m\u001b[43mfloat32\u001b[49m\u001b[43m)\u001b[49m\u001b[43m]\u001b[49m\u001b[43m \u001b[49m\u001b[38;5;241;43m+\u001b[39;49m\u001b[43m \u001b[49m\u001b[43mUNCERTAINTY_DTYPE\u001b[49m\u001b[43m \u001b[49m\u001b[38;5;241;43m+\u001b[39;49m\u001b[43m \u001b[49m\u001b[43m[\u001b[49m\u001b[43m(\u001b[49m\u001b[38;5;124;43m\"\u001b[39;49m\u001b[38;5;124;43mflip\u001b[39;49m\u001b[38;5;124;43m\"\u001b[39;49m\u001b[43m,\u001b[49m\u001b[43m \u001b[49m\u001b[38;5;28;43mbool\u001b[39;49m\u001b[43m)\u001b[49m\u001b[43m]\u001b[49m\u001b[43m,\u001b[49m\n\u001b[1;32m     76\u001b[0m \u001b[43m    \u001b[49m\u001b[43mnrows\u001b[49m\u001b[38;5;241;43m=\u001b[39;49m\u001b[43mnrows\u001b[49m\u001b[43m,\u001b[49m\n\u001b[1;32m     77\u001b[0m \u001b[43m    \u001b[49m\u001b[43msort\u001b[49m\u001b[38;5;241;43m=\u001b[39;49m\u001b[38;5;28;43;01mTrue\u001b[39;49;00m\u001b[43m,\u001b[49m\n\u001b[1;32m     78\u001b[0m \u001b[43m    \u001b[49m\u001b[43msort_fields\u001b[49m\u001b[38;5;241;43m=\u001b[39;49m\u001b[43msort_fields\u001b[49m\u001b[43m,\u001b[49m\n\u001b[1;32m     79\u001b[0m \u001b[43m\u001b[49m\u001b[43m)\u001b[49m\n\u001b[1;32m     80\u001b[0m \u001b[38;5;28;01mreturn\u001b[39;00m (\n\u001b[1;32m     81\u001b[0m     array[\u001b[38;5;124m\"\u001b[39m\u001b[38;5;124mamount\u001b[39m\u001b[38;5;124m\"\u001b[39m],\n\u001b[1;32m     82\u001b[0m     \u001b[38;5;66;03m# Not repacking fields would cause this multi-field index to return a view\u001b[39;00m\n\u001b[0;32m   (...)\u001b[0m\n\u001b[1;32m     99\u001b[0m     array[\u001b[38;5;124m\"\u001b[39m\u001b[38;5;124mflip\u001b[39m\u001b[38;5;124m\"\u001b[39m],\n\u001b[1;32m    100\u001b[0m )\n",
      "File \u001b[0;32m~/.local/lib/python3.10/site-packages/bw_processing/array_creation.py:82\u001b[0m, in \u001b[0;36mcreate_structured_array\u001b[0;34m(iterable, dtype, nrows, sort, sort_fields)\u001b[0m\n\u001b[1;32m     79\u001b[0m         array[i] \u001b[38;5;241m=\u001b[39m \u001b[38;5;28mtuple\u001b[39m(row)\n\u001b[1;32m     81\u001b[0m \u001b[38;5;28;01melse\u001b[39;00m:\n\u001b[0;32m---> 82\u001b[0m     array \u001b[38;5;241m=\u001b[39m \u001b[43mcreate_chunked_structured_array\u001b[49m\u001b[43m(\u001b[49m\u001b[43miterable\u001b[49m\u001b[43m,\u001b[49m\u001b[43m \u001b[49m\u001b[43mdtype\u001b[49m\u001b[43m)\u001b[49m\n\u001b[1;32m     84\u001b[0m \u001b[38;5;28;01mif\u001b[39;00m sort:\n\u001b[1;32m     85\u001b[0m     sort_fields \u001b[38;5;241m=\u001b[39m sort_fields \u001b[38;5;129;01mor\u001b[39;00m ()\n",
      "File \u001b[0;32m~/.local/lib/python3.10/site-packages/bw_processing/array_creation.py:46\u001b[0m, in \u001b[0;36mcreate_chunked_structured_array\u001b[0;34m(iterable, dtype, bucket_size)\u001b[0m\n\u001b[1;32m     44\u001b[0m \u001b[38;5;28;01mfor\u001b[39;00m chunk \u001b[38;5;129;01min\u001b[39;00m chunked(iterable, bucket_size):\n\u001b[1;32m     45\u001b[0m     \u001b[38;5;28;01mfor\u001b[39;00m i, row \u001b[38;5;129;01min\u001b[39;00m \u001b[38;5;28menumerate\u001b[39m(chunk):\n\u001b[0;32m---> 46\u001b[0m         array[i] \u001b[38;5;241m=\u001b[39m row\n\u001b[1;32m     47\u001b[0m     \u001b[38;5;28;01mif\u001b[39;00m i \u001b[38;5;241m<\u001b[39m bucket_size \u001b[38;5;241m-\u001b[39m \u001b[38;5;241m1\u001b[39m:\n\u001b[1;32m     48\u001b[0m         array \u001b[38;5;241m=\u001b[39m array[: i \u001b[38;5;241m+\u001b[39m \u001b[38;5;241m1\u001b[39m]\n",
      "\u001b[0;31mValueError\u001b[0m: could not convert string to float: 'RoW'"
     ]
    }
   ],
   "source": [
    "bw.projects.set_current(\"ei_39\")"
   ]
  },
  {
   "cell_type": "code",
   "execution_count": 6,
   "id": "98d16af8-3a06-4914-81cd-a9ddffa9364b",
   "metadata": {},
   "outputs": [
    {
     "name": "stdout",
     "output_type": "stream",
     "text": [
      "Restoring project backup archive - this could take a few minutes...\n",
      "Applying automatic update: 4.0 migrations filename change\n",
      "Applying automatic update: 4.0 new processed format\n",
      "Updating all LCIA methods\n"
     ]
    },
    {
     "name": "stderr",
     "output_type": "stream",
     "text": [
      "762it [00:48, 15.82it/s]\n"
     ]
    },
    {
     "name": "stdout",
     "output_type": "stream",
     "text": [
      "Updating all LCI databases\n"
     ]
    },
    {
     "name": "stderr",
     "output_type": "stream",
     "text": [
      "2it [00:07,  3.91s/it]\n"
     ]
    },
    {
     "data": {
      "text/plain": [
       "'ei_39_'"
      ]
     },
     "execution_count": 6,
     "metadata": {},
     "output_type": "execute_result"
    }
   ],
   "source": [
    "bi.restore_project_directory(\n",
    "    fp=\"/srv/data/ecoinvent-3.9.1-cutoff.tar.gz\",\n",
    "    project_name=\"ei_39_\",\n",
    "    overwrite_existing=True\n",
    ")"
   ]
  },
  {
   "cell_type": "code",
   "execution_count": 7,
   "id": "72fe3975-d0cd-4d8c-93b1-8b5e713fef69",
   "metadata": {},
   "outputs": [],
   "source": [
    "bw.projects.set_current(\"ei_39_\")"
   ]
  },
  {
   "cell_type": "code",
   "execution_count": 8,
   "id": "4f64147c-c21f-492c-983d-cdab5013b49d",
   "metadata": {
    "scrolled": true
   },
   "outputs": [
    {
     "data": {
      "text/plain": [
       "Databases dictionary with 2 object(s):\n",
       "\tbiosphere3\n",
       "\tecoinvent-3.9.1-cutoff"
      ]
     },
     "execution_count": 8,
     "metadata": {},
     "output_type": "execute_result"
    }
   ],
   "source": [
    "bw.databases"
   ]
  },
  {
   "cell_type": "markdown",
   "id": "656118be-2c11-46ec-b7b1-15eb49de37ad",
   "metadata": {},
   "source": [
    "import pickle\n",
    "\n",
    "database = bw.databases[\"SSP2-RCP26_2020\"]\n",
    "with open(r\"SSP2-RCP26_2020.pickle\", \"wb\") as output_file:        \n",
    "    pickle.dump(database, output_file)"
   ]
  },
  {
   "cell_type": "code",
   "execution_count": 10,
   "id": "2ce958d3-ae0b-4cdd-80d4-5fcb7b09153d",
   "metadata": {},
   "outputs": [],
   "source": [
    "urls = [\n",
    "    #\"steel_concrete/datapackage.json\",\n",
    "    \"datapackage.json\",   \n",
    "]"
   ]
  },
  {
   "cell_type": "code",
   "execution_count": 11,
   "id": "3b5bb395-f085-48b2-a3b1-bc4a8e83abf2",
   "metadata": {},
   "outputs": [],
   "source": [
    "#Package(\"datapackage.json\")"
   ]
  },
  {
   "cell_type": "code",
   "execution_count": 12,
   "id": "147e65e1-5b32-49bc-8f67-fbdb80ef924c",
   "metadata": {},
   "outputs": [
    {
     "name": "stdout",
     "output_type": "stream",
     "text": [
      "14\n",
      "[{'model': 'image', 'pathway': 'SSP2-Base', 'year': 2020}, {'model': 'image', 'pathway': 'SSP2-Base', 'year': 2025}, {'model': 'image', 'pathway': 'SSP2-Base', 'year': 2030}, {'model': 'image', 'pathway': 'SSP2-Base', 'year': 2035}, {'model': 'image', 'pathway': 'SSP2-Base', 'year': 2040}, {'model': 'image', 'pathway': 'SSP2-Base', 'year': 2045}, {'model': 'image', 'pathway': 'SSP2-Base', 'year': 2050}, {'model': 'image', 'pathway': 'SSP2-RCP26', 'year': 2020}, {'model': 'image', 'pathway': 'SSP2-RCP26', 'year': 2025}, {'model': 'image', 'pathway': 'SSP2-RCP26', 'year': 2030}, {'model': 'image', 'pathway': 'SSP2-RCP26', 'year': 2035}, {'model': 'image', 'pathway': 'SSP2-RCP26', 'year': 2040}, {'model': 'image', 'pathway': 'SSP2-RCP26', 'year': 2045}, {'model': 'image', 'pathway': 'SSP2-RCP26', 'year': 2050}]\n"
     ]
    }
   ],
   "source": [
    "ssp = []\n",
    "pathway_list = [\"SSP2-Base\",\"SSP2-RCP26\",\n",
    "                #\"SSP3-Base\",\"SSP3-RCP60\"\n",
    "               ]\n",
    "year_list = [2020,2025,2030,2035,2040,2045,2050]\n",
    "\n",
    "for pathways in pathway_list:\n",
    "    for years in year_list:\n",
    "        ssp.append({'model': 'image', 'pathway': pathways, 'year': years})\n",
    "print(len(ssp))\n",
    "print(ssp)"
   ]
  },
  {
   "cell_type": "code",
   "execution_count": 13,
   "id": "ae83e35f-ca5c-455d-90ef-3a6d758a694a",
   "metadata": {
    "scrolled": true
   },
   "outputs": [
    {
     "name": "stdout",
     "output_type": "stream",
     "text": [
      "premise v.(1, 7, 9)\n",
      "+------------------------------------------------------------------+\n",
      "| Warning                                                          |\n",
      "+------------------------------------------------------------------+\n",
      "| Because some of the scenarios can yield LCI databases            |\n",
      "| containing net negative emission technologies (NET),             |\n",
      "| it is advised to account for biogenic CO2 flows when calculating |\n",
      "| Global Warming potential indicators.                             |\n",
      "| `premise_gwp` provides characterization factors for such flows.  |\n",
      "| It also provides factors for hydrogen emissions to air.          |\n",
      "|                                                                  |\n",
      "| Within your bw2 project:                                         |\n",
      "| from premise_gwp import add_premise_gwp                          |\n",
      "| add_premise_gwp()                                                |\n",
      "+------------------------------------------------------------------+\n",
      "+--------------------------------+----------------------------------+\n",
      "| Utils functions                | Description                      |\n",
      "+--------------------------------+----------------------------------+\n",
      "| clear_cache()                  | Clears the cache folder. Useful  |\n",
      "|                                | when updating `premise`or        |\n",
      "|                                | encountering issues with         |\n",
      "|                                | inventories.                     |\n",
      "+--------------------------------+----------------------------------+\n",
      "| get_regions_definition(model)  | Retrieves the list of countries  |\n",
      "|                                | for each region of the model.    |\n",
      "+--------------------------------+----------------------------------+\n",
      "| ndb.NewDatabase(...)           | Generates a summary of the most  |\n",
      "| ndb.generate_scenario_report() | important scenarios' variables.  |\n",
      "+--------------------------------+----------------------------------+\n",
      "Keep uncertainty data?\n",
      "NewDatabase(..., keep_uncertainty_data=True)\n",
      "\n",
      "Disable multiprocessing?\n",
      "NewDatabase(..., use_multiprocessing=False)\n",
      "\n",
      "Hide these messages?\n",
      "NewDatabase(..., quiet=True)\n",
      "\n",
      "//////////////////// EXTRACTING SOURCE DATABASE ////////////////////\n",
      "Done!\n",
      "\n",
      "////////////////// IMPORTING DEFAULT INVENTORIES ///////////////////\n",
      "Done!\n",
      "\n",
      "/////////////////////// EXTRACTING IAM DATA ////////////////////////\n",
      "Done!\n"
     ]
    }
   ],
   "source": [
    "ndb = NewDatabase(\n",
    "        scenarios = [\n",
    "                    #ssp[0],ssp[1],ssp[2],ssp[3],\n",
    "                     #ssp[4],ssp[5],ssp[6],\n",
    "                    ssp[7],ssp[8],ssp[9],ssp[10],\n",
    "                     ssp[11],ssp[12],ssp[13]\n",
    "                    ],        \n",
    "        source_db=\"ecoinvent-3.9.1-cutoff\",\n",
    "        source_version=\"3.9\",\n",
    "        key='tUePmX_S5B8ieZkkM7WUU2CnO8SmShwmAeWK9x2rTFo=',\n",
    "        external_scenarios=[Package(url) for url in urls]\n",
    ")"
   ]
  },
  {
   "cell_type": "code",
   "execution_count": 14,
   "id": "1cf85d75-ee1e-443b-8a0e-398639a94524",
   "metadata": {},
   "outputs": [
    {
     "name": "stdout",
     "output_type": "stream",
     "text": [
      "\n",
      "/////////////////////////// ELECTRICITY ////////////////////////////\n",
      "Done!\n",
      "\n",
      "\n",
      "//////////////// IMPORTING USER-DEFINED INVENTORIES ////////////////\n",
      "Extracted 1 worksheets in 0.02 seconds\n",
      "Create custom markets.\n",
      "\n",
      "//////////////// IMPORTING USER-DEFINED INVENTORIES ////////////////\n",
      "Extracted 1 worksheets in 0.01 seconds\n",
      "Create custom markets.\n",
      "\n",
      "//////////////// IMPORTING USER-DEFINED INVENTORIES ////////////////\n",
      "Extracted 1 worksheets in 0.01 seconds\n",
      "Create custom markets.\n",
      "\n",
      "//////////////// IMPORTING USER-DEFINED INVENTORIES ////////////////\n",
      "Extracted 1 worksheets in 0.01 seconds\n",
      "Create custom markets.\n",
      "\n",
      "//////////////// IMPORTING USER-DEFINED INVENTORIES ////////////////\n",
      "Extracted 1 worksheets in 0.01 seconds\n",
      "Create custom markets.\n",
      "\n",
      "//////////////// IMPORTING USER-DEFINED INVENTORIES ////////////////\n",
      "Extracted 1 worksheets in 0.01 seconds\n",
      "Create custom markets.\n",
      "\n",
      "//////////////// IMPORTING USER-DEFINED INVENTORIES ////////////////\n",
      "Extracted 1 worksheets in 0.01 seconds\n",
      "Create custom markets.\n",
      "Log file of exchanges saved under /opt/tljh/user/envs/premise/lib/python3.10/site-packages/premise/data/logs.\n",
      "Done!\n",
      "\n"
     ]
    }
   ],
   "source": [
    "ndb.update_electricity()\n",
    "ndb.update_external_scenario()"
   ]
  },
  {
   "cell_type": "code",
   "execution_count": 15,
   "id": "9eae9962-b2a1-4ddc-9ef6-5b5be48258b3",
   "metadata": {},
   "outputs": [
    {
     "data": {
      "text/plain": [
       "[('steel production, converter, low-alloyed', 'steel, low-alloyed', 'IN'),\n",
       " ('steel production, converter, low-alloyed', 'steel, low-alloyed', 'RoW'),\n",
       " ('steel production, converter, low-alloyed', 'steel, low-alloyed', 'RER')]"
      ]
     },
     "execution_count": 15,
     "metadata": {},
     "output_type": "execute_result"
    }
   ],
   "source": [
    "import bw2data\n",
    "[(a[\"name\"], a[\"reference product\"], a[\"location\"]) \n",
    " for a in bw2data.Database(\"ecoinvent-3.9.1-cutoff\") if \"steel production, converter, low\" in a[\"name\"]]"
   ]
  },
  {
   "cell_type": "code",
   "execution_count": 16,
   "id": "3db8f713-4c99-4b55-ab5b-6812bed751d3",
   "metadata": {},
   "outputs": [
    {
     "name": "stdout",
     "output_type": "stream",
     "text": [
      "Write new database(s) to Brightway2.\n",
      "Not able to determine geocollections for all datasets. This database is not ready for regionalization.\n"
     ]
    },
    {
     "name": "stderr",
     "output_type": "stream",
     "text": [
      "100%|██████████| 24227/24227 [00:25<00:00, 938.05it/s] \n"
     ]
    },
    {
     "name": "stdout",
     "output_type": "stream",
     "text": [
      "Vacuuming database \n"
     ]
    },
    {
     "ename": "ValueError",
     "evalue": "could not convert string to float: 'RoW'",
     "output_type": "error",
     "traceback": [
      "\u001b[0;31m---------------------------------------------------------------------------\u001b[0m",
      "\u001b[0;31mValueError\u001b[0m                                Traceback (most recent call last)",
      "Cell \u001b[0;32mIn[16], line 1\u001b[0m\n\u001b[0;32m----> 1\u001b[0m \u001b[43mndb\u001b[49m\u001b[38;5;241;43m.\u001b[39;49m\u001b[43mwrite_db_to_brightway\u001b[49m\u001b[43m(\u001b[49m\u001b[43m[\u001b[49m\n\u001b[1;32m      2\u001b[0m \u001b[43m                            \u001b[49m\u001b[38;5;66;43;03m#\"SSP2-Base_2020\",\"SSP2-Base_2025\",\"SSP2-Base_2030\",\u001b[39;49;00m\n\u001b[1;32m      3\u001b[0m \u001b[43m                           \u001b[49m\u001b[38;5;66;43;03m#\"SSP2-Base_2035\",\"SSP2-Base_2040\",\"SSP2-Base_2045\",\"SSP2-Base_2050\",\u001b[39;49;00m\n\u001b[1;32m      4\u001b[0m \u001b[43m                          \u001b[49m\u001b[38;5;124;43m\"\u001b[39;49m\u001b[38;5;124;43mSSP2-RCP26_2020\u001b[39;49m\u001b[38;5;124;43m\"\u001b[39;49m\u001b[43m,\u001b[49m\u001b[38;5;124;43m\"\u001b[39;49m\u001b[38;5;124;43mSSP2-RCP26_2025\u001b[39;49m\u001b[38;5;124;43m\"\u001b[39;49m\u001b[43m,\u001b[49m\u001b[43m \u001b[49m\u001b[38;5;124;43m\"\u001b[39;49m\u001b[38;5;124;43mSSP2-RCP26_2030\u001b[39;49m\u001b[38;5;124;43m\"\u001b[39;49m\u001b[43m,\u001b[49m\n\u001b[1;32m      5\u001b[0m \u001b[43m                           \u001b[49m\u001b[38;5;124;43m\"\u001b[39;49m\u001b[38;5;124;43mSSP2-RCP26_2035\u001b[39;49m\u001b[38;5;124;43m\"\u001b[39;49m\u001b[43m,\u001b[49m\u001b[38;5;124;43m\"\u001b[39;49m\u001b[38;5;124;43mSSP2-RCP26_2040\u001b[39;49m\u001b[38;5;124;43m\"\u001b[39;49m\u001b[43m,\u001b[49m\u001b[43m \u001b[49m\u001b[38;5;124;43m\"\u001b[39;49m\u001b[38;5;124;43mSSP2-RCP26_2045\u001b[39;49m\u001b[38;5;124;43m\"\u001b[39;49m\u001b[43m,\u001b[49m\u001b[38;5;124;43m\"\u001b[39;49m\u001b[38;5;124;43mSSP2-RCP26_2050\u001b[39;49m\u001b[38;5;124;43m\"\u001b[39;49m\n\u001b[1;32m      6\u001b[0m \u001b[43m                          \u001b[49m\u001b[43m]\u001b[49m\u001b[43m)\u001b[49m\n",
      "File \u001b[0;32m/opt/tljh/user/envs/premise/lib/python3.10/site-packages/premise/ecoinvent_modification.py:1441\u001b[0m, in \u001b[0;36mNewDatabase.write_db_to_brightway\u001b[0;34m(self, name)\u001b[0m\n\u001b[1;32m   1432\u001b[0m         scenario, cache \u001b[38;5;241m=\u001b[39m _prepare_database(\n\u001b[1;32m   1433\u001b[0m             scenario\u001b[38;5;241m=\u001b[39mscenario,\n\u001b[1;32m   1434\u001b[0m             scenario_cache\u001b[38;5;241m=\u001b[39mcache,\n\u001b[0;32m   (...)\u001b[0m\n\u001b[1;32m   1437\u001b[0m             modified_datasets\u001b[38;5;241m=\u001b[39m\u001b[38;5;28mself\u001b[39m\u001b[38;5;241m.\u001b[39mmodified_datasets,\n\u001b[1;32m   1438\u001b[0m         )\n\u001b[1;32m   1440\u001b[0m \u001b[38;5;28;01mfor\u001b[39;00m scen, scenario \u001b[38;5;129;01min\u001b[39;00m \u001b[38;5;28menumerate\u001b[39m(\u001b[38;5;28mself\u001b[39m\u001b[38;5;241m.\u001b[39mscenarios):\n\u001b[0;32m-> 1441\u001b[0m     \u001b[43mwrite_brightway2_database\u001b[49m\u001b[43m(\u001b[49m\n\u001b[1;32m   1442\u001b[0m \u001b[43m        \u001b[49m\u001b[43mscenario\u001b[49m\u001b[43m[\u001b[49m\u001b[38;5;124;43m\"\u001b[39;49m\u001b[38;5;124;43mdatabase\u001b[39;49m\u001b[38;5;124;43m\"\u001b[39;49m\u001b[43m]\u001b[49m\u001b[43m,\u001b[49m\n\u001b[1;32m   1443\u001b[0m \u001b[43m        \u001b[49m\u001b[43mname\u001b[49m\u001b[43m[\u001b[49m\u001b[43mscen\u001b[49m\u001b[43m]\u001b[49m\u001b[43m,\u001b[49m\n\u001b[1;32m   1444\u001b[0m \u001b[43m    \u001b[49m\u001b[43m)\u001b[49m\n\u001b[1;32m   1445\u001b[0m \u001b[38;5;66;03m# generate scenario report\u001b[39;00m\n\u001b[1;32m   1446\u001b[0m \u001b[38;5;28mself\u001b[39m\u001b[38;5;241m.\u001b[39mgenerate_scenario_report()\n",
      "File \u001b[0;32m/opt/tljh/user/envs/premise/lib/python3.10/site-packages/premise/utils.py:308\u001b[0m, in \u001b[0;36mwrite_brightway2_database\u001b[0;34m(data, name, reset_codes)\u001b[0m\n\u001b[1;32m    306\u001b[0m link_internal(data)\n\u001b[1;32m    307\u001b[0m check_internal_linking(data)\n\u001b[0;32m--> 308\u001b[0m \u001b[43mPremiseImporter\u001b[49m\u001b[43m(\u001b[49m\u001b[43mname\u001b[49m\u001b[43m,\u001b[49m\u001b[43m \u001b[49m\u001b[43mdata\u001b[49m\u001b[43m)\u001b[49m\u001b[38;5;241;43m.\u001b[39;49m\u001b[43mwrite_database\u001b[49m\u001b[43m(\u001b[49m\u001b[43m)\u001b[49m\n",
      "File \u001b[0;32m/opt/tljh/user/envs/premise/lib/python3.10/site-packages/premise/utils.py:281\u001b[0m, in \u001b[0;36mPremiseImporter.write_database\u001b[0;34m(self)\u001b[0m\n\u001b[1;32m    279\u001b[0m \u001b[38;5;28;01mif\u001b[39;00m \u001b[38;5;28mself\u001b[39m\u001b[38;5;241m.\u001b[39mdb_name \u001b[38;5;129;01min\u001b[39;00m databases:\n\u001b[1;32m    280\u001b[0m     \u001b[38;5;28mprint\u001b[39m(\u001b[38;5;124mf\u001b[39m\u001b[38;5;124m\"\u001b[39m\u001b[38;5;124mDatabase \u001b[39m\u001b[38;5;132;01m{\u001b[39;00m\u001b[38;5;28mself\u001b[39m\u001b[38;5;241m.\u001b[39mdb_name\u001b[38;5;132;01m}\u001b[39;00m\u001b[38;5;124m already exists: \u001b[39m\u001b[38;5;124m\"\u001b[39m \u001b[38;5;124m\"\u001b[39m\u001b[38;5;124mit will be overwritten.\u001b[39m\u001b[38;5;124m\"\u001b[39m)\n\u001b[0;32m--> 281\u001b[0m \u001b[38;5;28;43msuper\u001b[39;49m\u001b[43m(\u001b[49m\u001b[43m)\u001b[49m\u001b[38;5;241;43m.\u001b[39;49m\u001b[43mwrite_database\u001b[49m\u001b[43m(\u001b[49m\u001b[43m)\u001b[49m\n",
      "File \u001b[0;32m/opt/tljh/user/envs/premise/lib/python3.10/site-packages/bw2io/importers/base_lci.py:269\u001b[0m, in \u001b[0;36mLCIImporter.write_database\u001b[0;34m(self, data, delete_existing, backend, activate_parameters, **kwargs)\u001b[0m\n\u001b[1;32m    266\u001b[0m \u001b[38;5;28mself\u001b[39m\u001b[38;5;241m.\u001b[39mwrite_database_parameters(activate_parameters, delete_existing)\n\u001b[1;32m    268\u001b[0m existing\u001b[38;5;241m.\u001b[39mupdate(data)\n\u001b[0;32m--> 269\u001b[0m \u001b[43mdb\u001b[49m\u001b[38;5;241;43m.\u001b[39;49m\u001b[43mwrite\u001b[49m\u001b[43m(\u001b[49m\u001b[43mexisting\u001b[49m\u001b[43m)\u001b[49m\n\u001b[1;32m    271\u001b[0m \u001b[38;5;28;01mif\u001b[39;00m activate_parameters:\n\u001b[1;32m    272\u001b[0m     \u001b[38;5;28mself\u001b[39m\u001b[38;5;241m.\u001b[39m_write_activity_parameters(activity_parameters)\n",
      "File \u001b[0;32m~/.local/lib/python3.10/site-packages/bw2data/project.py:432\u001b[0m, in \u001b[0;36mwritable_project\u001b[0;34m(wrapped, instance, args, kwargs)\u001b[0m\n\u001b[1;32m    429\u001b[0m \u001b[38;5;129m@wrapt\u001b[39m\u001b[38;5;241m.\u001b[39mdecorator\n\u001b[1;32m    430\u001b[0m \u001b[38;5;28;01mdef\u001b[39;00m \u001b[38;5;21mwritable_project\u001b[39m(wrapped, instance, args, kwargs):\n\u001b[1;32m    431\u001b[0m     warnings\u001b[38;5;241m.\u001b[39mwarn(\u001b[38;5;124m\"\u001b[39m\u001b[38;5;124m`writable_project` is obsolete and does nothing\u001b[39m\u001b[38;5;124m\"\u001b[39m, \u001b[38;5;167;01mDeprecationWarning\u001b[39;00m)\n\u001b[0;32m--> 432\u001b[0m     \u001b[38;5;28;01mreturn\u001b[39;00m \u001b[43mwrapped\u001b[49m\u001b[43m(\u001b[49m\u001b[38;5;241;43m*\u001b[39;49m\u001b[43margs\u001b[49m\u001b[43m,\u001b[49m\u001b[43m \u001b[49m\u001b[38;5;241;43m*\u001b[39;49m\u001b[38;5;241;43m*\u001b[39;49m\u001b[43mkwargs\u001b[49m\u001b[43m)\u001b[49m\n",
      "File \u001b[0;32m~/.local/lib/python3.10/site-packages/bw2data/backends/base.py:547\u001b[0m, in \u001b[0;36mSQLiteBackend.write\u001b[0;34m(self, data, process, searchable)\u001b[0m\n\u001b[1;32m    544\u001b[0m     \u001b[38;5;28mself\u001b[39m\u001b[38;5;241m.\u001b[39mmake_searchable(reset\u001b[38;5;241m=\u001b[39m\u001b[38;5;28;01mTrue\u001b[39;00m)\n\u001b[1;32m    546\u001b[0m \u001b[38;5;28;01mif\u001b[39;00m process:\n\u001b[0;32m--> 547\u001b[0m     \u001b[38;5;28;43mself\u001b[39;49m\u001b[38;5;241;43m.\u001b[39;49m\u001b[43mprocess\u001b[49m\u001b[43m(\u001b[49m\u001b[43m)\u001b[49m\n",
      "File \u001b[0;32m~/.local/lib/python3.10/site-packages/bw2data/backends/base.py:813\u001b[0m, in \u001b[0;36mSQLiteBackend.process\u001b[0;34m(self, csv)\u001b[0m\n\u001b[1;32m    798\u001b[0m TECHNOSPHERE_POSITIVE_SQL \u001b[38;5;241m=\u001b[39m \u001b[38;5;124m\"\"\"\u001b[39m\u001b[38;5;124mSELECT e.data, a.id, b.id, e.input_database, e.input_code, e.output_database, e.output_code\u001b[39m\n\u001b[1;32m    799\u001b[0m \u001b[38;5;124m        FROM exchangedataset as e\u001b[39m\n\u001b[1;32m    800\u001b[0m \u001b[38;5;124m        LEFT JOIN activitydataset as a ON a.code == e.input_code AND a.database == e.input_database\u001b[39m\n\u001b[0;32m   (...)\u001b[0m\n\u001b[1;32m    803\u001b[0m \u001b[38;5;124m        AND e.type IN (\u001b[39m\u001b[38;5;124m'\u001b[39m\u001b[38;5;124mproduction\u001b[39m\u001b[38;5;124m'\u001b[39m\u001b[38;5;124m, \u001b[39m\u001b[38;5;124m'\u001b[39m\u001b[38;5;124msubstitution\u001b[39m\u001b[38;5;124m'\u001b[39m\u001b[38;5;124m, \u001b[39m\u001b[38;5;124m'\u001b[39m\u001b[38;5;124mgeneric production\u001b[39m\u001b[38;5;124m'\u001b[39m\u001b[38;5;124m)\u001b[39m\n\u001b[1;32m    804\u001b[0m \u001b[38;5;124m\u001b[39m\u001b[38;5;124m\"\"\"\u001b[39m\n\u001b[1;32m    805\u001b[0m TECHNOSPHERE_NEGATIVE_SQL \u001b[38;5;241m=\u001b[39m \u001b[38;5;124m\"\"\"\u001b[39m\u001b[38;5;124mSELECT e.data, a.id, b.id, e.input_database, e.input_code, e.output_database, e.output_code\u001b[39m\n\u001b[1;32m    806\u001b[0m \u001b[38;5;124m        FROM exchangedataset as e\u001b[39m\n\u001b[1;32m    807\u001b[0m \u001b[38;5;124m        LEFT JOIN activitydataset as a ON a.code == e.input_code AND a.database == e.input_database\u001b[39m\n\u001b[0;32m   (...)\u001b[0m\n\u001b[1;32m    810\u001b[0m \u001b[38;5;124m        AND e.type IN (\u001b[39m\u001b[38;5;124m'\u001b[39m\u001b[38;5;124mtechnosphere\u001b[39m\u001b[38;5;124m'\u001b[39m\u001b[38;5;124m, \u001b[39m\u001b[38;5;124m'\u001b[39m\u001b[38;5;124mgeneric consumption\u001b[39m\u001b[38;5;124m'\u001b[39m\u001b[38;5;124m)\u001b[39m\n\u001b[1;32m    811\u001b[0m \u001b[38;5;124m\u001b[39m\u001b[38;5;124m\"\"\"\u001b[39m\n\u001b[0;32m--> 813\u001b[0m \u001b[43mdp\u001b[49m\u001b[38;5;241;43m.\u001b[39;49m\u001b[43madd_persistent_vector_from_iterator\u001b[49m\u001b[43m(\u001b[49m\n\u001b[1;32m    814\u001b[0m \u001b[43m    \u001b[49m\u001b[43mmatrix\u001b[49m\u001b[38;5;241;43m=\u001b[39;49m\u001b[38;5;124;43m\"\u001b[39;49m\u001b[38;5;124;43mtechnosphere_matrix\u001b[39;49m\u001b[38;5;124;43m\"\u001b[39;49m\u001b[43m,\u001b[49m\n\u001b[1;32m    815\u001b[0m \u001b[43m    \u001b[49m\u001b[43mname\u001b[49m\u001b[38;5;241;43m=\u001b[39;49m\u001b[43mclean_datapackage_name\u001b[49m\u001b[43m(\u001b[49m\u001b[38;5;28;43mself\u001b[39;49m\u001b[38;5;241;43m.\u001b[39;49m\u001b[43mname\u001b[49m\u001b[43m \u001b[49m\u001b[38;5;241;43m+\u001b[39;49m\u001b[43m \u001b[49m\u001b[38;5;124;43m\"\u001b[39;49m\u001b[38;5;124;43m technosphere matrix\u001b[39;49m\u001b[38;5;124;43m\"\u001b[39;49m\u001b[43m)\u001b[49m\u001b[43m,\u001b[49m\n\u001b[1;32m    816\u001b[0m \u001b[43m    \u001b[49m\u001b[43mdict_iterator\u001b[49m\u001b[38;5;241;43m=\u001b[39;49m\u001b[43mitertools\u001b[49m\u001b[38;5;241;43m.\u001b[39;49m\u001b[43mchain\u001b[49m\u001b[43m(\u001b[49m\n\u001b[1;32m    817\u001b[0m \u001b[43m        \u001b[49m\u001b[38;5;28;43mself\u001b[39;49m\u001b[38;5;241;43m.\u001b[39;49m\u001b[43mexchange_data_iterator\u001b[49m\u001b[43m(\u001b[49m\n\u001b[1;32m    818\u001b[0m \u001b[43m            \u001b[49m\u001b[43mTECHNOSPHERE_NEGATIVE_SQL\u001b[49m\u001b[43m,\u001b[49m\u001b[43m \u001b[49m\u001b[43mdependents\u001b[49m\u001b[43m,\u001b[49m\u001b[43m \u001b[49m\u001b[43mflip\u001b[49m\u001b[38;5;241;43m=\u001b[39;49m\u001b[38;5;28;43;01mTrue\u001b[39;49;00m\n\u001b[1;32m    819\u001b[0m \u001b[43m        \u001b[49m\u001b[43m)\u001b[49m\u001b[43m,\u001b[49m\n\u001b[1;32m    820\u001b[0m \u001b[43m        \u001b[49m\u001b[38;5;28;43mself\u001b[39;49m\u001b[38;5;241;43m.\u001b[39;49m\u001b[43mexchange_data_iterator\u001b[49m\u001b[43m(\u001b[49m\u001b[43mTECHNOSPHERE_POSITIVE_SQL\u001b[49m\u001b[43m,\u001b[49m\u001b[43m \u001b[49m\u001b[43mdependents\u001b[49m\u001b[43m)\u001b[49m\u001b[43m,\u001b[49m\n\u001b[1;32m    821\u001b[0m \u001b[43m        \u001b[49m\u001b[43mimplicit_production\u001b[49m\u001b[43m,\u001b[49m\n\u001b[1;32m    822\u001b[0m \u001b[43m    \u001b[49m\u001b[43m)\u001b[49m\u001b[43m,\u001b[49m\n\u001b[1;32m    823\u001b[0m \u001b[43m\u001b[49m\u001b[43m)\u001b[49m\n\u001b[1;32m    824\u001b[0m \u001b[38;5;28;01mif\u001b[39;00m csv:\n\u001b[1;32m    825\u001b[0m     df \u001b[38;5;241m=\u001b[39m pandas\u001b[38;5;241m.\u001b[39mDataFrame([get_csv_data_dict(ds) \u001b[38;5;28;01mfor\u001b[39;00m ds \u001b[38;5;129;01min\u001b[39;00m \u001b[38;5;28mself\u001b[39m])\n",
      "File \u001b[0;32m~/.local/lib/python3.10/site-packages/bw_processing/datapackage.py:441\u001b[0m, in \u001b[0;36mDatapackage.add_persistent_vector_from_iterator\u001b[0;34m(self, matrix, name, dict_iterator, nrows, matrix_serialize_format_type, **kwargs)\u001b[0m\n\u001b[1;32m    432\u001b[0m \u001b[38;5;250m\u001b[39m\u001b[38;5;124;03m\"\"\"Create a persistant vector from an iterator. Uses the utility function ``resolve_dict_iterator``.\u001b[39;00m\n\u001b[1;32m    433\u001b[0m \n\u001b[1;32m    434\u001b[0m \u001b[38;5;124;03mThis is the **only array creation method which produces sorted arrays**.\"\"\"\u001b[39;00m\n\u001b[1;32m    435\u001b[0m name \u001b[38;5;241m=\u001b[39m \u001b[38;5;28mself\u001b[39m\u001b[38;5;241m.\u001b[39m_prepare_name(name)\n\u001b[1;32m    436\u001b[0m (\n\u001b[1;32m    437\u001b[0m     data_array,\n\u001b[1;32m    438\u001b[0m     indices_array,\n\u001b[1;32m    439\u001b[0m     distributions_array,\n\u001b[1;32m    440\u001b[0m     flip_array,\n\u001b[0;32m--> 441\u001b[0m ) \u001b[38;5;241m=\u001b[39m \u001b[43mresolve_dict_iterator\u001b[49m\u001b[43m(\u001b[49m\u001b[43mdict_iterator\u001b[49m\u001b[43m,\u001b[49m\u001b[43m \u001b[49m\u001b[43mnrows\u001b[49m\u001b[43m)\u001b[49m\n\u001b[1;32m    442\u001b[0m \u001b[38;5;28mself\u001b[39m\u001b[38;5;241m.\u001b[39madd_persistent_vector(\n\u001b[1;32m    443\u001b[0m     matrix\u001b[38;5;241m=\u001b[39mmatrix,\n\u001b[1;32m    444\u001b[0m     name\u001b[38;5;241m=\u001b[39mname,\n\u001b[0;32m   (...)\u001b[0m\n\u001b[1;32m    451\u001b[0m     \u001b[38;5;241m*\u001b[39m\u001b[38;5;241m*\u001b[39mkwargs,\n\u001b[1;32m    452\u001b[0m )\n",
      "File \u001b[0;32m~/.local/lib/python3.10/site-packages/bw_processing/utils.py:73\u001b[0m, in \u001b[0;36mresolve_dict_iterator\u001b[0;34m(iterator, nrows)\u001b[0m\n\u001b[1;32m     71\u001b[0m sort_fields \u001b[38;5;241m=\u001b[39m [\u001b[38;5;124m\"\u001b[39m\u001b[38;5;124mrow\u001b[39m\u001b[38;5;124m\"\u001b[39m, \u001b[38;5;124m\"\u001b[39m\u001b[38;5;124mcol\u001b[39m\u001b[38;5;124m\"\u001b[39m, \u001b[38;5;124m\"\u001b[39m\u001b[38;5;124mamount\u001b[39m\u001b[38;5;124m\"\u001b[39m, \u001b[38;5;124m\"\u001b[39m\u001b[38;5;124muncertainty_type\u001b[39m\u001b[38;5;124m\"\u001b[39m]\n\u001b[1;32m     72\u001b[0m data \u001b[38;5;241m=\u001b[39m (dictionary_formatter(row) \u001b[38;5;28;01mfor\u001b[39;00m row \u001b[38;5;129;01min\u001b[39;00m iterator)\n\u001b[0;32m---> 73\u001b[0m array \u001b[38;5;241m=\u001b[39m \u001b[43mcreate_structured_array\u001b[49m\u001b[43m(\u001b[49m\n\u001b[1;32m     74\u001b[0m \u001b[43m    \u001b[49m\u001b[43mdata\u001b[49m\u001b[43m,\u001b[49m\n\u001b[1;32m     75\u001b[0m \u001b[43m    \u001b[49m\u001b[43mINDICES_DTYPE\u001b[49m\u001b[43m \u001b[49m\u001b[38;5;241;43m+\u001b[39;49m\u001b[43m \u001b[49m\u001b[43m[\u001b[49m\u001b[43m(\u001b[49m\u001b[38;5;124;43m\"\u001b[39;49m\u001b[38;5;124;43mamount\u001b[39;49m\u001b[38;5;124;43m\"\u001b[39;49m\u001b[43m,\u001b[49m\u001b[43m \u001b[49m\u001b[43mnp\u001b[49m\u001b[38;5;241;43m.\u001b[39;49m\u001b[43mfloat32\u001b[49m\u001b[43m)\u001b[49m\u001b[43m]\u001b[49m\u001b[43m \u001b[49m\u001b[38;5;241;43m+\u001b[39;49m\u001b[43m \u001b[49m\u001b[43mUNCERTAINTY_DTYPE\u001b[49m\u001b[43m \u001b[49m\u001b[38;5;241;43m+\u001b[39;49m\u001b[43m \u001b[49m\u001b[43m[\u001b[49m\u001b[43m(\u001b[49m\u001b[38;5;124;43m\"\u001b[39;49m\u001b[38;5;124;43mflip\u001b[39;49m\u001b[38;5;124;43m\"\u001b[39;49m\u001b[43m,\u001b[49m\u001b[43m \u001b[49m\u001b[38;5;28;43mbool\u001b[39;49m\u001b[43m)\u001b[49m\u001b[43m]\u001b[49m\u001b[43m,\u001b[49m\n\u001b[1;32m     76\u001b[0m \u001b[43m    \u001b[49m\u001b[43mnrows\u001b[49m\u001b[38;5;241;43m=\u001b[39;49m\u001b[43mnrows\u001b[49m\u001b[43m,\u001b[49m\n\u001b[1;32m     77\u001b[0m \u001b[43m    \u001b[49m\u001b[43msort\u001b[49m\u001b[38;5;241;43m=\u001b[39;49m\u001b[38;5;28;43;01mTrue\u001b[39;49;00m\u001b[43m,\u001b[49m\n\u001b[1;32m     78\u001b[0m \u001b[43m    \u001b[49m\u001b[43msort_fields\u001b[49m\u001b[38;5;241;43m=\u001b[39;49m\u001b[43msort_fields\u001b[49m\u001b[43m,\u001b[49m\n\u001b[1;32m     79\u001b[0m \u001b[43m\u001b[49m\u001b[43m)\u001b[49m\n\u001b[1;32m     80\u001b[0m \u001b[38;5;28;01mreturn\u001b[39;00m (\n\u001b[1;32m     81\u001b[0m     array[\u001b[38;5;124m\"\u001b[39m\u001b[38;5;124mamount\u001b[39m\u001b[38;5;124m\"\u001b[39m],\n\u001b[1;32m     82\u001b[0m     \u001b[38;5;66;03m# Not repacking fields would cause this multi-field index to return a view\u001b[39;00m\n\u001b[0;32m   (...)\u001b[0m\n\u001b[1;32m     99\u001b[0m     array[\u001b[38;5;124m\"\u001b[39m\u001b[38;5;124mflip\u001b[39m\u001b[38;5;124m\"\u001b[39m],\n\u001b[1;32m    100\u001b[0m )\n",
      "File \u001b[0;32m~/.local/lib/python3.10/site-packages/bw_processing/array_creation.py:82\u001b[0m, in \u001b[0;36mcreate_structured_array\u001b[0;34m(iterable, dtype, nrows, sort, sort_fields)\u001b[0m\n\u001b[1;32m     79\u001b[0m         array[i] \u001b[38;5;241m=\u001b[39m \u001b[38;5;28mtuple\u001b[39m(row)\n\u001b[1;32m     81\u001b[0m \u001b[38;5;28;01melse\u001b[39;00m:\n\u001b[0;32m---> 82\u001b[0m     array \u001b[38;5;241m=\u001b[39m \u001b[43mcreate_chunked_structured_array\u001b[49m\u001b[43m(\u001b[49m\u001b[43miterable\u001b[49m\u001b[43m,\u001b[49m\u001b[43m \u001b[49m\u001b[43mdtype\u001b[49m\u001b[43m)\u001b[49m\n\u001b[1;32m     84\u001b[0m \u001b[38;5;28;01mif\u001b[39;00m sort:\n\u001b[1;32m     85\u001b[0m     sort_fields \u001b[38;5;241m=\u001b[39m sort_fields \u001b[38;5;129;01mor\u001b[39;00m ()\n",
      "File \u001b[0;32m~/.local/lib/python3.10/site-packages/bw_processing/array_creation.py:46\u001b[0m, in \u001b[0;36mcreate_chunked_structured_array\u001b[0;34m(iterable, dtype, bucket_size)\u001b[0m\n\u001b[1;32m     44\u001b[0m \u001b[38;5;28;01mfor\u001b[39;00m chunk \u001b[38;5;129;01min\u001b[39;00m chunked(iterable, bucket_size):\n\u001b[1;32m     45\u001b[0m     \u001b[38;5;28;01mfor\u001b[39;00m i, row \u001b[38;5;129;01min\u001b[39;00m \u001b[38;5;28menumerate\u001b[39m(chunk):\n\u001b[0;32m---> 46\u001b[0m         array[i] \u001b[38;5;241m=\u001b[39m row\n\u001b[1;32m     47\u001b[0m     \u001b[38;5;28;01mif\u001b[39;00m i \u001b[38;5;241m<\u001b[39m bucket_size \u001b[38;5;241m-\u001b[39m \u001b[38;5;241m1\u001b[39m:\n\u001b[1;32m     48\u001b[0m         array \u001b[38;5;241m=\u001b[39m array[: i \u001b[38;5;241m+\u001b[39m \u001b[38;5;241m1\u001b[39m]\n",
      "\u001b[0;31mValueError\u001b[0m: could not convert string to float: 'RoW'"
     ]
    }
   ],
   "source": [
    "ndb.write_db_to_brightway([\n",
    "                            #\"SSP2-Base_2020\",\"SSP2-Base_2025\",\"SSP2-Base_2030\",\n",
    "                           #\"SSP2-Base_2035\",\"SSP2-Base_2040\",\"SSP2-Base_2045\",\"SSP2-Base_2050\",\n",
    "                          \"SSP2-RCP26_2020\",\"SSP2-RCP26_2025\", \"SSP2-RCP26_2030\",\n",
    "                           \"SSP2-RCP26_2035\",\"SSP2-RCP26_2040\", \"SSP2-RCP26_2045\",\"SSP2-RCP26_2050\"\n",
    "                          ])"
   ]
  },
  {
   "cell_type": "code",
   "execution_count": null,
   "id": "5cc0cf46-e3cd-4834-9ec8-79667e63b2aa",
   "metadata": {},
   "outputs": [],
   "source": [
    "for ds in ndb.scenarios[0][\"database\"]:\n",
    "    for e in ds[\"exchanges\"]:\n",
    "        if e[\"type\"] in [\"production\", \"technosphere\"]:\n",
    "            if \"product\" not in e:\n",
    "                print(ds[\"name\"], \" | \", e[\"name\"])"
   ]
  },
  {
   "cell_type": "code",
   "execution_count": null,
   "id": "2a8371dc-1170-4ca7-aeaa-30d4d760888e",
   "metadata": {
    "scrolled": true
   },
   "outputs": [],
   "source": [
    "import bw2data, bw2calc\n",
    "FU = [\n",
    "    {act: 1} for db in [\n",
    "        \"ecoinvent-3.9.1-cutoff\", \n",
    "        \"SSP2-Base_2020\",\"SSP2-Base_2025\",\"SSP2-Base_2030\",\n",
    "        \"SSP2-Base_2035\",\"SSP2-Base_2040\",\"SSP2-Base_2045\",\"SSP2-Base_2050\", \n",
    "        \"SSP2-RCP26_2020\",\"SSP2-RCP26_2025\",\"SSP2-RCP26_2030\",\n",
    "        \"SSP2-RCP26_2035\",\"SSP2-RCP26_2040\",\"SSP2-RCP26_2045\",\"SSP2-RCP26_2050\",\n",
    "    ] for act in bw2data.Database(db) if act[\"name\"] == \"market for cement, all types, adjusted\" #steel production, low-alloyed, adjusted\n",
    "    and act[\"location\"] == \"RER\"\n",
    "]\n",
    "FU"
   ]
  },
  {
   "cell_type": "code",
   "execution_count": null,
   "id": "75ae895b-6d5a-4e44-9511-a67ef95b2adc",
   "metadata": {},
   "outputs": [],
   "source": [
    "method = [('IPCC 2021', 'climate change: fossil', 'global warming potential (GWP100)')]\n",
    "bw2calc.multi_lca.calculation_setups[\"steel market\"] = {\n",
    "    \"inv\": FU,\n",
    "    \"ia\": method\n",
    "}"
   ]
  },
  {
   "cell_type": "code",
   "execution_count": null,
   "id": "e8fa674c-760b-4695-99b2-0f0423258002",
   "metadata": {},
   "outputs": [],
   "source": [
    "lca = bw2calc.MultiLCA(\"steel market\")\n",
    "acts = [list(d.keys())[0] for d in lca.func_units]"
   ]
  },
  {
   "cell_type": "code",
   "execution_count": null,
   "id": "343cc9b9-22cd-443b-b037-32aa09281ba8",
   "metadata": {},
   "outputs": [],
   "source": [
    "import pandas as pd\n",
    "results = pd.DataFrame(\n",
    "    zip(\n",
    "        [a[\"name\"] for a in acts],\n",
    "        [a[\"database\"] for a in acts],\n",
    "        lca.results.flatten()\n",
    "    ),\n",
    "    columns=[\"name\", \"year\", \"GWP\"]\n",
    ")"
   ]
  },
  {
   "cell_type": "code",
   "execution_count": null,
   "id": "5febde08-9dd2-4f5a-9cfd-c55c4683677d",
   "metadata": {
    "scrolled": true
   },
   "outputs": [],
   "source": [
    "results"
   ]
  },
  {
   "cell_type": "code",
   "execution_count": null,
   "id": "b4af217a-822f-4b85-9c8d-44bdcf7595f4",
   "metadata": {},
   "outputs": [],
   "source": [
    "results = results.replace(\"ecoinvent 3.9.1 cutoff\", 2020)\n",
    "results[\"year\"] = results[\"year\"].astype(\"str\")"
   ]
  },
  {
   "cell_type": "code",
   "execution_count": null,
   "id": "53c072e9-94c5-4b68-a760-ffee2b728d2f",
   "metadata": {},
   "outputs": [],
   "source": [
    "import seaborn as sns\n",
    "import matplotlib.pyplot as plt\n",
    "\n",
    "# plot with seaborn barplot\n",
    "ax =sns.barplot(data=results, x='name', y='GWP', hue='year')\n",
    "sns.move_legend(ax, \"upper left\", bbox_to_anchor=(1, 1))\n",
    "ax.set(xlabel= \"1m3 of Concrete\")\n",
    "plt.xticks([])\n",
    "plt.ylabel(\"kg CO$_2$-eq./km\")\n",
    "plt.savefig('concrete.png', dpi=400)"
   ]
  },
  {
   "cell_type": "code",
   "execution_count": null,
   "id": "36ade908-fc4c-44ff-9870-59d992ccd57c",
   "metadata": {},
   "outputs": [],
   "source": []
  },
  {
   "cell_type": "code",
   "execution_count": null,
   "id": "f32b1170-afec-445c-b579-ba188ef1bdfa",
   "metadata": {},
   "outputs": [],
   "source": []
  },
  {
   "cell_type": "markdown",
   "id": "0492b4c1-2739-4ca9-b5ad-e4b07271e74a",
   "metadata": {
    "scrolled": true
   },
   "source": [
    "sampling = pd.read_excel(\"concrete_sampling.xlsx\")\n",
    "sampling"
   ]
  },
  {
   "cell_type": "code",
   "execution_count": null,
   "id": "9f2f9c2f-8131-44b1-b2b6-fb0dd5fb88ff",
   "metadata": {},
   "outputs": [],
   "source": []
  },
  {
   "cell_type": "code",
   "execution_count": null,
   "id": "c4fe920c-362a-4189-93a7-c0a81a14db1f",
   "metadata": {},
   "outputs": [],
   "source": []
  },
  {
   "cell_type": "code",
   "execution_count": null,
   "id": "9ae3621b-6f9c-4fcc-8162-55af82e3cfec",
   "metadata": {},
   "outputs": [],
   "source": []
  },
  {
   "cell_type": "code",
   "execution_count": 97,
   "id": "1dbcb809-959a-413e-9239-2c4f78767705",
   "metadata": {},
   "outputs": [],
   "source": [
    "import bw2io\n",
    "import bw2data"
   ]
  },
  {
   "cell_type": "code",
   "execution_count": null,
   "id": "2bb04f16-6995-44cf-817b-e1529ce8cfe9",
   "metadata": {},
   "outputs": [],
   "source": [
    "import bw2io\n",
    "bw2io.BW2Package.export_objs(\n",
    "    [\n",
    "        #bw2data.Database(\"SSP2-Base_2020\"),\n",
    "        #bw2data.Database(\"SSP2-Base_2025\"),\n",
    "        #bw2data.Database(\"SSP2-Base_2030\"),\n",
    "        #bw2data.Database(\"SSP2-Base_2035\"),\n",
    "        #bw2data.Database(\"SSP2-Base_2040\"),\n",
    "        #bw2data.Database(\"SSP2-Base_2045\"),\n",
    "        #bw2data.Database(\"SSP2-Base_2050\"),\n",
    "        bw2data.Database(\"SSP2-RCP26_2020\"),\n",
    "        bw2data.Database(\"SSP2-RCP26_2025\"),\n",
    "        bw2data.Database(\"SSP2-RCP26_2030\"),\n",
    "        bw2data.Database(\"SSP2-RCP26_2035\"),\n",
    "        bw2data.Database(\"SSP2-RCP26_2040\"),\n",
    "        bw2data.Database(\"SSP2-RCP26_2045\"),\n",
    "        bw2data.Database(\"SSP2-RCP26_2050\"),\n",
    "    ],\n",
    "    filename=\"./saveDB\"\n",
    ")"
   ]
  },
  {
   "cell_type": "code",
   "execution_count": null,
   "id": "02be9051-827a-46eb-8e99-41bd550250a7",
   "metadata": {},
   "outputs": [],
   "source": []
  },
  {
   "cell_type": "code",
   "execution_count": null,
   "id": "97a67679-1e6a-4c86-b789-c7b0d9d5e71e",
   "metadata": {},
   "outputs": [],
   "source": [
    "bw2io.BW2Package.import_objs(\n",
    "    filepath)"
   ]
  },
  {
   "cell_type": "code",
   "execution_count": null,
   "id": "438d830a-8ff3-4420-9a3d-3181e37adb0d",
   "metadata": {},
   "outputs": [],
   "source": []
  },
  {
   "cell_type": "code",
   "execution_count": null,
   "id": "f3255fba-c32e-419c-ad2a-1922f39389b8",
   "metadata": {},
   "outputs": [],
   "source": []
  },
  {
   "cell_type": "code",
   "execution_count": null,
   "id": "8ac3955c-6f62-46f8-9597-a83aa183e511",
   "metadata": {},
   "outputs": [],
   "source": []
  },
  {
   "cell_type": "code",
   "execution_count": null,
   "id": "2849af3f-e2c9-4230-ad6e-0ef3fc49b100",
   "metadata": {},
   "outputs": [],
   "source": []
  },
  {
   "cell_type": "code",
   "execution_count": null,
   "id": "87f55104-e90d-4f09-b1d5-27b887ee3c2b",
   "metadata": {},
   "outputs": [],
   "source": []
  }
 ],
 "metadata": {
  "kernelspec": {
   "display_name": "Python [conda env:premise]",
   "language": "python",
   "name": "conda-env-premise-py"
  },
  "language_info": {
   "codemirror_mode": {
    "name": "ipython",
    "version": 3
   },
   "file_extension": ".py",
   "mimetype": "text/x-python",
   "name": "python",
   "nbconvert_exporter": "python",
   "pygments_lexer": "ipython3",
   "version": "3.10.13"
  }
 },
 "nbformat": 4,
 "nbformat_minor": 5
}
