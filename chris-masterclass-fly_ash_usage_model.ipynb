{
 "cells": [
  {
   "cell_type": "markdown",
   "id": "41bb8e52-2de7-445c-a4c9-95e155bdf67c",
   "metadata": {},
   "source": [
    "# Fly ash usage model\n",
    "\n",
    "<img src=\"https://upload.wikimedia.org/wikipedia/commons/f/f4/VysokePece1.jpg\" width=\"400\">\n",
    "\n",
    "We want to change the fraction of primary versus recycle steel production over time, and have the fraction of fly ash flowing into concrete production change at the same time.\n",
    "\n",
    "To accomplish this, we need to create a new steel process (in a new database), which will be a mix of different steel production types."
   ]
  },
  {
   "cell_type": "code",
   "execution_count": 1,
   "id": "a60a3876-a927-4011-9efd-5022ba4815ed",
   "metadata": {},
   "outputs": [],
   "source": [
    "import bw2data as bd\n",
    "import bw2calc as bc\n",
    "import bw2io as bi\n",
    "import bw_processing as bwp\n",
    "from dataclasses import dataclass\n",
    "from typing import Callable\n",
    "import logging\n",
    "import numpy as np\n",
    "import seaborn as sb\n",
    "from matplotlib import pyplot as plt"
   ]
  },
  {
   "cell_type": "markdown",
   "id": "69e406c9-e6e1-4230-919f-ff57b9c04d60",
   "metadata": {},
   "source": [
    "Change level to `logging.DEBUG` to print too much, `logging.WARNING` to print less"
   ]
  },
  {
   "cell_type": "code",
   "execution_count": 2,
   "id": "9c85f037-3a08-44b4-8657-44840ee3eaea",
   "metadata": {},
   "outputs": [],
   "source": [
    "logging.basicConfig(level=logging.WARNING)\n",
    "logger = logging.getLogger('flexible-chains')\n",
    "logger.setLevel(level=logging.INFO)"
   ]
  },
  {
   "cell_type": "code",
   "execution_count": 3,
   "id": "2d0c18a7-cddd-4fc0-b54a-27cd3ba50615",
   "metadata": {},
   "outputs": [
    {
     "name": "stdout",
     "output_type": "stream",
     "text": [
      "Restoring project backup archive - this could take a few minutes...\n"
     ]
    },
    {
     "data": {
      "text/plain": [
       "'♻️💥🔥🔗'"
      ]
     },
     "execution_count": 3,
     "metadata": {},
     "output_type": "execute_result"
    }
   ],
   "source": [
    "bi.restore_project_directory(\n",
    "    fp=\"/srv/data/ecoinvent-3.9-cutoff.tar.gz\", \n",
    "    project_name=\"♻️💥🔥🔗\",\n",
    "    overwrite_existing=True\n",
    ")"
   ]
  },
  {
   "cell_type": "code",
   "execution_count": 4,
   "id": "23eeb9f1-1d5a-477c-863a-4f906072e8d0",
   "metadata": {},
   "outputs": [],
   "source": [
    "bd.projects.set_current(\"♻️💥🔥🔗\")"
   ]
  },
  {
   "cell_type": "code",
   "execution_count": 5,
   "id": "c857d1da-2d07-4f8b-8fa9-a24cccbf0148",
   "metadata": {},
   "outputs": [],
   "source": [
    "@dataclass\n",
    "class Constants:\n",
    "    steel_market: bd.Node\n",
    "    cement_market: bd.Node\n",
    "    slag_process: bd.Node\n",
    "    mass_fly_ash_per_kilogram_steel: float\n",
    "    fraction_fly_ash_to_this_cement_market: float\n",
    "    converter_filter_function: Callable\n",
    "    electric_filter_function: Callable\n",
    "    clinker_filter_function: Callable"
   ]
  },
  {
   "cell_type": "code",
   "execution_count": 6,
   "id": "70d82e07-7eec-4e71-83ef-4f0f5d9284c2",
   "metadata": {},
   "outputs": [],
   "source": [
    "my_configuration = Constants(\n",
    "    steel_market = bd.get_node(\n",
    "        name=\"market for steel, low-alloyed\", \n",
    "        location=\"GLO\", \n",
    "        database=\"ecoinvent-3.9-cutoff\"\n",
    "    ),\n",
    "    cement_market = bd.get_node(\n",
    "        name=\"cement production, CEM II/A\", \n",
    "        location=\"CH\", \n",
    "        database=\"ecoinvent-3.9-cutoff\"\n",
    "    ),\n",
    "    slag_process = bd.get_node(\n",
    "        name=\"ground granulated blast furnace slag production\", \n",
    "        location=\"RoW\", \n",
    "        database=\"ecoinvent-3.9-cutoff\"\n",
    "    ),\n",
    "    mass_fly_ash_per_kilogram_steel = 0.0025,  # Fix, total guess\n",
    "    fraction_fly_ash_to_this_cement_market = 0.5,  # Configurable\n",
    "    converter_filter_function = lambda x: \"converter\" in x['name'].lower() and \"steel\" in x['name'].lower(),\n",
    "    electric_filter_function = lambda x: \"electric\" in x['name'].lower() and \"steel\" in x['name'].lower(),\n",
    "    clinker_filter_function = lambda x: 'clinker' in x['name'].lower()\n",
    ")"
   ]
  },
  {
   "cell_type": "code",
   "execution_count": 7,
   "id": "5497227f-fead-4752-8545-b6fcd04d726b",
   "metadata": {},
   "outputs": [],
   "source": [
    "def get_exchange_production_volume(exchange: bd.Edge) -> float:\n",
    "    try:\n",
    "        return exchange.input.rp_exchange()['production volume']\n",
    "    except:\n",
    "        return 0."
   ]
  },
  {
   "cell_type": "code",
   "execution_count": 8,
   "id": "4e11ee1e-0c09-42d0-8af4-710b0c36b6fe",
   "metadata": {},
   "outputs": [],
   "source": [
    "class BlastOff:\n",
    "    def __init__(self, configuration):\n",
    "        self.config = configuration\n",
    "\n",
    "    def generate_datapackage(\n",
    "            self, \n",
    "            fraction_blast_oven_steel: float, \n",
    "    ) -> bwp.Datapackage:\n",
    "        \"\"\"Generate a datapackage that will change matrix values based on the given configuration.\n",
    "        \n",
    "        Inputs:\n",
    "        fraction_blast_oven_steel: float\n",
    "            The fraction of steel which is made from the blast oven (between 0 and 1)\n",
    "        \"\"\"\n",
    "        dp = bwp.create_datapackage()\n",
    "\n",
    "        assert 0 <= fraction_blast_oven_steel <= 1\n",
    "        mass_fly_ash = self.calculate_mass_fly_ash(\n",
    "            fraction_blast_oven_steel, \n",
    "        )\n",
    "        self.adjust_steel_market(fraction_blast_oven_steel, dp)\n",
    "        self.adjust_cement_market(mass_fly_ash * self.config.fraction_fly_ash_to_this_cement_market, dp)\n",
    "        return dp\n",
    "\n",
    "    def adjust_cement_market(self, mass_fly_ash: float, dp: bwp.Datapackage) -> None:\n",
    "        \"\"\"Change the relative fraction of all players in `self.config.cement_market`.\n",
    "\n",
    "        Adds a resource group to `self.dp`.\"\"\"\n",
    "        exchanges = [{\n",
    "            'indices': (exc.input.id, exc.output.id),\n",
    "            'input': exc.input,\n",
    "            'original': exc['amount'],\n",
    "            'pv': get_exchange_production_volume(exc)\n",
    "        } for exc in self.config.cement_market.technosphere()\n",
    "        if self.config.clinker_filter_function(exc.input)]\n",
    "        total_clinker_fraction = sum(o['original'] for o in exchanges)\n",
    "        total_clinker_pv = sum(o['pv'] for o in exchanges)\n",
    "        fly_ash_fraction = mass_fly_ash / (total_clinker_pv / total_clinker_fraction)\n",
    "        assert 0.25 < total_clinker_fraction <= 1\n",
    "\n",
    "        logger.info(f\"Fly ash mass coming into cement market: {mass_fly_ash}\")\n",
    "        logger.info(f\"Total clinker fraction before modification: {total_clinker_fraction}\")\n",
    "        logger.info(f\"Total clinker PV (kg) before modification: {total_clinker_pv}\")\n",
    "\n",
    "        # Fly ash could already be present. There are also other binders that we\n",
    "        # don't touch. Can't just multiply, need to be careful\n",
    "        existing_fly_ash_fraction = sum([\n",
    "            (exc['amount'] if exc.input == self.config.slag_process else 0)\n",
    "            for exc in self.config.cement_market.technosphere()\n",
    "        ])\n",
    "\n",
    "        reduction_in_clinker = fly_ash_fraction - existing_fly_ash_fraction\n",
    "        clinker_multiplier = (total_clinker_fraction - reduction_in_clinker) / total_clinker_fraction\n",
    "        if clinker_multiplier < 0:\n",
    "            clinker_multiplier = 0\n",
    "\n",
    "        max_possible_fly_ash = total_clinker_fraction + existing_fly_ash_fraction\n",
    "        if fly_ash_fraction > max_possible_fly_ash:\n",
    "            fly_ash_fraction = max_possible_fly_ash\n",
    "\n",
    "        logger.info(f\"Total fly ash fraction before modification: {existing_fly_ash_fraction}\")\n",
    "        logger.info(f\"New fly ash fraction: {fly_ash_fraction}\")\n",
    "        logger.info(f\"Clinker multiplier: {clinker_multiplier}\")\n",
    "\n",
    "        data, indices = [fly_ash_fraction], [(self.config.slag_process.id, self.config.cement_market.id)]\n",
    "        for exc in exchanges:\n",
    "            data.append(exc['original'] * clinker_multiplier)\n",
    "            logger.info(f\"Changing input of {exc['input']} from {exc['original']} to {exc['original'] * clinker_multiplier}\")\n",
    "            indices.append(exc['indices'])\n",
    "\n",
    "        dp.add_persistent_vector(\n",
    "            matrix=\"technosphere_matrix\",\n",
    "            data_array=np.array(data),\n",
    "            name=\"cement market clinker substitution\",\n",
    "            indices_array=np.array(indices, dtype=bwp.INDICES_DTYPE),\n",
    "            flip_array=np.ones(len(data), dtype=bool)\n",
    "        )    \n",
    "    \n",
    "    def adjust_steel_market(self, fraction_blast_oven_steel: float, dp: bwp.Datapackage) -> None:\n",
    "        \"\"\"Change the relative fraction of all players in `self.config.steel_market`.\n",
    "        \n",
    "        Adds a resource group to `self.dp`.\"\"\"\n",
    "        exchanges = [{\n",
    "            'indices': (exc.input.id, exc.output.id),\n",
    "            'input': exc.input,\n",
    "            'original': exc['amount'],\n",
    "            'converter': self.config.converter_filter_function(exc.input),\n",
    "            'electric': self.config.electric_filter_function(exc.input)\n",
    "        } for exc in self.config.steel_market.technosphere()]\n",
    "        total_electric = sum(o['original'] for o in exchanges if o['electric'])\n",
    "        total_converter = sum(o['original'] for o in exchanges if o['converter'])\n",
    "        logger.info(\"Original fraction blast furnace: {}\".format(total_converter / (total_converter + total_electric)))\n",
    "        logger.info(f\"Changing to {fraction_blast_oven_steel}\")\n",
    "\n",
    "        multiplier_electric = (\n",
    "            (1 - fraction_blast_oven_steel) \n",
    "            / (total_electric / (total_converter + total_electric))\n",
    "        )\n",
    "        multiplier_converter = (\n",
    "            fraction_blast_oven_steel / \n",
    "            (total_converter / (total_converter + total_electric))\n",
    "        )\n",
    "\n",
    "        logger.info(f\"Electric share conversion multiplier: {multiplier_electric}\")\n",
    "        logger.info(f\"Converter share conversion multiplier: {multiplier_converter}\")\n",
    "        \n",
    "        data, indices = [], []\n",
    "        for exc in exchanges:\n",
    "            if exc['converter']:\n",
    "                data.append(exc['original'] * multiplier_converter)\n",
    "                logger.info(f\"Changing input of {exc['input']} from {exc['original']} to {exc['original'] * multiplier_converter}\")\n",
    "                indices.append(exc['indices'])\n",
    "            elif exc['electric']:\n",
    "                data.append(exc['original'] * multiplier_electric)\n",
    "                logger.info(f\"Changing input of {exc['input']} from {exc['original']} to {exc['original'] * multiplier_electric}\")\n",
    "                indices.append(exc['indices'])\n",
    "\n",
    "        dp.add_persistent_vector(\n",
    "            matrix=\"technosphere_matrix\",\n",
    "            data_array=np.array(data),\n",
    "            name=\"steel production technology shares\",\n",
    "            indices_array=np.array(indices, dtype=bwp.INDICES_DTYPE),\n",
    "            flip_array=np.ones(len(data), dtype=bool)\n",
    "        )    \n",
    "    \n",
    "    def calculate_mass_fly_ash(\n",
    "        self,\n",
    "        fraction_blast_oven_steel: float, \n",
    "    ) -> float:\n",
    "        total_steel_market_pv = sum(\n",
    "            get_exchange_production_volume(exc) \n",
    "            for exc in self.config.steel_market.technosphere()\n",
    "            if (\n",
    "                self.config.converter_filter_function(exc.input)\n",
    "                or self.config.electric_filter_function(exc.input)\n",
    "            )\n",
    "        )\n",
    "        logger.info(f\"Calculated total steel PV: {total_steel_market_pv}\")\n",
    "        mass_fly_ash = (self.config.mass_fly_ash_per_kilogram_steel \n",
    "                        * fraction_blast_oven_steel \n",
    "                        * total_steel_market_pv)\n",
    "            \n",
    "        logger.info(f\"Calculated fly ash mass (kg): {mass_fly_ash}\")\n",
    "        return mass_fly_ash"
   ]
  },
  {
   "cell_type": "code",
   "execution_count": 9,
   "id": "ff8d7d1b-b50c-429c-ad08-430577f0ba58",
   "metadata": {},
   "outputs": [
    {
     "name": "stderr",
     "output_type": "stream",
     "text": [
      "INFO:flexible-chains:Calculated total steel PV: 153086538181.8209\n",
      "INFO:flexible-chains:Calculated fly ash mass (kg): 191358172.72727612\n",
      "INFO:flexible-chains:Original fraction blast furnace: 0.7421076548969351\n",
      "INFO:flexible-chains:Changing to 0.5\n",
      "INFO:flexible-chains:Electric share conversion multiplier: 1.938793490749709\n",
      "INFO:flexible-chains:Converter share conversion multiplier: 0.6737566937905265\n",
      "INFO:flexible-chains:Changing input of 'steel production, converter, low-alloyed' (kilogram, IN, None) from 0.0269397499900407 to 0.018150836884833193\n",
      "INFO:flexible-chains:Changing input of 'steel production, electric, low-alloyed' (kilogram, CA-QC, None) from 0.000562259367102862 to 0.0010901048010520799\n",
      "INFO:flexible-chains:Changing input of 'steel production, electric, low-alloyed' (kilogram, IN, None) from 0.0325097701964945 to 0.06302973084273243\n",
      "INFO:flexible-chains:Changing input of 'steel production, electric, low-alloyed' (kilogram, CH, None) from 0.0098250242381601 to 0.01904869303940292\n",
      "INFO:flexible-chains:Changing input of 'steel production, electric, low-alloyed' (kilogram, AT, None) from 1.13898549520319e-05 to 2.2082576641582787e-05\n",
      "INFO:flexible-chains:Changing input of 'steel production, converter, low-alloyed' (kilogram, RER, None) from 0.124966788041178 to 0.0841972099442456\n",
      "INFO:flexible-chains:Changing input of 'steel production, electric, low-alloyed' (kilogram, RoW, None) from 0.141748113466333 to 0.2748203197145776\n",
      "INFO:flexible-chains:Changing input of 'steel production, converter, low-alloyed' (kilogram, RoW, None) from 0.590201116865716 to 0.39765195317092095\n",
      "INFO:flexible-chains:Changing input of 'steel production, electric, low-alloyed' (kilogram, Europe without Switzerland and Austria, None) from 0.0732357879800223 to 0.14198906902559302\n",
      "INFO:flexible-chains:Fly ash mass coming into cement market: 95679086.36363806\n",
      "INFO:flexible-chains:Total clinker fraction before modification: 0.788\n",
      "INFO:flexible-chains:Total clinker PV (kg) before modification: 3100000000.0\n",
      "INFO:flexible-chains:Total fly ash fraction before modification: 0\n",
      "INFO:flexible-chains:New fly ash fraction: 0.024321006469208643\n",
      "INFO:flexible-chains:Clinker multiplier: 0.9691357785923748\n",
      "INFO:flexible-chains:Changing input of 'clinker production' (kilogram, CH, None) from 0.788 to 0.7636789935307914\n"
     ]
    }
   ],
   "source": [
    "bo = BlastOff(my_configuration)\n",
    "dp = bo.generate_datapackage(0.5)"
   ]
  },
  {
   "cell_type": "markdown",
   "id": "8bc117de-1049-4ad3-a6c0-3fb6d8bd84e7",
   "metadata": {},
   "source": [
    "Look at composite beam"
   ]
  },
  {
   "cell_type": "code",
   "execution_count": 10,
   "id": "94a6d887-0c57-4b18-aa14-de15d8dc83e6",
   "metadata": {},
   "outputs": [],
   "source": [
    "logger.setLevel(level=logging.WARNING)"
   ]
  },
  {
   "cell_type": "code",
   "execution_count": 11,
   "id": "830be10d-f67d-48c5-9a30-1707e36ab0ee",
   "metadata": {},
   "outputs": [],
   "source": [
    "ipcc = ('IPCC 2021', 'climate change: fossil', 'global warming potential (GWP100)')"
   ]
  },
  {
   "cell_type": "code",
   "execution_count": 12,
   "id": "1e987a32-58cc-469d-9cce-933fb85bb2f6",
   "metadata": {},
   "outputs": [],
   "source": [
    "demand = {\n",
    "    my_configuration.steel_market: 20, \n",
    "    my_configuration.cement_market: 100\n",
    "}   "
   ]
  },
  {
   "cell_type": "code",
   "execution_count": 13,
   "id": "2306402a-76f4-4339-854b-51658ebf3c42",
   "metadata": {},
   "outputs": [],
   "source": [
    "fu, data_objs, remapping = bd.prepare_lca_inputs(demand=demand, method=ipcc)"
   ]
  },
  {
   "cell_type": "code",
   "execution_count": 14,
   "id": "1a060db2-4f9f-47b2-bf7a-0a8680e534ab",
   "metadata": {},
   "outputs": [],
   "source": [
    "fractions = np.linspace(0.05, 0.95, 10)\n",
    "scores = []\n",
    "\n",
    "for fraction in fractions:\n",
    "    # Can't reuse object because matrix changes each time\n",
    "    lca = bc.LCA(fu, data_objs = data_objs + [bo.generate_datapackage(fraction)], remapping_dicts=remapping)\n",
    "    lca.lci()\n",
    "    lca.lcia()  \n",
    "    scores.append(lca.score)"
   ]
  },
  {
   "cell_type": "code",
   "execution_count": 15,
   "id": "fb0026bf-a483-4769-8caf-570693df255c",
   "metadata": {},
   "outputs": [
    {
     "data": {
      "image/png": "[encoded data removed]",
      "text/plain": [
       "<Figure size 640x480 with 1 Axes>"
      ]
     },
     "metadata": {},
     "output_type": "display_data"
    }
   ],
   "source": [
    "sb.set_theme()\n",
    "sb.scatterplot(x=fractions, y=scores)\n",
    "plt.xlabel(\"Fraction of primary (blast oven) steel in market\")\n",
    "plt.ylabel(r\"GWP 100 $kg\\ CO_{2}-eq.$\")\n",
    "pass"
   ]
  },
  {
   "cell_type": "markdown",
   "id": "d6313d21-de6e-4273-9831-346121be5bdb",
   "metadata": {},
   "source": [
    "Make some changes to see differences just for cement with free fly ash"
   ]
  },
  {
   "cell_type": "code",
   "execution_count": 16,
   "id": "0103a183-0979-4ade-a5c9-866a919b4d2b",
   "metadata": {},
   "outputs": [],
   "source": [
    "demand = {\n",
    "    my_configuration.cement_market: 100\n",
    "}   "
   ]
  },
  {
   "cell_type": "code",
   "execution_count": 17,
   "id": "67b36ce3-0383-4e7e-8caa-ba27bc55a847",
   "metadata": {},
   "outputs": [],
   "source": [
    "fu, data_objs, remapping = bd.prepare_lca_inputs(demand=demand, method=ipcc)"
   ]
  },
  {
   "cell_type": "code",
   "execution_count": 18,
   "id": "c4be7317-045b-4796-bbdb-1dbed6532da8",
   "metadata": {},
   "outputs": [],
   "source": [
    "fractions = np.linspace(0.05, 0.95, 10)\n",
    "scores = []\n",
    "\n",
    "for fraction in fractions:\n",
    "    # Can't reuse object because matrix changes each time\n",
    "    lca = bc.LCA(fu, data_objs = data_objs + [bo.generate_datapackage(fraction)], remapping_dicts=remapping)\n",
    "    lca.lci()\n",
    "    lca.lcia()  \n",
    "    scores.append(lca.score)"
   ]
  },
  {
   "cell_type": "code",
   "execution_count": 19,
   "id": "2e2f5d75-da4e-4d99-bd42-26d88ea2077d",
   "metadata": {},
   "outputs": [
    {
     "data": {
      "image/png": "[encoded data removed]",
      "text/plain": [
       "<Figure size 640x480 with 1 Axes>"
      ]
     },
     "metadata": {},
     "output_type": "display_data"
    }
   ],
   "source": [
    "sb.set_theme()\n",
    "sb.scatterplot(x=fractions, y=scores)\n",
    "plt.xlabel(\"Fraction of primary steel in market\")\n",
    "plt.ylabel(r\"GWP 100 $kg\\ CO_{2}-eq.$\")\n",
    "pass"
   ]
  }
 ],
 "metadata": {
  "kernelspec": {
   "display_name": "Python [conda env:autumn_school]",
   "language": "python",
   "name": "conda-env-autumn_school-py"
  },
  "language_info": {
   "codemirror_mode": {
    "name": "ipython",
    "version": 3
   },
   "file_extension": ".py",
   "mimetype": "text/x-python",
   "name": "python",
   "nbconvert_exporter": "python",
   "pygments_lexer": "ipython3",
   "version": "3.11.6"
  }
 },
 "nbformat": 4,
 "nbformat_minor": 5
}
